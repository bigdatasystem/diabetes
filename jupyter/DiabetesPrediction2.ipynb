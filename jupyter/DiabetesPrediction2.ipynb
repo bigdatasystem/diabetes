{
 "cells": [
  {
   "cell_type": "code",
   "execution_count": 1,
   "metadata": {
    "collapsed": false
   },
   "outputs": [
    {
     "name": "stderr",
     "output_type": "stream",
     "text": [
      "/Users/janzaloudek/anaconda/lib/python3.6/site-packages/sklearn/cross_validation.py:44: DeprecationWarning: This module was deprecated in version 0.18 in favor of the model_selection module into which all the refactored classes and functions are moved. Also note that the interface of the new CV iterators are different from that of this module. This module will be removed in 0.20.\n",
      "  \"This module will be removed in 0.20.\", DeprecationWarning)\n"
     ]
    }
   ],
   "source": [
    "import pandas as pd\n",
    "import numpy as np\n",
    "from collections import defaultdict\n",
    "import matplotlib\n",
    "import matplotlib.pyplot as plt\n",
    "import os\n",
    "import re\n",
    "import scipy.stats as scs\n",
    "from scipy import spatial\n",
    "import sklearn\n",
    "from sklearn.metrics import *\n",
    "from sklearn.linear_model import LogisticRegression\n",
    "from sklearn.neighbors import KNeighborsClassifier\n",
    "from sklearn.naive_bayes import GaussianNB\n",
    "from sklearn.svm import SVC\n",
    "from sklearn.tree import DecisionTreeClassifier\n",
    "from sklearn.ensemble import RandomForestClassifier\n",
    "from sklearn.metrics import accuracy_score\n",
    "from sklearn.cross_validation import cross_val_score\n",
    "from sklearn.cross_validation import train_test_split\n",
    "from patsy import dmatrices\n",
    "import seaborn as sns"
   ]
  },
  {
   "cell_type": "code",
   "execution_count": 2,
   "metadata": {
    "collapsed": true
   },
   "outputs": [],
   "source": [
    "os.chdir('/Users/janzaloudek/Development/Skola/umass/diabetes/jupyter/trainingSet')\n",
    "diagnosisT = pd.read_csv('training_SyncDiagnosis.csv')\n",
    "allergyT = pd.read_csv('training_SyncAllergy.csv')\n",
    "immunT = pd.read_csv('training_SyncImmunization.csv')\n",
    "labObsT = pd.read_csv('training_SyncLabObservation.csv')\n",
    "labPanT = pd.read_csv('training_SyncLabPanel.csv')\n",
    "labResT = pd.read_csv('training_SyncLabResult.csv')\n",
    "medicationT = pd.read_csv('training_SyncMedication.csv')\n",
    "patientT = pd.read_csv('training_SyncPatient.csv')\n",
    "patientCondT = pd.read_csv('training_SyncPatientCondition.csv')\n",
    "smokingT = pd.read_csv('training_SyncPatientSmokingStatus.csv')\n",
    "prescripT = pd.read_csv('training_SyncPrescription.csv')\n",
    "trnscrpT = pd.read_csv('training_SyncTranscript.csv')\n",
    "trnscrpAT = pd.read_csv('training_SyncTranscriptAllergy.csv')\n",
    "trnscrpDT = pd.read_csv('training_SyncTranscriptDiagnosis.csv')\n",
    "trnscrptMT = pd.read_csv('training_SyncTranscriptMedication.csv')\n",
    "myfileT = pd.read_csv('myfile.csv', header=None)\n",
    "conditionT = pd.read_csv('SyncCondition.csv')\n",
    "smokingT = pd.read_csv('SyncSmokingStatus.csv')"
   ]
  },
  {
   "cell_type": "markdown",
   "metadata": {},
   "source": [
    "#Section 1. Data Procession\n",
    "\n",
    "BMI, Blood Pressure, Diseases"
   ]
  },
  {
   "cell_type": "code",
   "execution_count": 3,
   "metadata": {
    "collapsed": true
   },
   "outputs": [],
   "source": [
    "def makeBMI():\n",
    "    trnscrpT['BMI'] = trnscrpT['BMI'].replace(0.000, np.nan)\n",
    "    bmi1 = trnscrpT.groupby(['PatientGuid'])['BMI'].mean()\n",
    "    bmi2 = trnscrpT.groupby(['PatientGuid'])['BMI'].max()\n",
    "    bmi3 = trnscrpT.groupby(['PatientGuid'])['BMI'].min()\n",
    "    bmi = pd.concat([bmi1, bmi2, bmi3], axis = 1)\n",
    "    bmi.columns = ['MeanBMI', 'MaxBMI', 'MinBMI']\n",
    "    bmi['isOverweight'] = 0\n",
    "    bmi['isObese'] = 0\n",
    "    bmi.loc[(bmi['MeanBMI'] >= 25) & (bmi['MeanBMI'] < 30), 'isOverweight'] = 1\n",
    "    bmi.loc[bmi['MeanBMI'] >= 30, 'isObese'] = 1\n",
    "    bmi['BMIDiff'] = np.abs(bmi['MaxBMI'] - bmi['MinBMI'])\n",
    "    bmi = bmi.reset_index()\n",
    "    return bmi"
   ]
  },
  {
   "cell_type": "code",
   "execution_count": 4,
   "metadata": {
    "collapsed": true
   },
   "outputs": [],
   "source": [
    "def makeBP():\n",
    "    bloodpressure1 = trnscrpT.groupby(['PatientGuid'])[['SystolicBP', 'DiastolicBP']].mean()\n",
    "    bloodpressure2 = trnscrpT.groupby(['PatientGuid'])[['SystolicBP', 'DiastolicBP']].max()\n",
    "    bloodpressure3 = trnscrpT.groupby(['PatientGuid'])[['SystolicBP', 'DiastolicBP']].min()\n",
    "    bloodpressure = pd.concat([bloodpressure1, bloodpressure2, bloodpressure3], axis = 1)\n",
    "    bloodpressure.columns = ['meanSystolicBP', 'meanDiastolicBP', 'maxSystolicBP', 'maxDiastolicBP', 'minSystolicBP', 'minDiastolicBP']\n",
    "    bloodpressure['SystDiff'] = np.abs(bloodpressure['maxSystolicBP'] - bloodpressure['minSystolicBP'])\n",
    "    bloodpressure['DiastDiff'] = np.abs(bloodpressure['maxDiastolicBP'] - bloodpressure['minDiastolicBP'])\n",
    "    bloodpressure['isPreHyp'] = 0\n",
    "    bloodpressure['isStage1HBP'] = 0\n",
    "    bloodpressure['isStage2HBP'] = 0\n",
    "    bloodpressure.loc[((bloodpressure['meanSystolicBP'] >= 120) & (bloodpressure['meanSystolicBP'] < 140)) | ((bloodpressure['meanDiastolicBP'] >= 80) & (bloodpressure['meanDiastolicBP'] < 90)), 'isPreHyp'] = 1\n",
    "    bloodpressure.loc[((bloodpressure['meanSystolicBP'] >= 140) & (bloodpressure['meanSystolicBP'] < 160)) | ((bloodpressure['meanDiastolicBP'] >= 90) & (bloodpressure['meanDiastolicBP'] < 100)), 'isStage1HBP'] = 1\n",
    "    bloodpressure.loc[(bloodpressure['meanSystolicBP'] >= 160) | (bloodpressure['meanDiastolicBP'] >= 100), 'isStage2HBP'] = 1\n",
    "    bloodpressure.loc[bloodpressure['isStage2HBP'] == 1, 'isStage1HBP'] = 0\n",
    "    bloodpressure.loc[bloodpressure['isStage1HBP'] == 1, 'isPreHyp'] = 0\n",
    "    bloodpressure = bloodpressure.reset_index()\n",
    "    return bloodpressure"
   ]
  },
  {
   "cell_type": "code",
   "execution_count": 5,
   "metadata": {
    "collapsed": true
   },
   "outputs": [],
   "source": [
    "def makeConditions():\n",
    "    diaganalysis = pd.merge(patientT, diagnosisT, on=['PatientGuid'])\n",
    "    chidata = diaganalysis[['PatientGuid', 'DMIndicator', 'ICD9Code']].drop_duplicates()\n",
    "    chidata.index = chidata['PatientGuid']\n",
    "    dummies = pd.get_dummies(chidata['ICD9Code']).reset_index()\n",
    "    dummies = dummies.groupby(['PatientGuid'])[dummies.columns[1:]].sum()\n",
    "    dummies = dummies.replace(2, 1)\n",
    "    chidata = chidata[['PatientGuid', 'DMIndicator']]\n",
    "    chidata = chidata.drop_duplicates()\n",
    "    chidata = pd.concat([chidata, dummies], axis=1)\n",
    "    chidata['DMIndicator'] = chidata['DMIndicator'].astype(float)\n",
    "    return chidata"
   ]
  },
  {
   "cell_type": "code",
   "execution_count": 6,
   "metadata": {
    "collapsed": true
   },
   "outputs": [],
   "source": [
    "def heartDisease(text):\n",
    "    if bool(re.match('41[0-4]|42[0-5]|427|429|74[5-6]', text)) == True:\n",
    "        return 1\n",
    "    return 0\n",
    "def CAD(text):\n",
    "    if bool(re.match('41[0-4]|429', text)) == True:\n",
    "        return 1\n",
    "    return 0\n",
    "def cardiomyopathy(text):\n",
    "    if bool(re.match('42[0-5]', text)) == True:\n",
    "        return 1\n",
    "    return 0\n",
    "def CHF(text):\n",
    "    if bool(re.match('426', text)) == True:\n",
    "        return 1\n",
    "    return 0\n",
    "def arrhythmias(text):\n",
    "    if bool(re.match('427', text)) == True:\n",
    "        return 1\n",
    "    return 0\n",
    "def heartdefects(text):\n",
    "    if bool(re.match('74[5-6]', text)) == True:\n",
    "        return 1\n",
    "    return 0\n",
    "def stroke(text):\n",
    "    if bool(re.match('43[0-1]|43[3-6]|997.02', text)) == True:\n",
    "        return 1\n",
    "    return 0\n",
    "def sleepApnea(text):\n",
    "    if bool(re.match('727.23|780.57', text)) == True:\n",
    "        return 1\n",
    "    return 0\n",
    "def gestDiab(text):\n",
    "    if bool(re.match('648.8', text)) == True:\n",
    "        return 1\n",
    "    return 0\n",
    "def polyOvary(text):\n",
    "    if bool(re.match('256.4', text)) == True:\n",
    "        return 1\n",
    "    return 0\n",
    "def frozenShoulder(text):\n",
    "    if bool(re.match('726.0', text)) == True:\n",
    "        return 1\n",
    "    return 0\n",
    "def hemochr(text):\n",
    "    if bool(re.match('275.03', text)) == True:\n",
    "        return 1\n",
    "    return 0\n",
    "def hepatitis(text):\n",
    "    if bool(re.match('070.2|070.3', text)) == True:\n",
    "        return 1\n",
    "    return 0\n",
    "def diabCompl(text):\n",
    "    if bool(re.match('250.[1-3]|250.5|250.8|251.[0-2]|270.3|775.6|962.3', text)) == True:\n",
    "        return 1\n",
    "    return 0\n",
    "def kidneyFailure(text):\n",
    "    if bool(re.match('58[4-5]', text)) == True:\n",
    "        return 1\n",
    "    return 0\n",
    "def dementia(text):\n",
    "    if bool(re.match('331|290|294|797', text)) == True:\n",
    "        return 1\n",
    "    return 0\n",
    "def acanthosis(text):\n",
    "    if bool(re.match('701.2', text)) == True:\n",
    "        return 1\n",
    "    return 0\n",
    "def blindness(text):\n",
    "    if bool(re.match('369', text)) == True:\n",
    "        return 1\n",
    "    return 0\n",
    "def sDysfunction(text):\n",
    "    if bool(re.match('302.7', text)) == True:\n",
    "        return 1\n",
    "    return 0\n",
    "def preDiabetes(text):\n",
    "    if bool(re.match('790.29', text)) == True:\n",
    "        return 1\n",
    "    return 0"
   ]
  },
  {
   "cell_type": "code",
   "execution_count": 7,
   "metadata": {
    "collapsed": true
   },
   "outputs": [],
   "source": [
    "def ICD9Label(text):\n",
    "    if bool(re.match('14[0-9]|2[0-3][0-9]', text)) == True:\n",
    "        return 'neoplasms'\n",
    "    elif bool(re.match('2[4-7][0-9]', text)) == True:\n",
    "        return 'endoctrine'\n",
    "    elif bool(re.match('28[0-9]', text)) == True:\n",
    "        return 'blood'\n",
    "    elif bool(re.match('29[0-9]|3[0-1][0-9]', text)) == True:\n",
    "        return 'mental'\n",
    "    elif bool(re.match('3[2-5][0-9]', text)) == True:\n",
    "        return 'nervous'\n",
    "    elif bool(re.match('3[6-8][0-9]', text)) == True:\n",
    "        return 'sense'\n",
    "    elif bool(re.match('39[0-9]|4[0-5][0-9]', text)) == True:\n",
    "        return 'circulatory'\n",
    "    elif bool(re.match('4[6-9][0-9]|5[0-1][0-9]', text)) == True:\n",
    "        return 'respiratory'\n",
    "    elif bool(re.match('5[2-7][0-9]', text)) == True:\n",
    "        return 'digestive'\n",
    "    elif bool(re.match('5[8-9][0-9]|6[0-2][0-9]', text)) == True:\n",
    "        return 'genitourinary'\n",
    "    elif bool(re.match('6[3-7][0-9]', text)) == True:\n",
    "        return 'pregnancy'    \n",
    "    elif bool(re.match('6[8-9][0-9]|70[0-9]', text)) == True:\n",
    "        return 'skin'   \n",
    "    elif bool(re.match('7[1-3][0-9]', text)) == True:\n",
    "        return 'musculoskeletal'       \n",
    "    elif bool(re.match('7[4-5][0-9]', text)) == True:\n",
    "        return 'congenital' \n",
    "    elif bool(re.match('7[6-7][0-9]', text)) == True:\n",
    "        return 'perinatal' \n",
    "    elif bool(re.match('7[8-9][0-9]', text)) == True:\n",
    "        return 'symptoms or ill-defined' \n",
    "    elif bool(re.match('8[0-9][0-9]|9[0-9][0-9]', text)) == True:\n",
    "        return 'injuries' \n",
    "    elif bool(re.match('E|V', text)) == True:\n",
    "        return 'suppl' \n",
    "    else:\n",
    "        return 'infectious'"
   ]
  },
  {
   "cell_type": "code",
   "execution_count": 8,
   "metadata": {
    "collapsed": true
   },
   "outputs": [],
   "source": [
    "def stripPeriods(text):\n",
    "    result = re.sub('\\.', \"\", text)\n",
    "    return result"
   ]
  },
  {
   "cell_type": "code",
   "execution_count": 9,
   "metadata": {
    "collapsed": true
   },
   "outputs": [],
   "source": [
    "def makeSpecials():\n",
    "    data = diagnosisT.copy()\n",
    "    data['ICD9'] = data['ICD9Code'].apply(stripPeriods)\n",
    "    data['hasHeartDisease'] = data['ICD9Code'].apply(heartDisease)\n",
    "    data['hasCAD'] = data['ICD9Code'].apply(CAD)\n",
    "    data['hasCardiomyo'] = data['ICD9Code'].apply(cardiomyopathy)\n",
    "    data['hasArrhy'] = data['ICD9Code'].apply(arrhythmias)\n",
    "    data['hasHeartDefects'] = data['ICD9Code'].apply(heartdefects)\n",
    "    data['hasCHF'] = data['ICD9Code'].apply(CHF)\n",
    "    data['hasStroke'] = data['ICD9Code'].apply(stroke)\n",
    "    data['hasSleepA'] = data['ICD9Code'].apply(sleepApnea)\n",
    "    data['hasGestDiab'] = data['ICD9Code'].apply(gestDiab)\n",
    "    data['hasPolyO'] = data['ICD9Code'].apply(polyOvary)\n",
    "    data['hasFrozenShoulder'] = data['ICD9Code'].apply(frozenShoulder)\n",
    "    data['hasHemoChr'] = data['ICD9Code'].apply(hemochr)\n",
    "    data['hasHepatitis'] = data['ICD9Code'].apply(hepatitis)\n",
    "    data['hasDiabComp'] = data['ICD9Code'].apply(diabCompl)\n",
    "    data['hasKidneyF'] = data['ICD9Code'].apply(kidneyFailure)\n",
    "    data['hasDementia'] = data['ICD9Code'].apply(dementia)\n",
    "    data['hasAcanthosis'] = data['ICD9Code'].apply(acanthosis)\n",
    "    data['hasBlindness'] = data['ICD9Code'].apply(blindness)\n",
    "    data['hasSDysf'] = data['ICD9Code'].apply(sDysfunction)\n",
    "    data['hasPreDiab'] = data['ICD9Code'].apply(preDiabetes)\n",
    "    diagnosisSummary = data.groupby(['PatientGuid'])[['hasHeartDisease', 'hasCHF', 'hasStroke', 'hasSleepA', 'hasGestDiab','hasPolyO', 'hasFrozenShoulder', 'hasHemoChr','hasHepatitis', 'hasDiabComp', 'hasKidneyF', 'hasDementia','hasAcanthosis', 'hasBlindness' ,'hasSDysf', 'hasPreDiab']].max()\n",
    "    diagnosisSummary = diagnosisSummary.reset_index()\n",
    "    return diagnosisSummary"
   ]
  },
  {
   "cell_type": "code",
   "execution_count": 10,
   "metadata": {
    "collapsed": true
   },
   "outputs": [],
   "source": [
    "def getPatientAge():\n",
    "    data=patientT.copy()\n",
    "    data.drop('PracticeGuid', axis=1, inplace=True)\n",
    "    data.drop('State', axis=1, inplace=True)\n",
    "    data['Age'] = 2015 - data['YearOfBirth']\n",
    "    data.drop('YearOfBirth', axis=1, inplace=True)\n",
    "    return data"
   ]
  },
  {
   "cell_type": "code",
   "execution_count": 11,
   "metadata": {
    "collapsed": true
   },
   "outputs": [],
   "source": [
    "def makeICD9Labels():\n",
    "    data = diagnosisT.copy()\n",
    "    data['ICD9Label'] = data['ICD9Code'].apply(ICD9Label)\n",
    "    data['Counts'] = 1\n",
    "    ICD9Labeldata = data.groupby(['PatientGuid', 'ICD9Label'])['Counts'].max().reset_index().pivot('PatientGuid', 'ICD9Label', 'Counts').reset_index()\n",
    "    ICD9Labeldata = ICD9Labeldata.fillna(0)\n",
    "    return ICD9Labeldata"
   ]
  },
  {
   "cell_type": "code",
   "execution_count": 12,
   "metadata": {
    "collapsed": false
   },
   "outputs": [],
   "source": [
    "bloodpressure = makeBP()\n",
    "bmi = makeBMI()\n",
    "conditions = makeConditions()\n",
    "specials = makeSpecials()\n",
    "patients = getPatientAge()\n",
    "icd9lab = makeICD9Labels()"
   ]
  },
  {
   "cell_type": "code",
   "execution_count": 13,
   "metadata": {
    "collapsed": false
   },
   "outputs": [],
   "source": [
    "def makeSimilarity():\n",
    "    columns = conditions.columns[2:]\n",
    "    chitest = {}\n",
    "    cmatrix = {}\n",
    "    cos = {}\n",
    "    percent = {}\n",
    "    for column in columns:\n",
    "        cm = confusion_matrix(np.array(conditions['DMIndicator']), np.array(conditions[column]))\n",
    "        cmatrix[column] = cm\n",
    "        chitest[column]= scs.chi2_contingency(cm)[1]\n",
    "        cos[column] = 1 - spatial.distance.cosine(conditions['DMIndicator'], conditions[column])\n",
    "        percent[column] = float(cm[1][1])/(float(cm[0][1]) + float(cm[1][1]))\n",
    "    return cos, chitest, cmatrix, percent"
   ]
  },
  {
   "cell_type": "code",
   "execution_count": 14,
   "metadata": {
    "collapsed": false
   },
   "outputs": [],
   "source": [
    "cos = makeSimilarity()[0]"
   ]
  },
  {
   "cell_type": "code",
   "execution_count": 15,
   "metadata": {
    "collapsed": false
   },
   "outputs": [],
   "source": [
    "def getICD9(threshold=0.02):\n",
    "    ICD9 = []\n",
    "    for key in cos.keys():\n",
    "        if cos[key] > threshold:\n",
    "            ICD9.append(key)\n",
    "    return ICD9"
   ]
  },
  {
   "cell_type": "code",
   "execution_count": 16,
   "metadata": {
    "collapsed": false
   },
   "outputs": [
    {
     "name": "stdout",
     "output_type": "stream",
     "text": [
      "(9948, 12) (9948, 7) (9948, 17) (9948, 4) (9948, 3945) (9948, 20)\n"
     ]
    }
   ],
   "source": [
    "print(bloodpressure.shape, bmi.shape, specials.shape, patients.shape, conditions.shape, icd9lab.shape)"
   ]
  },
  {
   "cell_type": "code",
   "execution_count": 17,
   "metadata": {
    "collapsed": true
   },
   "outputs": [],
   "source": [
    "import sys\n",
    "sys.setrecursionlimit(10000)"
   ]
  },
  {
   "cell_type": "code",
   "execution_count": 18,
   "metadata": {
    "collapsed": false
   },
   "outputs": [],
   "source": [
    "def optimizer():\n",
    "    AUC = []\n",
    "    threshold = []\n",
    "        \n",
    "    for i in list(np.arange(0.01, max(cos.values()), 0.01)):\n",
    "        #piece together the datasets\n",
    "        ICD9 = getICD9(i)\n",
    "        newconditions = pd.concat([conditions['PatientGuid'], conditions[ICD9]], axis=1)\n",
    "        patientdata = pd.merge(patients, newconditions, how='inner', on =['PatientGuid'])\n",
    "        patientdata = pd.merge(patientdata, specials, how='inner', on =['PatientGuid'])\n",
    "        patientdata = pd.merge(patientdata, icd9lab, how='inner', on =['PatientGuid'])\n",
    "        patientdata = pd.merge(patientdata, bloodpressure, how='inner', on =['PatientGuid'])\n",
    "        patientdata = pd.merge(patientdata, bmi, how='inner', on =['PatientGuid'])\n",
    "\n",
    "        #create model variables\n",
    "        modelelements = '\") + Q(\"'.join(patientdata.columns[2:])\n",
    "        modelelements = 'Q(\"' + modelelements + '\")'\n",
    "        formula = 'DMIndicator ~ ' + modelelements\n",
    "        y, X = dmatrices(formula, data=patientdata, return_type='dataframe')\n",
    "        X = X.drop('Intercept', 1)\n",
    "\n",
    "        #setting up test train split\n",
    "        X_train, X_test, y_train, y_test = train_test_split(X, y, test_size=0.2, random_state=46)\n",
    "        X_train = np.array(X_train)\n",
    "        X_test = np.array(X_test)\n",
    "        y_train = np.array(y_train).ravel()\n",
    "        y_test = np.array(y_test).ravel()\n",
    "    \n",
    "        #run logistic regression\n",
    "        n_samples = X_train.shape[0]\n",
    "        model1 = LogisticRegression()\n",
    "        model1.fit(X_train, y_train)\n",
    "        y_pred_proba = model1.predict_proba(X_test)\n",
    "        #cv = sklearn.cross_validation.ShuffleSplit(n_samples, n_iter=20, test_size=0.2, random_state=1)\n",
    "        #logloss = sklearn.cross_validation.cross_val_score(model1, X_train, y_train, cv=cv, scoring='log_loss')\n",
    "        #mlogloss = -logloss.mean()\n",
    "        fpr, tpr, _ = sklearn.metrics.roc_curve(y_test, y_pred_proba[:,1])\n",
    "        auc = sklearn.metrics.auc(fpr, tpr)\n",
    "        #logloss = sklearn.metrics.log_loss(y_test, y_pred_proba[:,1])\n",
    "        \n",
    "        threshold.append(i)\n",
    "        AUC.append(auc)\n",
    "        \n",
    "    return threshold, AUC"
   ]
  },
  {
   "cell_type": "code",
   "execution_count": 19,
   "metadata": {
    "collapsed": false
   },
   "outputs": [],
   "source": [
    "threshold, AUC = optimizer()"
   ]
  },
  {
   "cell_type": "code",
   "execution_count": 20,
   "metadata": {
    "collapsed": false
   },
   "outputs": [
    {
     "data": {
      "text/plain": [
       "0.080000000000000002"
      ]
     },
     "execution_count": 20,
     "metadata": {},
     "output_type": "execute_result"
    }
   ],
   "source": [
    "bestthreshold = threshold[AUC.index(max(AUC))]\n",
    "bestthreshold"
   ]
  },
  {
   "cell_type": "code",
   "execution_count": null,
   "metadata": {
    "collapsed": false
   },
   "outputs": [],
   "source": [
    "%matplotlib inline\n",
    "matplotlib.style.use('ggplot')\n",
    "plt.plot(threshold, AUC)\n",
    "plt.show()"
   ]
  },
  {
   "cell_type": "code",
   "execution_count": 22,
   "metadata": {
    "collapsed": true
   },
   "outputs": [],
   "source": [
    "def makeData(threshold = 0.0001):\n",
    "    ICD9 = getICD9(threshold)\n",
    "    newconditions = pd.concat([conditions['PatientGuid'], conditions[ICD9]], axis=1)\n",
    "    patientdata = pd.merge(patients, newconditions, how='inner', on =['PatientGuid'])\n",
    "    patientdata = pd.merge(patientdata, specials, how='inner', on =['PatientGuid'])\n",
    "    patientdata = pd.merge(patientdata, icd9lab, how='inner', on =['PatientGuid'])\n",
    "    patientdata = pd.merge(patientdata, bloodpressure, how='inner', on =['PatientGuid'])\n",
    "    patientdata = pd.merge(patientdata, bmi, how='inner', on =['PatientGuid'])\n",
    "\n",
    "    #create model variables\n",
    "    modelelements = '\") + Q(\"'.join(patientdata.columns[2:])\n",
    "    modelelements = 'Q(\"' + modelelements + '\")'\n",
    "    formula = 'DMIndicator ~ ' + modelelements\n",
    "    y, X = dmatrices(formula, data=patientdata, return_type='dataframe')\n",
    "    X = X.drop('Intercept', 1)\n",
    "#     print(str(patientdata.columns))\n",
    "#     print(str(patientdata.columns[2:]))\n",
    "#     print(str(y))\n",
    "#     print(str(X))\n",
    "    print(X.shape)\n",
    "    print(y.shape)\n",
    "\n",
    "    #setting up test train split\n",
    "    X_train, X_test, y_train, y_test = train_test_split(X, y, test_size=0.2, random_state=46)\n",
    "    X_train = np.array(X_train)\n",
    "    X_test = np.array(X_test)\n",
    "    y_train = np.array(y_train).ravel()\n",
    "    y_test = np.array(y_test).ravel()\n",
    "    \n",
    "    return X_train, y_train, X_test, y_test"
   ]
  },
  {
   "cell_type": "code",
   "execution_count": 23,
   "metadata": {
    "collapsed": false
   },
   "outputs": [
    {
     "name": "stdout",
     "output_type": "stream",
     "text": [
      "(9947, 2324)\n",
      "(9947, 1)\n"
     ]
    }
   ],
   "source": [
    "X_train, y_train, X_test, y_test = makeData()"
   ]
  },
  {
   "cell_type": "markdown",
   "metadata": {},
   "source": [
    "Accuracy: Training (CV)"
   ]
  },
  {
   "cell_type": "code",
   "execution_count": 24,
   "metadata": {
    "collapsed": false
   },
   "outputs": [
    {
     "name": "stdout",
     "output_type": "stream",
     "text": [
      "0.816415410385\n"
     ]
    }
   ],
   "source": [
    "n_samples = X_train.shape[0]\n",
    "model1 = LogisticRegression()\n",
    "cv = sklearn.cross_validation.ShuffleSplit(n_samples, n_iter=10, test_size=0.3, random_state=1)\n",
    "scores = sklearn.cross_validation.cross_val_score(model1, X_train, y_train, cv=cv)\n",
    "print(scores.mean())"
   ]
  },
  {
   "cell_type": "markdown",
   "metadata": {},
   "source": [
    "Accuracy: Test"
   ]
  },
  {
   "cell_type": "code",
   "execution_count": 25,
   "metadata": {
    "collapsed": false
   },
   "outputs": [
    {
     "data": {
      "text/plain": [
       "0.82462311557788948"
      ]
     },
     "execution_count": 25,
     "metadata": {},
     "output_type": "execute_result"
    }
   ],
   "source": [
    "model1.fit(X_train, y_train)\n",
    "model1.score(X_test, y_test)"
   ]
  },
  {
   "cell_type": "code",
   "execution_count": null,
   "metadata": {
    "collapsed": false
   },
   "outputs": [],
   "source": [
    "y_pred = model1.predict(X_test)\n",
    "cm = confusion_matrix(y_test, y_pred)\n",
    "labelname = model1.classes_\n",
    "sns.heatmap(cm, annot=True,  fmt='', xticklabels=labelname, yticklabels=labelname)"
   ]
  },
  {
   "cell_type": "markdown",
   "metadata": {},
   "source": [
    "Classification Report"
   ]
  },
  {
   "cell_type": "code",
   "execution_count": 27,
   "metadata": {
    "collapsed": false
   },
   "outputs": [
    {
     "name": "stdout",
     "output_type": "stream",
     "text": [
      "             precision    recall  f1-score   support\n",
      "\n",
      "        0.0       0.85      0.95      0.90      1603\n",
      "        1.0       0.60      0.30      0.40       387\n",
      "\n",
      "avg / total       0.80      0.82      0.80      1990\n",
      "\n"
     ]
    }
   ],
   "source": [
    "report = classification_report(y_test.ravel(), y_pred)\n",
    "print(report)"
   ]
  },
  {
   "cell_type": "markdown",
   "metadata": {},
   "source": [
    "ROC"
   ]
  },
  {
   "cell_type": "code",
   "execution_count": 28,
   "metadata": {
    "collapsed": true
   },
   "outputs": [
    {
     "data": {
      "text/plain": [
       "<matplotlib.legend.Legend at 0x11c7ff358>"
      ]
     },
     "execution_count": 28,
     "metadata": {},
     "output_type": "execute_result"
    },
    {
     "data": {
      "image/png": "[encoded data removed]",
      "text/plain": [
       "<matplotlib.figure.Figure at 0x11c7ff2e8>"
      ]
     },
     "metadata": {},
     "output_type": "display_data"
    }
   ],
   "source": [
    "y_pred_proba = model1.predict_proba(X_test)\n",
    "fpr, tpr, _ = sklearn.metrics.roc_curve(y_test, y_pred_proba[:,1])\n",
    "roc_rates = [fpr, tpr]\n",
    "auc = sklearn.metrics.auc(fpr, tpr)\n",
    "plt.title(\"Logistic Regression\", fontsize = 20)\n",
    "plt.xlabel(\"False positive rate\")\n",
    "plt.ylabel(\"True positive rate\")\n",
    "labelname = \"Logistic Regression\" + \", (area = %0.4f)\" % auc\n",
    "plt.plot(roc_rates[0], roc_rates[1], linewidth = 2, label = labelname)\n",
    "plt.legend(loc = 4)"
   ]
  },
  {
   "cell_type": "markdown",
   "metadata": {},
   "source": [
    "Log Loss: Testing"
   ]
  },
  {
   "cell_type": "code",
   "execution_count": 29,
   "metadata": {
    "collapsed": false
   },
   "outputs": [
    {
     "data": {
      "text/plain": [
       "0.37902851212998018"
      ]
     },
     "execution_count": 29,
     "metadata": {},
     "output_type": "execute_result"
    }
   ],
   "source": [
    "sklearn.metrics.log_loss(y_test, y_pred_proba[:,1])"
   ]
  },
  {
   "cell_type": "code",
   "execution_count": 46,
   "metadata": {
    "collapsed": false
   },
   "outputs": [],
   "source": [
    "from sklearn.preprocessing import normalize\n",
    "from keras.utils import to_categorical\n",
    "X_train.shape\n",
    "X_train_norm = normalize(X_train)\n",
    "y_train_norm = to_categorical(y_train, num_classes=2)"
   ]
  },
  {
   "cell_type": "code",
   "execution_count": 61,
   "metadata": {
    "collapsed": false
   },
   "outputs": [
    {
     "name": "stdout",
     "output_type": "stream",
     "text": [
      "Epoch 1/80\n",
      "5s - loss: 0.4690 - acc: 0.8092 - binary_accuracy: 0.8092\n",
      "Epoch 2/80\n",
      "7s - loss: 0.4394 - acc: 0.8094 - binary_accuracy: 0.8094\n",
      "Epoch 3/80\n",
      "8s - loss: 0.4207 - acc: 0.8091 - binary_accuracy: 0.8091\n",
      "Epoch 4/80\n",
      "9s - loss: 0.4146 - acc: 0.8144 - binary_accuracy: 0.8144\n",
      "Epoch 5/80\n",
      "9s - loss: 0.4091 - acc: 0.8139 - binary_accuracy: 0.8139\n",
      "Epoch 6/80\n",
      "11s - loss: 0.4000 - acc: 0.8194 - binary_accuracy: 0.8194\n",
      "Epoch 7/80\n",
      "13s - loss: 0.3933 - acc: 0.8225 - binary_accuracy: 0.8225\n",
      "Epoch 8/80\n",
      "15s - loss: 0.3916 - acc: 0.8261 - binary_accuracy: 0.8261\n",
      "Epoch 9/80\n",
      "16s - loss: 0.3880 - acc: 0.8295 - binary_accuracy: 0.8295\n",
      "Epoch 10/80\n",
      "17s - loss: 0.3830 - acc: 0.8278 - binary_accuracy: 0.8278\n",
      "Epoch 11/80\n",
      "19s - loss: 0.3788 - acc: 0.8251 - binary_accuracy: 0.8251\n",
      "Epoch 12/80\n",
      "17s - loss: 0.3738 - acc: 0.8268 - binary_accuracy: 0.8268\n",
      "Epoch 13/80\n",
      "18s - loss: 0.3753 - acc: 0.8306 - binary_accuracy: 0.8306\n",
      "Epoch 14/80\n",
      "18s - loss: 0.3723 - acc: 0.8301 - binary_accuracy: 0.8301\n",
      "Epoch 15/80\n",
      "19s - loss: 0.3670 - acc: 0.8323 - binary_accuracy: 0.8323\n",
      "Epoch 16/80\n",
      "18s - loss: 0.3663 - acc: 0.8356 - binary_accuracy: 0.8356\n",
      "Epoch 17/80\n",
      "18s - loss: 0.3660 - acc: 0.8354 - binary_accuracy: 0.8354\n",
      "Epoch 18/80\n",
      "18s - loss: 0.3600 - acc: 0.8400 - binary_accuracy: 0.8400\n",
      "Epoch 19/80\n",
      "18s - loss: 0.3636 - acc: 0.8374 - binary_accuracy: 0.8374\n",
      "Epoch 20/80\n",
      "19s - loss: 0.3564 - acc: 0.8403 - binary_accuracy: 0.8403\n",
      "Epoch 21/80\n",
      "18s - loss: 0.3534 - acc: 0.8386 - binary_accuracy: 0.8386\n",
      "Epoch 22/80\n",
      "19s - loss: 0.3556 - acc: 0.8424 - binary_accuracy: 0.8424\n",
      "Epoch 23/80\n",
      "19s - loss: 0.3512 - acc: 0.8418 - binary_accuracy: 0.8418\n",
      "Epoch 24/80\n",
      "19s - loss: 0.3540 - acc: 0.8410 - binary_accuracy: 0.8410\n",
      "Epoch 25/80\n",
      "19s - loss: 0.3455 - acc: 0.8405 - binary_accuracy: 0.8405\n",
      "Epoch 26/80\n",
      "19s - loss: 0.3475 - acc: 0.8422 - binary_accuracy: 0.8422\n",
      "Epoch 27/80\n",
      "24s - loss: 0.3443 - acc: 0.8453 - binary_accuracy: 0.8453\n",
      "Epoch 28/80\n",
      "21s - loss: 0.3412 - acc: 0.8462 - binary_accuracy: 0.8462\n",
      "Epoch 29/80\n",
      "20s - loss: 0.3426 - acc: 0.8454 - binary_accuracy: 0.8454\n",
      "Epoch 30/80\n",
      "21s - loss: 0.3364 - acc: 0.8472 - binary_accuracy: 0.8472\n",
      "Epoch 31/80\n",
      "20s - loss: 0.3345 - acc: 0.8521 - binary_accuracy: 0.8521\n",
      "Epoch 32/80\n",
      "20s - loss: 0.3395 - acc: 0.8507 - binary_accuracy: 0.8507\n",
      "Epoch 33/80\n",
      "20s - loss: 0.3326 - acc: 0.8489 - binary_accuracy: 0.8489\n",
      "Epoch 34/80\n",
      "22s - loss: 0.3345 - acc: 0.8491 - binary_accuracy: 0.8491\n",
      "Epoch 35/80\n",
      "20s - loss: 0.3304 - acc: 0.8550 - binary_accuracy: 0.8550\n",
      "Epoch 36/80\n",
      "20s - loss: 0.3303 - acc: 0.8513 - binary_accuracy: 0.8513\n",
      "Epoch 37/80\n",
      "21s - loss: 0.3280 - acc: 0.8532 - binary_accuracy: 0.8532\n",
      "Epoch 38/80\n",
      "21s - loss: 0.3265 - acc: 0.8531 - binary_accuracy: 0.8531\n",
      "Epoch 39/80\n",
      "21s - loss: 0.3266 - acc: 0.8515 - binary_accuracy: 0.8515\n",
      "Epoch 40/80\n",
      "21s - loss: 0.3220 - acc: 0.8547 - binary_accuracy: 0.8547\n",
      "Epoch 41/80\n",
      "21s - loss: 0.3235 - acc: 0.8560 - binary_accuracy: 0.8560\n",
      "Epoch 42/80\n",
      "21s - loss: 0.3196 - acc: 0.8546 - binary_accuracy: 0.8546\n",
      "Epoch 43/80\n",
      "21s - loss: 0.3230 - acc: 0.8553 - binary_accuracy: 0.8553\n",
      "Epoch 44/80\n",
      "21s - loss: 0.3175 - acc: 0.8613 - binary_accuracy: 0.8613\n",
      "Epoch 45/80\n",
      "21s - loss: 0.3169 - acc: 0.8575 - binary_accuracy: 0.8575\n",
      "Epoch 46/80\n",
      "21s - loss: 0.3155 - acc: 0.8608 - binary_accuracy: 0.8608\n",
      "Epoch 47/80\n",
      "21s - loss: 0.3161 - acc: 0.8636 - binary_accuracy: 0.8636\n",
      "Epoch 48/80\n",
      "21s - loss: 0.3099 - acc: 0.8614 - binary_accuracy: 0.8614\n",
      "Epoch 49/80\n",
      "21s - loss: 0.3103 - acc: 0.8605 - binary_accuracy: 0.8605\n",
      "Epoch 50/80\n",
      "21s - loss: 0.3079 - acc: 0.8634 - binary_accuracy: 0.8634\n",
      "Epoch 51/80\n",
      "21s - loss: 0.3138 - acc: 0.8652 - binary_accuracy: 0.8652\n",
      "Epoch 52/80\n",
      "21s - loss: 0.3068 - acc: 0.8619 - binary_accuracy: 0.8619\n",
      "Epoch 53/80\n",
      "21s - loss: 0.3087 - acc: 0.8645 - binary_accuracy: 0.8645\n",
      "Epoch 54/80\n",
      "23s - loss: 0.3027 - acc: 0.8654 - binary_accuracy: 0.8654\n",
      "Epoch 55/80\n",
      "23s - loss: 0.3051 - acc: 0.8664 - binary_accuracy: 0.8664\n",
      "Epoch 56/80\n",
      "21s - loss: 0.3000 - acc: 0.8690 - binary_accuracy: 0.8690\n",
      "Epoch 57/80\n",
      "21s - loss: 0.2971 - acc: 0.8692 - binary_accuracy: 0.8692\n",
      "Epoch 58/80\n",
      "21s - loss: 0.2937 - acc: 0.8736 - binary_accuracy: 0.8736\n",
      "Epoch 59/80\n",
      "22s - loss: 0.2923 - acc: 0.8727 - binary_accuracy: 0.8727\n",
      "Epoch 60/80\n",
      "22s - loss: 0.2946 - acc: 0.8702 - binary_accuracy: 0.8702\n",
      "Epoch 61/80\n",
      "22s - loss: 0.2922 - acc: 0.8719 - binary_accuracy: 0.8719\n",
      "Epoch 62/80\n",
      "22s - loss: 0.2905 - acc: 0.8734 - binary_accuracy: 0.8734\n",
      "Epoch 63/80\n",
      "22s - loss: 0.2886 - acc: 0.8697 - binary_accuracy: 0.8697\n",
      "Epoch 64/80\n",
      "29s - loss: 0.2940 - acc: 0.8701 - binary_accuracy: 0.8701\n",
      "Epoch 65/80\n",
      "30s - loss: 0.2866 - acc: 0.8722 - binary_accuracy: 0.8722\n",
      "Epoch 66/80\n",
      "23s - loss: 0.2889 - acc: 0.8739 - binary_accuracy: 0.8739\n",
      "Epoch 67/80\n",
      "23s - loss: 0.2880 - acc: 0.8755 - binary_accuracy: 0.8755\n",
      "Epoch 68/80\n",
      "23s - loss: 0.2811 - acc: 0.8768 - binary_accuracy: 0.8768\n",
      "Epoch 69/80\n",
      "23s - loss: 0.2836 - acc: 0.8767 - binary_accuracy: 0.8767\n",
      "Epoch 70/80\n",
      "23s - loss: 0.2843 - acc: 0.8750 - binary_accuracy: 0.8750\n",
      "Epoch 71/80\n",
      "23s - loss: 0.2772 - acc: 0.8785 - binary_accuracy: 0.8785\n",
      "Epoch 72/80\n",
      "23s - loss: 0.2758 - acc: 0.8786 - binary_accuracy: 0.8786\n",
      "Epoch 73/80\n",
      "23s - loss: 0.2796 - acc: 0.8792 - binary_accuracy: 0.8792\n",
      "Epoch 74/80\n",
      "23s - loss: 0.2775 - acc: 0.8782 - binary_accuracy: 0.8782\n",
      "Epoch 75/80\n",
      "23s - loss: 0.2737 - acc: 0.8806 - binary_accuracy: 0.8806\n",
      "Epoch 76/80\n",
      "23s - loss: 0.2765 - acc: 0.8816 - binary_accuracy: 0.8816\n",
      "Epoch 77/80\n",
      "26s - loss: 0.2693 - acc: 0.8848 - binary_accuracy: 0.8848\n",
      "Epoch 78/80\n",
      "25s - loss: 0.2689 - acc: 0.8822 - binary_accuracy: 0.8822\n",
      "Epoch 79/80\n",
      "24s - loss: 0.2651 - acc: 0.8855 - binary_accuracy: 0.8855\n",
      "Epoch 80/80\n",
      "24s - loss: 0.2723 - acc: 0.8832 - binary_accuracy: 0.8832\n"
     ]
    }
   ],
   "source": [
    "from keras.models import Sequential\n",
    "from keras.layers import Dense, Activation\n",
    "\n",
    "model = Sequential([\n",
    "    Dense(1000, input_dim=2324),\n",
    "    Activation('relu'),\n",
    "    Dense(500),\n",
    "    Activation('relu'),\n",
    "    Dense(100),\n",
    "    Activation('relu'),\n",
    "    Dense(2),\n",
    "    Activation('softmax')\n",
    "])\n",
    "\n",
    "model.compile(optimizer='rmsprop',\n",
    "              loss='binary_crossentropy',\n",
    "              metrics=['accuracy', 'binary_accuracy'])\n",
    "\n",
    "nn_history = model.fit(X_train_norm, y_train_norm, epochs=80, batch_size=64, verbose=2)"
   ]
  },
  {
   "cell_type": "code",
   "execution_count": 64,
   "metadata": {
    "collapsed": false
   },
   "outputs": [
    {
     "name": "stdout",
     "output_type": "stream",
     "text": [
      "1760/1990 [=========================>....] - ETA: 0s\b\b\b\b\b\b\b\b\b\b\b\b\b\b\b\b\b\b\b\b\b\b\b\b\b\b\b\b\b\b\b\b\b\b\b\b\b\b\b\b\b\b\b\b\b\b\b\b\b\b\b\b\b\b\b\b\b\b\b\b\b\b\b\b\b\b\b\b\b\b\b\b\b\b\b\b\b\b\b\b\b\b\b\b\b\b\b\b\b\b\b\b\b\b\b\b\b\b\b\b\b\b\b\b\b\b\b\b\b\b\b\b\b\b\b\b\b\b\b\b\b\b\b\b\b\b\b\b\b\b\b\b\b\b\b\b\b\b\b\b\b\b\b\b\b\b\b\b\b\b\b\b\b\b\b\b\b\b\b\b\b\b\b\b\b\b\b\b\b\b\b\b\b\b\b\b\b\b\b\b\b\b\b\b\b\b\b\b\b\b\b\b\b\b\b\b\b\b\b\b\b\b\b\b\b\b\b\b\b\b\b\b\b\b\b\b\b\b\b\b\b\b\b\b\b\b\b\b\b\b\b\b\b\b\b\b\b\b\b\b\b\b\b\b\b\b\b\b\b\b\b\b\b\b\b\b\b\b\b\b\b\b\b\b\b\b\b\b\b\b\b\b\b\b\b\b\b\b\b\b\b\b\b\b\b\b\b\b\b\b\b\b\b\b\b\b\b\b\b\b\b\b\b\b\b\b\b\b\b\b\b\b"
     ]
    },
    {
     "data": {
      "text/plain": [
       "[0.55086225804372047, 0.81658291457286436, 0.81658291457286436]"
      ]
     },
     "execution_count": 64,
     "metadata": {},
     "output_type": "execute_result"
    }
   ],
   "source": [
    "X_test_norm = normalize(X_test)\n",
    "y_test_norm = to_categorical(y_test, num_classes=2)\n",
    "score = model.evaluate(X_test_norm, y_test_norm)\n",
    "score"
   ]
  },
  {
   "cell_type": "code",
   "execution_count": 1,
   "metadata": {
    "collapsed": false
   },
   "outputs": [
    {
     "ename": "NameError",
     "evalue": "name 'nn_history' is not defined",
     "output_type": "error",
     "traceback": [
      "\u001b[0;31m---------------------------------------------------------------------------\u001b[0m",
      "\u001b[0;31mNameError\u001b[0m                                 Traceback (most recent call last)",
      "\u001b[0;32m<ipython-input-1-7ffd4777da76>\u001b[0m in \u001b[0;36m<module>\u001b[0;34m()\u001b[0m\n\u001b[0;32m----> 1\u001b[0;31m \u001b[0mprint\u001b[0m\u001b[0;34m(\u001b[0m\u001b[0mnn_history\u001b[0m\u001b[0;34m.\u001b[0m\u001b[0mepoch\u001b[0m\u001b[0;34m)\u001b[0m\u001b[0;34m\u001b[0m\u001b[0m\n\u001b[0m\u001b[1;32m      2\u001b[0m \u001b[0;31m# summarize history for accuracy\u001b[0m\u001b[0;34m\u001b[0m\u001b[0;34m\u001b[0m\u001b[0m\n\u001b[1;32m      3\u001b[0m \u001b[0mplt\u001b[0m\u001b[0;34m.\u001b[0m\u001b[0mplot\u001b[0m\u001b[0;34m(\u001b[0m\u001b[0mnn_history\u001b[0m\u001b[0;34m.\u001b[0m\u001b[0mhistory\u001b[0m\u001b[0;34m[\u001b[0m\u001b[0;34m'acc'\u001b[0m\u001b[0;34m]\u001b[0m\u001b[0;34m)\u001b[0m\u001b[0;34m\u001b[0m\u001b[0m\n\u001b[1;32m      4\u001b[0m \u001b[0mplt\u001b[0m\u001b[0;34m.\u001b[0m\u001b[0mplot\u001b[0m\u001b[0;34m(\u001b[0m\u001b[0mnn_history\u001b[0m\u001b[0;34m.\u001b[0m\u001b[0mhistory\u001b[0m\u001b[0;34m[\u001b[0m\u001b[0;34m'val_acc'\u001b[0m\u001b[0;34m]\u001b[0m\u001b[0;34m)\u001b[0m\u001b[0;34m\u001b[0m\u001b[0m\n\u001b[1;32m      5\u001b[0m \u001b[0mplt\u001b[0m\u001b[0;34m.\u001b[0m\u001b[0mtitle\u001b[0m\u001b[0;34m(\u001b[0m\u001b[0;34m'model accuracy'\u001b[0m\u001b[0;34m)\u001b[0m\u001b[0;34m\u001b[0m\u001b[0m\n",
      "\u001b[0;31mNameError\u001b[0m: name 'nn_history' is not defined"
     ]
    }
   ],
   "source": [
    "print(nn_history.epoch)\n",
    "# summarize history for accuracy\n",
    "plt.plot(nn_history.history['acc'])\n",
    "plt.plot(nn_history.history['val_acc'])\n",
    "plt.title('model accuracy')\n",
    "plt.ylabel('accuracy')\n",
    "plt.xlabel('epoch')\n",
    "plt.legend(['train', 'test'], loc='upper left')\n",
    "plt.show()\n",
    "# summarize history for loss\n",
    "plt.plot(nn_history.history['loss'])\n",
    "plt.plot(nn_history.history['val_loss'])\n",
    "plt.title('model loss')\n",
    "plt.ylabel('loss')\n",
    "plt.xlabel('epoch')\n",
    "plt.legend(['train', 'test'], loc='upper left')\n",
    "plt.show()"
   ]
  },
  {
   "cell_type": "code",
   "execution_count": 74,
   "metadata": {
    "collapsed": false
   },
   "outputs": [
    {
     "name": "stdout",
     "output_type": "stream",
     "text": [
      "Train on 7957 samples, validate on 1990 samples\n",
      "Epoch 1/80\n",
      "25s - loss: 0.2641 - acc: 0.8878 - binary_accuracy: 0.8878 - val_loss: 0.7056 - val_acc: 0.8181 - val_binary_accuracy: 0.8181\n",
      "Epoch 2/80\n",
      "25s - loss: 0.2565 - acc: 0.8897 - binary_accuracy: 0.8897 - val_loss: 0.6069 - val_acc: 0.8206 - val_binary_accuracy: 0.8206\n",
      "Epoch 3/80\n",
      "25s - loss: 0.2625 - acc: 0.8864 - binary_accuracy: 0.8864 - val_loss: 0.5334 - val_acc: 0.8236 - val_binary_accuracy: 0.8236\n",
      "Epoch 4/80\n",
      "25s - loss: 0.2564 - acc: 0.8899 - binary_accuracy: 0.8899 - val_loss: 1.2399 - val_acc: 0.6151 - val_binary_accuracy: 0.6151\n",
      "Epoch 5/80\n",
      "25s - loss: 0.2568 - acc: 0.8860 - binary_accuracy: 0.8860 - val_loss: 0.5592 - val_acc: 0.8141 - val_binary_accuracy: 0.8141\n",
      "Epoch 6/80\n",
      "25s - loss: 0.2562 - acc: 0.8905 - binary_accuracy: 0.8905 - val_loss: 0.6197 - val_acc: 0.8181 - val_binary_accuracy: 0.8181\n",
      "Epoch 7/80\n",
      "25s - loss: 0.2555 - acc: 0.8874 - binary_accuracy: 0.8874 - val_loss: 0.6959 - val_acc: 0.7789 - val_binary_accuracy: 0.7789\n",
      "Epoch 8/80\n",
      "26s - loss: 0.2572 - acc: 0.8917 - binary_accuracy: 0.8917 - val_loss: 0.7386 - val_acc: 0.7548 - val_binary_accuracy: 0.7548\n",
      "Epoch 9/80\n",
      "28s - loss: 0.2607 - acc: 0.8895 - binary_accuracy: 0.8895 - val_loss: 0.5091 - val_acc: 0.8226 - val_binary_accuracy: 0.8226\n",
      "Epoch 10/80\n",
      "27s - loss: 0.2427 - acc: 0.8932 - binary_accuracy: 0.8932 - val_loss: 0.6121 - val_acc: 0.8171 - val_binary_accuracy: 0.8171\n",
      "Epoch 11/80\n",
      "26s - loss: 0.2504 - acc: 0.8920 - binary_accuracy: 0.8920 - val_loss: 0.5473 - val_acc: 0.8201 - val_binary_accuracy: 0.8201\n",
      "Epoch 12/80\n",
      "29s - loss: 0.2499 - acc: 0.8919 - binary_accuracy: 0.8919 - val_loss: 0.7021 - val_acc: 0.8116 - val_binary_accuracy: 0.8116\n",
      "Epoch 13/80\n",
      "32s - loss: 0.2473 - acc: 0.8972 - binary_accuracy: 0.8972 - val_loss: 0.5353 - val_acc: 0.8101 - val_binary_accuracy: 0.8101\n",
      "Epoch 14/80\n",
      "30s - loss: 0.2424 - acc: 0.8948 - binary_accuracy: 0.8948 - val_loss: 0.6251 - val_acc: 0.8196 - val_binary_accuracy: 0.8196\n",
      "Epoch 15/80\n",
      "26s - loss: 0.2502 - acc: 0.8928 - binary_accuracy: 0.8928 - val_loss: 0.5526 - val_acc: 0.8136 - val_binary_accuracy: 0.8136\n",
      "Epoch 16/80\n",
      "27s - loss: 0.2405 - acc: 0.8983 - binary_accuracy: 0.8983 - val_loss: 0.6057 - val_acc: 0.8256 - val_binary_accuracy: 0.8256\n",
      "Epoch 17/80\n",
      "27s - loss: 0.2430 - acc: 0.8942 - binary_accuracy: 0.8942 - val_loss: 0.6129 - val_acc: 0.8151 - val_binary_accuracy: 0.8151\n",
      "Epoch 18/80\n",
      "27s - loss: 0.2421 - acc: 0.8954 - binary_accuracy: 0.8954 - val_loss: 0.5863 - val_acc: 0.8176 - val_binary_accuracy: 0.8176\n",
      "Epoch 19/80\n",
      "31s - loss: 0.2340 - acc: 0.9022 - binary_accuracy: 0.9022 - val_loss: 0.6122 - val_acc: 0.8126 - val_binary_accuracy: 0.8126\n",
      "Epoch 20/80\n",
      "31s - loss: 0.2417 - acc: 0.9012 - binary_accuracy: 0.9012 - val_loss: 0.5997 - val_acc: 0.7990 - val_binary_accuracy: 0.7990\n",
      "Epoch 21/80\n",
      "27s - loss: 0.2385 - acc: 0.8987 - binary_accuracy: 0.8987 - val_loss: 0.7872 - val_acc: 0.8085 - val_binary_accuracy: 0.8085\n",
      "Epoch 22/80\n",
      "27s - loss: 0.2331 - acc: 0.8974 - binary_accuracy: 0.8974 - val_loss: 0.7256 - val_acc: 0.7759 - val_binary_accuracy: 0.7759\n",
      "Epoch 23/80\n",
      "35s - loss: 0.2351 - acc: 0.9002 - binary_accuracy: 0.9002 - val_loss: 0.8552 - val_acc: 0.8075 - val_binary_accuracy: 0.8075\n",
      "Epoch 24/80\n",
      "29s - loss: 0.2294 - acc: 0.9035 - binary_accuracy: 0.9035 - val_loss: 0.7306 - val_acc: 0.7648 - val_binary_accuracy: 0.7648\n",
      "Epoch 25/80\n",
      "28s - loss: 0.2330 - acc: 0.9041 - binary_accuracy: 0.9041 - val_loss: 0.7365 - val_acc: 0.8151 - val_binary_accuracy: 0.8151\n",
      "Epoch 26/80\n",
      "28s - loss: 0.2318 - acc: 0.9024 - binary_accuracy: 0.9024 - val_loss: 0.5740 - val_acc: 0.8156 - val_binary_accuracy: 0.8156\n",
      "Epoch 27/80\n",
      "28s - loss: 0.2277 - acc: 0.9032 - binary_accuracy: 0.9032 - val_loss: 0.7777 - val_acc: 0.8116 - val_binary_accuracy: 0.8116\n",
      "Epoch 28/80\n",
      "28s - loss: 0.2254 - acc: 0.9051 - binary_accuracy: 0.9051 - val_loss: 0.8213 - val_acc: 0.8146 - val_binary_accuracy: 0.8146\n",
      "Epoch 29/80\n",
      "29s - loss: 0.2277 - acc: 0.9025 - binary_accuracy: 0.9025 - val_loss: 0.6468 - val_acc: 0.8111 - val_binary_accuracy: 0.8111\n",
      "Epoch 30/80\n",
      "28s - loss: 0.2153 - acc: 0.9091 - binary_accuracy: 0.9091 - val_loss: 0.6986 - val_acc: 0.7814 - val_binary_accuracy: 0.7814\n",
      "Epoch 31/80\n",
      "27s - loss: 0.2230 - acc: 0.9049 - binary_accuracy: 0.9049 - val_loss: 0.7226 - val_acc: 0.8156 - val_binary_accuracy: 0.8156\n",
      "Epoch 32/80\n",
      "29s - loss: 0.2263 - acc: 0.9060 - binary_accuracy: 0.9060 - val_loss: 0.7169 - val_acc: 0.8156 - val_binary_accuracy: 0.8156\n",
      "Epoch 33/80\n",
      "29s - loss: 0.2257 - acc: 0.9024 - binary_accuracy: 0.9024 - val_loss: 0.6364 - val_acc: 0.8116 - val_binary_accuracy: 0.8116\n",
      "Epoch 34/80\n",
      "28s - loss: 0.2223 - acc: 0.9086 - binary_accuracy: 0.9086 - val_loss: 0.5997 - val_acc: 0.8060 - val_binary_accuracy: 0.8060\n",
      "Epoch 35/80\n",
      "27s - loss: 0.2242 - acc: 0.9040 - binary_accuracy: 0.9040 - val_loss: 0.6394 - val_acc: 0.8241 - val_binary_accuracy: 0.8241\n",
      "Epoch 36/80\n",
      "26s - loss: 0.2147 - acc: 0.9064 - binary_accuracy: 0.9064 - val_loss: 0.7522 - val_acc: 0.8136 - val_binary_accuracy: 0.8136\n",
      "Epoch 37/80\n",
      "26s - loss: 0.2099 - acc: 0.9089 - binary_accuracy: 0.9089 - val_loss: 0.6596 - val_acc: 0.8221 - val_binary_accuracy: 0.8221\n",
      "Epoch 38/80\n",
      "27s - loss: 0.2079 - acc: 0.9117 - binary_accuracy: 0.9117 - val_loss: 0.6601 - val_acc: 0.8055 - val_binary_accuracy: 0.8055\n",
      "Epoch 39/80\n",
      "26s - loss: 0.2205 - acc: 0.9074 - binary_accuracy: 0.9074 - val_loss: 0.6792 - val_acc: 0.8226 - val_binary_accuracy: 0.8226\n",
      "Epoch 40/80\n",
      "30s - loss: 0.2077 - acc: 0.9120 - binary_accuracy: 0.9120 - val_loss: 0.7630 - val_acc: 0.8221 - val_binary_accuracy: 0.8221\n",
      "Epoch 41/80\n",
      "28s - loss: 0.2124 - acc: 0.9094 - binary_accuracy: 0.9094 - val_loss: 0.7317 - val_acc: 0.8161 - val_binary_accuracy: 0.8161\n",
      "Epoch 42/80\n",
      "28s - loss: 0.2073 - acc: 0.9123 - binary_accuracy: 0.9123 - val_loss: 0.7859 - val_acc: 0.7925 - val_binary_accuracy: 0.7925\n",
      "Epoch 43/80\n",
      "28s - loss: 0.2169 - acc: 0.9128 - binary_accuracy: 0.9128 - val_loss: 0.8822 - val_acc: 0.8111 - val_binary_accuracy: 0.8111\n",
      "Epoch 44/80\n",
      "28s - loss: 0.2144 - acc: 0.9099 - binary_accuracy: 0.9099 - val_loss: 0.6630 - val_acc: 0.8216 - val_binary_accuracy: 0.8216\n",
      "Epoch 45/80\n",
      "28s - loss: 0.2085 - acc: 0.9127 - binary_accuracy: 0.9127 - val_loss: 0.7623 - val_acc: 0.8171 - val_binary_accuracy: 0.8171\n",
      "Epoch 46/80\n",
      "28s - loss: 0.2231 - acc: 0.9138 - binary_accuracy: 0.9138 - val_loss: 0.7085 - val_acc: 0.7899 - val_binary_accuracy: 0.7899\n",
      "Epoch 47/80\n",
      "27s - loss: 0.2033 - acc: 0.9144 - binary_accuracy: 0.9144 - val_loss: 0.7341 - val_acc: 0.8101 - val_binary_accuracy: 0.8101\n",
      "Epoch 48/80\n",
      "27s - loss: 0.1960 - acc: 0.9160 - binary_accuracy: 0.9160 - val_loss: 0.7339 - val_acc: 0.8156 - val_binary_accuracy: 0.8156\n",
      "Epoch 49/80\n",
      "29s - loss: 0.2174 - acc: 0.9118 - binary_accuracy: 0.9118 - val_loss: 0.6479 - val_acc: 0.8191 - val_binary_accuracy: 0.8191\n",
      "Epoch 50/80\n",
      "31s - loss: 0.1922 - acc: 0.9197 - binary_accuracy: 0.9197 - val_loss: 0.8376 - val_acc: 0.8196 - val_binary_accuracy: 0.8196\n",
      "Epoch 51/80\n",
      "29s - loss: 0.2034 - acc: 0.9163 - binary_accuracy: 0.9163 - val_loss: 0.7015 - val_acc: 0.8251 - val_binary_accuracy: 0.8251\n",
      "Epoch 52/80\n",
      "28s - loss: 0.1982 - acc: 0.9171 - binary_accuracy: 0.9171 - val_loss: 0.6686 - val_acc: 0.8201 - val_binary_accuracy: 0.8201\n",
      "Epoch 53/80\n",
      "27s - loss: 0.1975 - acc: 0.9208 - binary_accuracy: 0.9208 - val_loss: 0.7303 - val_acc: 0.8151 - val_binary_accuracy: 0.8151\n",
      "Epoch 54/80\n",
      "28s - loss: 0.1934 - acc: 0.9187 - binary_accuracy: 0.9187 - val_loss: 0.9084 - val_acc: 0.8131 - val_binary_accuracy: 0.8131\n",
      "Epoch 55/80\n",
      "28s - loss: 0.1964 - acc: 0.9168 - binary_accuracy: 0.9168 - val_loss: 0.9076 - val_acc: 0.8090 - val_binary_accuracy: 0.8090\n",
      "Epoch 56/80\n",
      "31s - loss: 0.1858 - acc: 0.9213 - binary_accuracy: 0.9213 - val_loss: 1.3473 - val_acc: 0.6809 - val_binary_accuracy: 0.6809\n",
      "Epoch 57/80\n",
      "29s - loss: 0.1857 - acc: 0.9228 - binary_accuracy: 0.9228 - val_loss: 1.0173 - val_acc: 0.8055 - val_binary_accuracy: 0.8055\n",
      "Epoch 58/80\n",
      "28s - loss: 0.1936 - acc: 0.9187 - binary_accuracy: 0.9187 - val_loss: 0.7320 - val_acc: 0.8101 - val_binary_accuracy: 0.8101\n",
      "Epoch 59/80\n",
      "30s - loss: 0.1949 - acc: 0.9199 - binary_accuracy: 0.9199 - val_loss: 0.7930 - val_acc: 0.7884 - val_binary_accuracy: 0.7884\n",
      "Epoch 60/80\n",
      "29s - loss: 0.1860 - acc: 0.9228 - binary_accuracy: 0.9228 - val_loss: 0.6811 - val_acc: 0.8156 - val_binary_accuracy: 0.8156\n",
      "Epoch 61/80\n",
      "28s - loss: 0.1947 - acc: 0.9204 - binary_accuracy: 0.9204 - val_loss: 0.8855 - val_acc: 0.8166 - val_binary_accuracy: 0.8166\n",
      "Epoch 62/80\n",
      "28s - loss: 0.1883 - acc: 0.9213 - binary_accuracy: 0.9213 - val_loss: 0.8202 - val_acc: 0.8126 - val_binary_accuracy: 0.8126\n",
      "Epoch 63/80\n",
      "28s - loss: 0.1896 - acc: 0.9211 - binary_accuracy: 0.9211 - val_loss: 0.8309 - val_acc: 0.7829 - val_binary_accuracy: 0.7829\n",
      "Epoch 64/80\n",
      "29s - loss: 0.1932 - acc: 0.9248 - binary_accuracy: 0.9248 - val_loss: 0.8297 - val_acc: 0.8171 - val_binary_accuracy: 0.8171\n",
      "Epoch 65/80\n",
      "29s - loss: 0.1829 - acc: 0.9223 - binary_accuracy: 0.9223 - val_loss: 0.7356 - val_acc: 0.8141 - val_binary_accuracy: 0.8141\n",
      "Epoch 66/80\n",
      "28s - loss: 0.1905 - acc: 0.9250 - binary_accuracy: 0.9250 - val_loss: 0.7255 - val_acc: 0.8176 - val_binary_accuracy: 0.8176\n",
      "Epoch 67/80\n",
      "28s - loss: 0.1954 - acc: 0.9255 - binary_accuracy: 0.9255 - val_loss: 0.7484 - val_acc: 0.8171 - val_binary_accuracy: 0.8171\n",
      "Epoch 68/80\n",
      "30s - loss: 0.1792 - acc: 0.9256 - binary_accuracy: 0.9256 - val_loss: 0.7604 - val_acc: 0.8101 - val_binary_accuracy: 0.8101\n",
      "Epoch 69/80\n",
      "31s - loss: 0.1696 - acc: 0.9289 - binary_accuracy: 0.9289 - val_loss: 0.8499 - val_acc: 0.7508 - val_binary_accuracy: 0.7508\n",
      "Epoch 70/80\n",
      "29s - loss: 0.1823 - acc: 0.9257 - binary_accuracy: 0.9257 - val_loss: 0.7458 - val_acc: 0.8070 - val_binary_accuracy: 0.8070\n",
      "Epoch 71/80\n",
      "29s - loss: 0.1752 - acc: 0.9276 - binary_accuracy: 0.9276 - val_loss: 0.9830 - val_acc: 0.8055 - val_binary_accuracy: 0.8055\n",
      "Epoch 72/80\n",
      "29s - loss: 0.1780 - acc: 0.9242 - binary_accuracy: 0.9242 - val_loss: 0.8099 - val_acc: 0.8030 - val_binary_accuracy: 0.8030\n",
      "Epoch 73/80\n",
      "29s - loss: 0.1725 - acc: 0.9269 - binary_accuracy: 0.9269 - val_loss: 0.8229 - val_acc: 0.8171 - val_binary_accuracy: 0.8171\n",
      "Epoch 74/80\n",
      "29s - loss: 0.1728 - acc: 0.9285 - binary_accuracy: 0.9285 - val_loss: 0.7694 - val_acc: 0.8141 - val_binary_accuracy: 0.8141\n",
      "Epoch 75/80\n",
      "29s - loss: 0.1720 - acc: 0.9299 - binary_accuracy: 0.9299 - val_loss: 0.7479 - val_acc: 0.8025 - val_binary_accuracy: 0.8025\n",
      "Epoch 76/80\n",
      "29s - loss: 0.1705 - acc: 0.9286 - binary_accuracy: 0.9286 - val_loss: 0.8790 - val_acc: 0.8111 - val_binary_accuracy: 0.8111\n",
      "Epoch 77/80\n",
      "29s - loss: 0.1745 - acc: 0.9311 - binary_accuracy: 0.9311 - val_loss: 0.9528 - val_acc: 0.7678 - val_binary_accuracy: 0.7678\n",
      "Epoch 78/80\n",
      "29s - loss: 0.1724 - acc: 0.9318 - binary_accuracy: 0.9318 - val_loss: 1.0384 - val_acc: 0.8116 - val_binary_accuracy: 0.8116\n",
      "Epoch 79/80\n",
      "29s - loss: 0.1675 - acc: 0.9306 - binary_accuracy: 0.9306 - val_loss: 0.8671 - val_acc: 0.8226 - val_binary_accuracy: 0.8226\n",
      "Epoch 80/80\n",
      "29s - loss: 0.1678 - acc: 0.9315 - binary_accuracy: 0.9315 - val_loss: 0.7831 - val_acc: 0.8116 - val_binary_accuracy: 0.8116\n"
     ]
    }
   ],
   "source": [
    "model22 = Sequential([\n",
    "    Dense(1000, input_dim=2324),\n",
    "    Activation('relu'),\n",
    "    Dense(500),\n",
    "    Activation('relu'),\n",
    "    Dense(100),\n",
    "    Activation('relu'),\n",
    "    Dense(2),\n",
    "    Activation('softmax')\n",
    "])\n",
    "\n",
    "model22.compile(optimizer='adam',\n",
    "              loss='binary_crossentropy',\n",
    "              metrics=['accuracy', 'binary_accuracy'])\n",
    "\n",
    "nn_history22 = model.fit(X_train_norm, y_train_norm, epochs=80, batch_size=62, verbose=2, validation_data=(X_test_norm, y_test_norm))"
   ]
  },
  {
   "cell_type": "code",
   "execution_count": 75,
   "metadata": {
    "collapsed": false
   },
   "outputs": [
    {
     "data": {
      "image/png": "[encoded data removed]",
      "text/plain": [
       "<matplotlib.figure.Figure at 0x137eec048>"
      ]
     },
     "metadata": {},
     "output_type": "display_data"
    },
    {
     "data": {
      "image/png": "[encoded data removed]",
      "text/plain": [
       "<matplotlib.figure.Figure at 0x1574947b8>"
      ]
     },
     "metadata": {},
     "output_type": "display_data"
    }
   ],
   "source": [
    "# summarize history for accuracy\n",
    "plt.plot(nn_history22.history['acc'])\n",
    "plt.plot(nn_history22.history['val_acc'])\n",
    "plt.title('model accuracy')\n",
    "plt.ylabel('accuracy')\n",
    "plt.xlabel('epoch')\n",
    "plt.legend(['train', 'test'], loc='upper left')\n",
    "plt.show()\n",
    "# summarize history for loss\n",
    "plt.plot(nn_history22.history['loss'])\n",
    "plt.plot(nn_history22.history['val_loss'])\n",
    "plt.title('model loss')\n",
    "plt.ylabel('loss')\n",
    "plt.xlabel('epoch')\n",
    "plt.legend(['train', 'test'], loc='upper left')\n",
    "plt.show()"
   ]
  },
  {
   "cell_type": "code",
   "execution_count": 80,
   "metadata": {
    "collapsed": false
   },
   "outputs": [
    {
     "name": "stdout",
     "output_type": "stream",
     "text": [
      "1920/1990 [===========================>..] - ETA: 0s\b\b\b\b\b\b\b\b\b\b\b\b\b\b\b\b\b\b\b\b\b\b\b\b\b\b\b\b\b\b\b\b\b\b\b\b\b\b\b\b\b\b\b\b\b\b\b\b\b\b\b\b\b\b\b\b\b\b\b\b\b\b\b\b\b\b\b\b\b\b\b\b\b\b\b\b\b\b\b\b\b\b\b\b\b\b\b\b\b\b\b\b\b\b\b\b\b\b\b\b\b\b\b\b\b\b\b\b\b\b\b\b\b\b\b\b\b\b\b\b\b\b\b\b\b\b\b\b\b\b\b\b\b\b\b\b\b\b\b\b\b\b\b\b\b\b\b\b\b\b\b\b\b\b\b\b\b\b\b\b\b\b\b\b\b\b\b\b\b\b\b\b\b\b\b\b\b\b\b\b\b\b\b\b\b\b\b\b\b\b\b\b\b\b\b\b\b\b\b\b\b\b\b\b\b\b\b\b\b\b\b\b\b\b\b\b\b\b\b\b\b\b\b\b\b\b\b\b\b\b\b\b\b\b\b\b\b\b\b\b\b\b\b\b\b\b\b\b\b\b\b\b\b\b\b\b\b\b\b\b\b\b\b\b\b\b\b\b\b\b\b\b\b\b\b\b\b\b\b\b\b\b\b\b\b\b\b\b\b\b\b\b\b\b\b\b\b\b\b\b\b\b\b\b\b\b\b\b\b\b\b\b\b\b\b\b\b\b\b\b\b\b\b\b\b\b\b\b\b\b\b\b\b\b\b\b\b\b\b\b\b\b\b\b\b\b\b\b\b\b\b\b\b\b\b\b\b\b\b\b\b\b\b\b"
     ]
    },
    {
     "data": {
      "text/plain": [
       "6.5086152242010051"
      ]
     },
     "execution_count": 80,
     "metadata": {},
     "output_type": "execute_result"
    }
   ],
   "source": [
    "nn_predict = model.predict_classes(X_test_norm)\n",
    "nn_sc = sklearn.metrics.log_loss(y_test, nn_predict)\n",
    "nn_sc"
   ]
  },
  {
   "cell_type": "markdown",
   "metadata": {},
   "source": [
    "##### Logistic Regression with RFECV"
   ]
  },
  {
   "cell_type": "code",
   "execution_count": 40,
   "metadata": {
    "collapsed": false
   },
   "outputs": [
    {
     "ename": "KeyboardInterrupt",
     "evalue": "",
     "output_type": "error",
     "traceback": [
      "\u001b[0;31m---------------------------------------------------------------------------\u001b[0m",
      "\u001b[0;31mKeyboardInterrupt\u001b[0m                         Traceback (most recent call last)",
      "\u001b[0;32m<ipython-input-40-a5f9cd8e107b>\u001b[0m in \u001b[0;36m<module>\u001b[0;34m()\u001b[0m\n\u001b[1;32m      1\u001b[0m \u001b[0mrfecv\u001b[0m \u001b[0;34m=\u001b[0m \u001b[0msklearn\u001b[0m\u001b[0;34m.\u001b[0m\u001b[0mfeature_selection\u001b[0m\u001b[0;34m.\u001b[0m\u001b[0mRFECV\u001b[0m\u001b[0;34m(\u001b[0m\u001b[0mestimator\u001b[0m\u001b[0;34m=\u001b[0m\u001b[0mmodel1\u001b[0m\u001b[0;34m,\u001b[0m \u001b[0mstep\u001b[0m\u001b[0;34m=\u001b[0m\u001b[0;36m1\u001b[0m\u001b[0;34m,\u001b[0m \u001b[0mcv\u001b[0m\u001b[0;34m=\u001b[0m\u001b[0mcv\u001b[0m\u001b[0;34m,\u001b[0m \u001b[0mscoring\u001b[0m\u001b[0;34m=\u001b[0m\u001b[0;34m'recall'\u001b[0m\u001b[0;34m)\u001b[0m\u001b[0;34m\u001b[0m\u001b[0m\n\u001b[0;32m----> 2\u001b[0;31m \u001b[0mrfecv\u001b[0m\u001b[0;34m.\u001b[0m\u001b[0mfit\u001b[0m\u001b[0;34m(\u001b[0m\u001b[0mX_train\u001b[0m\u001b[0;34m,\u001b[0m \u001b[0my_train\u001b[0m\u001b[0;34m.\u001b[0m\u001b[0mravel\u001b[0m\u001b[0;34m(\u001b[0m\u001b[0;34m)\u001b[0m\u001b[0;34m)\u001b[0m\u001b[0;34m\u001b[0m\u001b[0m\n\u001b[0m\u001b[1;32m      3\u001b[0m \u001b[0mrfecv\u001b[0m\u001b[0;34m.\u001b[0m\u001b[0mscore\u001b[0m\u001b[0;34m(\u001b[0m\u001b[0mX_test\u001b[0m\u001b[0;34m,\u001b[0m \u001b[0my_test\u001b[0m\u001b[0;34m.\u001b[0m\u001b[0mravel\u001b[0m\u001b[0;34m(\u001b[0m\u001b[0;34m)\u001b[0m\u001b[0;34m)\u001b[0m\u001b[0;34m\u001b[0m\u001b[0m\n",
      "\u001b[0;32m/Users/janzaloudek/anaconda/lib/python3.6/site-packages/sklearn/feature_selection/rfe.py\u001b[0m in \u001b[0;36mfit\u001b[0;34m(self, X, y)\u001b[0m\n\u001b[1;32m    428\u001b[0m         scores = parallel(\n\u001b[1;32m    429\u001b[0m             \u001b[0mfunc\u001b[0m\u001b[0;34m(\u001b[0m\u001b[0mrfe\u001b[0m\u001b[0;34m,\u001b[0m \u001b[0mself\u001b[0m\u001b[0;34m.\u001b[0m\u001b[0mestimator\u001b[0m\u001b[0;34m,\u001b[0m \u001b[0mX\u001b[0m\u001b[0;34m,\u001b[0m \u001b[0my\u001b[0m\u001b[0;34m,\u001b[0m \u001b[0mtrain\u001b[0m\u001b[0;34m,\u001b[0m \u001b[0mtest\u001b[0m\u001b[0;34m,\u001b[0m \u001b[0mscorer\u001b[0m\u001b[0;34m)\u001b[0m\u001b[0;34m\u001b[0m\u001b[0m\n\u001b[0;32m--> 430\u001b[0;31m             for train, test in cv.split(X, y))\n\u001b[0m\u001b[1;32m    431\u001b[0m \u001b[0;34m\u001b[0m\u001b[0m\n\u001b[1;32m    432\u001b[0m         \u001b[0mscores\u001b[0m \u001b[0;34m=\u001b[0m \u001b[0mnp\u001b[0m\u001b[0;34m.\u001b[0m\u001b[0msum\u001b[0m\u001b[0;34m(\u001b[0m\u001b[0mscores\u001b[0m\u001b[0;34m,\u001b[0m \u001b[0maxis\u001b[0m\u001b[0;34m=\u001b[0m\u001b[0;36m0\u001b[0m\u001b[0;34m)\u001b[0m\u001b[0;34m\u001b[0m\u001b[0m\n",
      "\u001b[0;32m/Users/janzaloudek/anaconda/lib/python3.6/site-packages/sklearn/feature_selection/rfe.py\u001b[0m in \u001b[0;36m<genexpr>\u001b[0;34m(.0)\u001b[0m\n\u001b[1;32m    428\u001b[0m         scores = parallel(\n\u001b[1;32m    429\u001b[0m             \u001b[0mfunc\u001b[0m\u001b[0;34m(\u001b[0m\u001b[0mrfe\u001b[0m\u001b[0;34m,\u001b[0m \u001b[0mself\u001b[0m\u001b[0;34m.\u001b[0m\u001b[0mestimator\u001b[0m\u001b[0;34m,\u001b[0m \u001b[0mX\u001b[0m\u001b[0;34m,\u001b[0m \u001b[0my\u001b[0m\u001b[0;34m,\u001b[0m \u001b[0mtrain\u001b[0m\u001b[0;34m,\u001b[0m \u001b[0mtest\u001b[0m\u001b[0;34m,\u001b[0m \u001b[0mscorer\u001b[0m\u001b[0;34m)\u001b[0m\u001b[0;34m\u001b[0m\u001b[0m\n\u001b[0;32m--> 430\u001b[0;31m             for train, test in cv.split(X, y))\n\u001b[0m\u001b[1;32m    431\u001b[0m \u001b[0;34m\u001b[0m\u001b[0m\n\u001b[1;32m    432\u001b[0m         \u001b[0mscores\u001b[0m \u001b[0;34m=\u001b[0m \u001b[0mnp\u001b[0m\u001b[0;34m.\u001b[0m\u001b[0msum\u001b[0m\u001b[0;34m(\u001b[0m\u001b[0mscores\u001b[0m\u001b[0;34m,\u001b[0m \u001b[0maxis\u001b[0m\u001b[0;34m=\u001b[0m\u001b[0;36m0\u001b[0m\u001b[0;34m)\u001b[0m\u001b[0;34m\u001b[0m\u001b[0m\n",
      "\u001b[0;32m/Users/janzaloudek/anaconda/lib/python3.6/site-packages/sklearn/feature_selection/rfe.py\u001b[0m in \u001b[0;36m_rfe_single_fit\u001b[0;34m(rfe, estimator, X, y, train, test, scorer)\u001b[0m\n\u001b[1;32m     28\u001b[0m     \u001b[0mX_test\u001b[0m\u001b[0;34m,\u001b[0m \u001b[0my_test\u001b[0m \u001b[0;34m=\u001b[0m \u001b[0m_safe_split\u001b[0m\u001b[0;34m(\u001b[0m\u001b[0mestimator\u001b[0m\u001b[0;34m,\u001b[0m \u001b[0mX\u001b[0m\u001b[0;34m,\u001b[0m \u001b[0my\u001b[0m\u001b[0;34m,\u001b[0m \u001b[0mtest\u001b[0m\u001b[0;34m,\u001b[0m \u001b[0mtrain\u001b[0m\u001b[0;34m)\u001b[0m\u001b[0;34m\u001b[0m\u001b[0m\n\u001b[1;32m     29\u001b[0m     return rfe._fit(\n\u001b[0;32m---> 30\u001b[0;31m         \u001b[0mX_train\u001b[0m\u001b[0;34m,\u001b[0m \u001b[0my_train\u001b[0m\u001b[0;34m,\u001b[0m \u001b[0;32mlambda\u001b[0m \u001b[0mestimator\u001b[0m\u001b[0;34m,\u001b[0m \u001b[0mfeatures\u001b[0m\u001b[0;34m:\u001b[0m\u001b[0;34m\u001b[0m\u001b[0m\n\u001b[0m\u001b[1;32m     31\u001b[0m         _score(estimator, X_test[:, features], y_test, scorer)).scores_\n\u001b[1;32m     32\u001b[0m \u001b[0;34m\u001b[0m\u001b[0m\n",
      "\u001b[0;32m/Users/janzaloudek/anaconda/lib/python3.6/site-packages/sklearn/feature_selection/rfe.py\u001b[0m in \u001b[0;36m_fit\u001b[0;34m(self, X, y, step_score)\u001b[0m\n\u001b[1;32m    167\u001b[0m                 \u001b[0mprint\u001b[0m\u001b[0;34m(\u001b[0m\u001b[0;34m\"Fitting estimator with %d features.\"\u001b[0m \u001b[0;34m%\u001b[0m \u001b[0mnp\u001b[0m\u001b[0;34m.\u001b[0m\u001b[0msum\u001b[0m\u001b[0;34m(\u001b[0m\u001b[0msupport_\u001b[0m\u001b[0;34m)\u001b[0m\u001b[0;34m)\u001b[0m\u001b[0;34m\u001b[0m\u001b[0m\n\u001b[1;32m    168\u001b[0m \u001b[0;34m\u001b[0m\u001b[0m\n\u001b[0;32m--> 169\u001b[0;31m             \u001b[0mestimator\u001b[0m\u001b[0;34m.\u001b[0m\u001b[0mfit\u001b[0m\u001b[0;34m(\u001b[0m\u001b[0mX\u001b[0m\u001b[0;34m[\u001b[0m\u001b[0;34m:\u001b[0m\u001b[0;34m,\u001b[0m \u001b[0mfeatures\u001b[0m\u001b[0;34m]\u001b[0m\u001b[0;34m,\u001b[0m \u001b[0my\u001b[0m\u001b[0;34m)\u001b[0m\u001b[0;34m\u001b[0m\u001b[0m\n\u001b[0m\u001b[1;32m    170\u001b[0m \u001b[0;34m\u001b[0m\u001b[0m\n\u001b[1;32m    171\u001b[0m             \u001b[0;31m# Get coefs\u001b[0m\u001b[0;34m\u001b[0m\u001b[0;34m\u001b[0m\u001b[0m\n",
      "\u001b[0;32m/Users/janzaloudek/anaconda/lib/python3.6/site-packages/sklearn/linear_model/logistic.py\u001b[0m in \u001b[0;36mfit\u001b[0;34m(self, X, y, sample_weight)\u001b[0m\n\u001b[1;32m   1184\u001b[0m                 \u001b[0mself\u001b[0m\u001b[0;34m.\u001b[0m\u001b[0mclass_weight\u001b[0m\u001b[0;34m,\u001b[0m \u001b[0mself\u001b[0m\u001b[0;34m.\u001b[0m\u001b[0mpenalty\u001b[0m\u001b[0;34m,\u001b[0m \u001b[0mself\u001b[0m\u001b[0;34m.\u001b[0m\u001b[0mdual\u001b[0m\u001b[0;34m,\u001b[0m \u001b[0mself\u001b[0m\u001b[0;34m.\u001b[0m\u001b[0mverbose\u001b[0m\u001b[0;34m,\u001b[0m\u001b[0;34m\u001b[0m\u001b[0m\n\u001b[1;32m   1185\u001b[0m                 \u001b[0mself\u001b[0m\u001b[0;34m.\u001b[0m\u001b[0mmax_iter\u001b[0m\u001b[0;34m,\u001b[0m \u001b[0mself\u001b[0m\u001b[0;34m.\u001b[0m\u001b[0mtol\u001b[0m\u001b[0;34m,\u001b[0m \u001b[0mself\u001b[0m\u001b[0;34m.\u001b[0m\u001b[0mrandom_state\u001b[0m\u001b[0;34m,\u001b[0m\u001b[0;34m\u001b[0m\u001b[0m\n\u001b[0;32m-> 1186\u001b[0;31m                 sample_weight=sample_weight)\n\u001b[0m\u001b[1;32m   1187\u001b[0m             \u001b[0mself\u001b[0m\u001b[0;34m.\u001b[0m\u001b[0mn_iter_\u001b[0m \u001b[0;34m=\u001b[0m \u001b[0mnp\u001b[0m\u001b[0;34m.\u001b[0m\u001b[0marray\u001b[0m\u001b[0;34m(\u001b[0m\u001b[0;34m[\u001b[0m\u001b[0mn_iter_\u001b[0m\u001b[0;34m]\u001b[0m\u001b[0;34m)\u001b[0m\u001b[0;34m\u001b[0m\u001b[0m\n\u001b[1;32m   1188\u001b[0m             \u001b[0;32mreturn\u001b[0m \u001b[0mself\u001b[0m\u001b[0;34m\u001b[0m\u001b[0m\n",
      "\u001b[0;32m/Users/janzaloudek/anaconda/lib/python3.6/site-packages/sklearn/svm/base.py\u001b[0m in \u001b[0;36m_fit_liblinear\u001b[0;34m(X, y, C, fit_intercept, intercept_scaling, class_weight, penalty, dual, verbose, max_iter, tol, random_state, multi_class, loss, epsilon, sample_weight)\u001b[0m\n\u001b[1;32m    910\u001b[0m         \u001b[0mX\u001b[0m\u001b[0;34m,\u001b[0m \u001b[0my_ind\u001b[0m\u001b[0;34m,\u001b[0m \u001b[0msp\u001b[0m\u001b[0;34m.\u001b[0m\u001b[0misspmatrix\u001b[0m\u001b[0;34m(\u001b[0m\u001b[0mX\u001b[0m\u001b[0;34m)\u001b[0m\u001b[0;34m,\u001b[0m \u001b[0msolver_type\u001b[0m\u001b[0;34m,\u001b[0m \u001b[0mtol\u001b[0m\u001b[0;34m,\u001b[0m \u001b[0mbias\u001b[0m\u001b[0;34m,\u001b[0m \u001b[0mC\u001b[0m\u001b[0;34m,\u001b[0m\u001b[0;34m\u001b[0m\u001b[0m\n\u001b[1;32m    911\u001b[0m         \u001b[0mclass_weight_\u001b[0m\u001b[0;34m,\u001b[0m \u001b[0mmax_iter\u001b[0m\u001b[0;34m,\u001b[0m \u001b[0mrnd\u001b[0m\u001b[0;34m.\u001b[0m\u001b[0mrandint\u001b[0m\u001b[0;34m(\u001b[0m\u001b[0mnp\u001b[0m\u001b[0;34m.\u001b[0m\u001b[0miinfo\u001b[0m\u001b[0;34m(\u001b[0m\u001b[0;34m'i'\u001b[0m\u001b[0;34m)\u001b[0m\u001b[0;34m.\u001b[0m\u001b[0mmax\u001b[0m\u001b[0;34m)\u001b[0m\u001b[0;34m,\u001b[0m\u001b[0;34m\u001b[0m\u001b[0m\n\u001b[0;32m--> 912\u001b[0;31m         epsilon, sample_weight)\n\u001b[0m\u001b[1;32m    913\u001b[0m     \u001b[0;31m# Regarding rnd.randint(..) in the above signature:\u001b[0m\u001b[0;34m\u001b[0m\u001b[0;34m\u001b[0m\u001b[0m\n\u001b[1;32m    914\u001b[0m     \u001b[0;31m# seed for srand in range [0..INT_MAX); due to limitations in Numpy\u001b[0m\u001b[0;34m\u001b[0m\u001b[0;34m\u001b[0m\u001b[0m\n",
      "\u001b[0;31mKeyboardInterrupt\u001b[0m: "
     ]
    }
   ],
   "source": [
    "rfecv = sklearn.feature_selection.RFECV(estimator=model1, step=1, cv=cv, scoring='recall') \n",
    "rfecv.fit(X_train, y_train.ravel())\n",
    "rfecv.score(X_test, y_test.ravel())"
   ]
  },
  {
   "cell_type": "code",
   "execution_count": null,
   "metadata": {
    "collapsed": true
   },
   "outputs": [],
   "source": [
    "y_pred = rfecv.predict(X_test)\n",
    "cm = confusion_matrix(y_test, y_pred)\n",
    "labelname = model1.classes_\n",
    "sns.heatmap(cm, annot=True,  fmt='', xticklabels=labelname, yticklabels=labelname)"
   ]
  },
  {
   "cell_type": "code",
   "execution_count": null,
   "metadata": {
    "collapsed": true
   },
   "outputs": [],
   "source": [
    "report = classification_report(y_test.ravel(), y_pred)\n",
    "print(report)"
   ]
  },
  {
   "cell_type": "code",
   "execution_count": null,
   "metadata": {
    "collapsed": true
   },
   "outputs": [],
   "source": [
    "y_pred_proba = rfecv.predict_proba(X_test)\n",
    "fpr, tpr, _ = sklearn.metrics.roc_curve(y_test, y_pred_proba[:,1])\n",
    "roc_rates = [fpr, tpr]\n",
    "auc = sklearn.metrics.auc(fpr, tpr)\n",
    "plt.title(\"Logistic Regression\", fontsize = 20)\n",
    "plt.xlabel(\"False positive rate\")\n",
    "plt.ylabel(\"True positive rate\")\n",
    "labelname = \"Logistic Regression\" + \", (area = %0.3f)\" % auc\n",
    "plt.plot(roc_rates[0], roc_rates[1], linewidth = 2, label = labelname)\n",
    "plt.legend(loc = 4)"
   ]
  },
  {
   "cell_type": "code",
   "execution_count": null,
   "metadata": {
    "collapsed": true
   },
   "outputs": [],
   "source": [
    "n_samples = X_train[:, rfecv.support_].shape[0]\n",
    "cv = cross_validation.ShuffleSplit(n_samples, n_iter=20, test_size=0.2, random_state=1)\n",
    "model = LogisticRegression()\n",
    "logloss = cross_validation.cross_val_score(model, X_train[:, rfecv.support_], y_train.ravel(), cv=cv, scoring='log_loss')\n",
    "print(-logloss.mean())"
   ]
  },
  {
   "cell_type": "code",
   "execution_count": null,
   "metadata": {
    "collapsed": true
   },
   "outputs": [],
   "source": [
    "sklearn.metrics.log_loss(y_test.ravel(), y_pred_proba[:,1])"
   ]
  },
  {
   "cell_type": "code",
   "execution_count": null,
   "metadata": {
    "collapsed": true
   },
   "outputs": [],
   "source": []
  }
 ],
 "metadata": {
  "kernelspec": {
   "display_name": "Python 3",
   "language": "python",
   "name": "python3"
  },
  "language_info": {
   "codemirror_mode": {
    "name": "ipython",
    "version": 3
   },
   "file_extension": ".py",
   "mimetype": "text/x-python",
   "name": "python",
   "nbconvert_exporter": "python",
   "pygments_lexer": "ipython3",
   "version": "3.6.0"
  }
 },
 "nbformat": 4,
 "nbformat_minor": 0
}
