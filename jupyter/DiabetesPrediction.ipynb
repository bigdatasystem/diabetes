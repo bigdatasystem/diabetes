{
 "cells": [
  {
   "cell_type": "code",
   "execution_count": 1,
   "metadata": {
    "collapsed": true
   },
   "outputs": [],
   "source": [
    "import pandas as pd\n",
    "import numpy as np\n",
    "from collections import defaultdict\n",
    "import matplotlib\n",
    "import matplotlib.pyplot as plt\n",
    "import os\n",
    "import re"
   ]
  },
  {
   "cell_type": "code",
   "execution_count": 2,
   "metadata": {
    "collapsed": false
   },
   "outputs": [],
   "source": [
    "os.chdir('/Users/janzaloudek/Development/Skola/umass/diabetes/jupyter/trainingSet')"
   ]
  },
  {
   "cell_type": "code",
   "execution_count": 3,
   "metadata": {
    "collapsed": false
   },
   "outputs": [],
   "source": [
    "diagnosisT = pd.read_csv('training_SyncDiagnosis.csv')\n",
    "allergyT = pd.read_csv('training_SyncAllergy.csv')\n",
    "immunT = pd.read_csv('training_SyncImmunization.csv')\n",
    "labObsT = pd.read_csv('training_SyncLabObservation.csv')\n",
    "labPanT = pd.read_csv('training_SyncLabPanel.csv')\n",
    "labResT = pd.read_csv('training_SyncLabResult.csv')\n",
    "medicationT = pd.read_csv('training_SyncMedication.csv')\n",
    "patientT = pd.read_csv('training_SyncPatient.csv')\n",
    "patientCondT = pd.read_csv('training_SyncPatientCondition.csv')\n",
    "smokingT = pd.read_csv('training_SyncPatientSmokingStatus.csv')\n",
    "prescripT = pd.read_csv('training_SyncPrescription.csv')\n",
    "trnscrpT = pd.read_csv('training_SyncTranscript.csv')\n",
    "trnscrpAT = pd.read_csv('training_SyncTranscriptAllergy.csv')\n",
    "trnscrpDT = pd.read_csv('training_SyncTranscriptDiagnosis.csv')\n",
    "trnscrptMT = pd.read_csv('training_SyncTranscriptMedication.csv')\n",
    "myfileT = pd.read_csv('myfile.csv')\n",
    "conditionT = pd.read_csv('SyncCondition.csv')\n",
    "smokingT = pd.read_csv('SyncSmokingStatus.csv')"
   ]
  },
  {
   "cell_type": "code",
   "execution_count": 4,
   "metadata": {
    "collapsed": false
   },
   "outputs": [
    {
     "data": {
      "text/plain": [
       "Index(['DiagnosisGuid', 'PatientGuid', 'ICD9Code', 'DiagnosisDescription',\n",
       "       'StartYear', 'StopYear', 'Acute', 'UserGuid'],\n",
       "      dtype='object')"
      ]
     },
     "execution_count": 4,
     "metadata": {},
     "output_type": "execute_result"
    }
   ],
   "source": [
    "diagnosisT.columns"
   ]
  },
  {
   "cell_type": "markdown",
   "metadata": {},
   "source": [
    "#Approach 1\n",
    "\n",
    "Output file for modeling is patientdata"
   ]
  },
  {
   "cell_type": "markdown",
   "metadata": {},
   "source": [
    "###Part I: Creating Condition-based Features\n",
    "Complications/Risk Factors for diabetes\n",
    "1. CCS Labels Source: https://www.hcup-us.ahrq.gov/toolssoftware/ccs/ccs.jsp\n",
    "2. Diabetes Type 2 Source: https://en.wikipedia.org/wiki/Diabetes_mellitus_type_2"
   ]
  },
  {
   "cell_type": "code",
   "execution_count": 5,
   "metadata": {
    "collapsed": false
   },
   "outputs": [],
   "source": [
    "os.chdir('/Users/janzaloudek/Development/Skola/umass/diabetes/jupyter/Single_Level_CCS_2015')"
   ]
  },
  {
   "cell_type": "code",
   "execution_count": 6,
   "metadata": {
    "collapsed": true
   },
   "outputs": [],
   "source": [
    "def cleanString(text):\n",
    "    result = re.sub(\"[\\'|\\\"]\", \"\", text)\n",
    "    return result"
   ]
  },
  {
   "cell_type": "code",
   "execution_count": 7,
   "metadata": {
    "collapsed": false
   },
   "outputs": [],
   "source": [
    "CCSN = pd.read_csv('$dxref 2015.csv', skiprows=1)\n",
    "CCSN.columns = [cleanString(item) for item in CCSN.columns]\n",
    "for item in CCSN.columns:\n",
    "    CCSN[item] = CCSN[item].map(cleanString)\n",
    "    CCSN[item] = CCSN[item].apply(str.strip)\n",
    "CCSN.columns = ['ICD9', 'CCSN', 'CCS', 'ICD9Descr', 'OptCCS', 'OptCCSDescrp']\n",
    "CCSN = CCSN.ix[1:, ['ICD9','CCSN']]"
   ]
  },
  {
   "cell_type": "code",
   "execution_count": 8,
   "metadata": {
    "collapsed": false
   },
   "outputs": [],
   "source": [
    "CCSLabel = pd.read_csv('dxlabel 2013.csv')\n",
    "CCSLabel = CCSLabel.ix[3:, :]\n",
    "CCSLabel.columns = ['CCSN', 'CCSLabel']\n",
    "CCS = pd.merge(CCSN, CCSLabel, how='inner', on =['CCSN'])"
   ]
  },
  {
   "cell_type": "code",
   "execution_count": 9,
   "metadata": {
    "collapsed": true
   },
   "outputs": [],
   "source": [
    "def stripPeriods(text):\n",
    "    result = re.sub('\\.', \"\", text)\n",
    "    return result"
   ]
  },
  {
   "cell_type": "code",
   "execution_count": 10,
   "metadata": {
    "collapsed": true
   },
   "outputs": [],
   "source": [
    "def ICD9Label(text):\n",
    "    if bool(re.match('14[0-9]|2[0-3][0-9]', text)) == True:\n",
    "        return 'neoplasms'\n",
    "    elif bool(re.match('2[4-7][0-9]', text)) == True:\n",
    "        return 'endoctrine'\n",
    "    elif bool(re.match('28[0-9]', text)) == True:\n",
    "        return 'blood'\n",
    "    elif bool(re.match('29[0-9]|3[0-1][0-9]', text)) == True:\n",
    "        return 'mental'\n",
    "    elif bool(re.match('3[2-5][0-9]', text)) == True:\n",
    "        return 'nervous'\n",
    "    elif bool(re.match('3[6-8][0-9]', text)) == True:\n",
    "        return 'sense'\n",
    "    elif bool(re.match('39[0-9]|4[0-5][0-9]', text)) == True:\n",
    "        return 'circulatory'\n",
    "    elif bool(re.match('4[6-9][0-9]|5[0-1][0-9]', text)) == True:\n",
    "        return 'respiratory'\n",
    "    elif bool(re.match('5[2-7][0-9]', text)) == True:\n",
    "        return 'digestive'\n",
    "    elif bool(re.match('5[8-9][0-9]|6[0-2][0-9]', text)) == True:\n",
    "        return 'genitourinary'\n",
    "    elif bool(re.match('6[3-7][0-9]', text)) == True:\n",
    "        return 'pregnancy'    \n",
    "    elif bool(re.match('6[8-9][0-9]|70[0-9]', text)) == True:\n",
    "        return 'skin'   \n",
    "    elif bool(re.match('7[1-3][0-9]', text)) == True:\n",
    "        return 'musculoskeletal'       \n",
    "    elif bool(re.match('7[4-5][0-9]', text)) == True:\n",
    "        return 'congenital' \n",
    "    elif bool(re.match('7[6-7][0-9]', text)) == True:\n",
    "        return 'perinatal' \n",
    "    elif bool(re.match('7[8-9][0-9]', text)) == True:\n",
    "        return 'symptoms or ill-defined' \n",
    "    elif bool(re.match('8[0-9][0-9]|9[0-9][0-9]', text)) == True:\n",
    "        return 'injuries' \n",
    "    elif bool(re.match('E|V', text)) == True:\n",
    "        return 'suppl' \n",
    "    else:\n",
    "        return 'infectious'"
   ]
  },
  {
   "cell_type": "code",
   "execution_count": 11,
   "metadata": {
    "collapsed": true
   },
   "outputs": [],
   "source": [
    "def heartDisease(text):\n",
    "    if bool(re.match('41[0-4]|42[0-5]|427|429|74[5-6]', text)) == True:\n",
    "        return 1\n",
    "    return 0\n",
    "def CAD(text):\n",
    "    if bool(re.match('41[0-4]|429', text)) == True:\n",
    "        return 1\n",
    "    return 0\n",
    "def cardiomyopathy(text):\n",
    "    if bool(re.match('42[0-5]', text)) == True:\n",
    "        return 1\n",
    "    return 0\n",
    "def CHF(text):\n",
    "    if bool(re.match('426', text)) == True:\n",
    "        return 1\n",
    "    return 0\n",
    "def arrhythmias(text):\n",
    "    if bool(re.match('427', text)) == True:\n",
    "        return 1\n",
    "    return 0\n",
    "def heartdefects(text):\n",
    "    if bool(re.match('74[5-6]', text)) == True:\n",
    "        return 1\n",
    "    return 0\n",
    "def stroke(text):\n",
    "    if bool(re.match('43[0-1]|43[3-6]|997.02', text)) == True:\n",
    "        return 1\n",
    "    return 0\n",
    "def sleepApnea(text):\n",
    "    if bool(re.match('727.23|780.57', text)) == True:\n",
    "        return 1\n",
    "    return 0\n",
    "def gestDiab(text):\n",
    "    if bool(re.match('648.8', text)) == True:\n",
    "        return 1\n",
    "    return 0\n",
    "def polyOvary(text):\n",
    "    if bool(re.match('256.4', text)) == True:\n",
    "        return 1\n",
    "    return 0\n",
    "def frozenShoulder(text):\n",
    "    if bool(re.match('726.0', text)) == True:\n",
    "        return 1\n",
    "    return 0\n",
    "def hemochr(text):\n",
    "    if bool(re.match('275.03', text)) == True:\n",
    "        return 1\n",
    "    return 0\n",
    "def hepatitis(text):\n",
    "    if bool(re.match('070.2|070.3', text)) == True:\n",
    "        return 1\n",
    "    return 0\n",
    "def diabCompl(text):\n",
    "    if bool(re.match('250.[1-3]|250.5|250.8|251.[0-2]|270.3|775.6|962.3', text)) == True:\n",
    "        return 1\n",
    "    return 0\n",
    "def kidneyFailure(text):\n",
    "    if bool(re.match('58[4-5]', text)) == True:\n",
    "        return 1\n",
    "    return 0\n",
    "def dementia(text):\n",
    "    if bool(re.match('331|290|294|797', text)) == True:\n",
    "        return 1\n",
    "    return 0\n",
    "def acanthosis(text):\n",
    "    if bool(re.match('701.2', text)) == True:\n",
    "        return 1\n",
    "    return 0\n",
    "def blindness(text):\n",
    "    if bool(re.match('369', text)) == True:\n",
    "        return 1\n",
    "    return 0\n",
    "def sDysfunction(text):\n",
    "    if bool(re.match('302.7', text)) == True:\n",
    "        return 1\n",
    "    return 0\n",
    "def preDiabetes(text):\n",
    "    if bool(re.match('790.29', text)) == True:\n",
    "        return 1\n",
    "    return 0"
   ]
  },
  {
   "cell_type": "code",
   "execution_count": 12,
   "metadata": {
    "collapsed": false
   },
   "outputs": [],
   "source": [
    "diagnosisT['ICD9'] = diagnosisT['ICD9Code'].apply(stripPeriods)\n",
    "diagnosisT['hasHeartDisease'] = diagnosisT['ICD9Code'].apply(heartDisease)\n",
    "diagnosisT['hasCAD'] = diagnosisT['ICD9Code'].apply(CAD)\n",
    "diagnosisT['hasCardiomyo'] = diagnosisT['ICD9Code'].apply(cardiomyopathy)\n",
    "diagnosisT['hasArrhy'] = diagnosisT['ICD9Code'].apply(arrhythmias)\n",
    "diagnosisT['hasHeartDefects'] = diagnosisT['ICD9Code'].apply(heartdefects)\n",
    "diagnosisT['hasCHF'] = diagnosisT['ICD9Code'].apply(CHF)\n",
    "diagnosisT['hasStroke'] = diagnosisT['ICD9Code'].apply(stroke)\n",
    "diagnosisT['hasSleepA'] = diagnosisT['ICD9Code'].apply(sleepApnea)\n",
    "diagnosisT['hasGestDiab'] = diagnosisT['ICD9Code'].apply(gestDiab)\n",
    "diagnosisT['hasPolyO'] = diagnosisT['ICD9Code'].apply(polyOvary)\n",
    "diagnosisT['hasFrozenShoulder'] = diagnosisT['ICD9Code'].apply(frozenShoulder)\n",
    "diagnosisT['hasHemoChr'] = diagnosisT['ICD9Code'].apply(hemochr)\n",
    "diagnosisT['hasHepatitis'] = diagnosisT['ICD9Code'].apply(hepatitis)\n",
    "diagnosisT['hasDiabComp'] = diagnosisT['ICD9Code'].apply(diabCompl)\n",
    "diagnosisT['hasKidneyF'] = diagnosisT['ICD9Code'].apply(kidneyFailure)\n",
    "diagnosisT['hasDementia'] = diagnosisT['ICD9Code'].apply(dementia)\n",
    "diagnosisT['hasAcanthosis'] = diagnosisT['ICD9Code'].apply(acanthosis)\n",
    "diagnosisT['hasBlindness'] = diagnosisT['ICD9Code'].apply(blindness)\n",
    "diagnosisT['hasSDysf'] = diagnosisT['ICD9Code'].apply(sDysfunction)\n",
    "diagnosisT['hasPreDiab'] = diagnosisT['ICD9Code'].apply(preDiabetes)"
   ]
  },
  {
   "cell_type": "code",
   "execution_count": 13,
   "metadata": {
    "collapsed": true
   },
   "outputs": [],
   "source": [
    "dataset1 = pd.merge(diagnosisT, CCS, how='inner', on =['ICD9'])\n",
    "dataset1['ICD9Label'] = dataset1['ICD9Code'].apply(ICD9Label)"
   ]
  },
  {
   "cell_type": "code",
   "execution_count": 14,
   "metadata": {
    "collapsed": false
   },
   "outputs": [],
   "source": [
    "ICD9Labels = dataset1.ix[:, ['PatientGuid', 'ICD9Label']].drop_duplicates()\n",
    "ICD9Labels['counts'] = 1\n",
    "ICD9Labels = ICD9Labels.pivot('PatientGuid', 'ICD9Label', 'counts')\n",
    "ICD9Labels = ICD9Labels.fillna(0).reset_index()"
   ]
  },
  {
   "cell_type": "code",
   "execution_count": 15,
   "metadata": {
    "collapsed": false
   },
   "outputs": [],
   "source": [
    "diagnosisSummary = dataset1.groupby(['PatientGuid'])[['hasHeartDisease', 'hasCHF', 'hasStroke', 'hasSleepA', 'hasGestDiab','hasPolyO', 'hasFrozenShoulder', 'hasHemoChr','hasHepatitis', 'hasDiabComp', 'hasKidneyF', 'hasDementia','hasAcanthosis', 'hasBlindness' ,'hasSDysf', 'hasPreDiab']].max()\n",
    "diagnosisSummary = diagnosisSummary.reset_index()\n",
    "columns = diagnosisSummary.columns[1:]\n",
    "diagnosisSummary['SumRiskFactor'] = diagnosisSummary[columns].sum(axis=1)\n",
    "diagnosisSummary['NoRiskFactor'] = 1\n",
    "diagnosisSummary.loc[diagnosisSummary['SumRiskFactor'] > 0, 'NoRiskFactor'] = 0\n",
    "diagnosisSummary = diagnosisSummary.drop('SumRiskFactor', 1)"
   ]
  },
  {
   "cell_type": "code",
   "execution_count": 16,
   "metadata": {
    "collapsed": false
   },
   "outputs": [],
   "source": [
    "patientdata = pd.merge(patientT, diagnosisSummary, how='inner', on =['PatientGuid'])\n",
    "patientdata = pd.merge(patientdata, ICD9Labels, how='inner', on =['PatientGuid'])"
   ]
  },
  {
   "cell_type": "code",
   "execution_count": 17,
   "metadata": {
    "collapsed": false
   },
   "outputs": [],
   "source": [
    "complfactors = patientdata.columns[6:27]\n",
    "ICD9levels = patientdata.columns[27:]"
   ]
  },
  {
   "cell_type": "code",
   "execution_count": 18,
   "metadata": {
    "collapsed": false
   },
   "outputs": [
    {
     "name": "stderr",
     "output_type": "stream",
     "text": [
      "/Users/janzaloudek/anaconda/lib/python3.6/site-packages/ipykernel/__main__.py:4: FutureWarning: sort(columns=....) is deprecated, use sort_values(by=.....)\n"
     ]
    },
    {
     "data": {
      "text/html": [
       "<div>\n",
       "<table border=\"1\" class=\"dataframe\">\n",
       "  <thead>\n",
       "    <tr style=\"text-align: right;\">\n",
       "      <th></th>\n",
       "      <th>No</th>\n",
       "      <th>Yes</th>\n",
       "      <th>Percentage</th>\n",
       "    </tr>\n",
       "  </thead>\n",
       "  <tbody>\n",
       "    <tr>\n",
       "      <th>hasKidneyF</th>\n",
       "      <td>160.0</td>\n",
       "      <td>195.0</td>\n",
       "      <td>0.549296</td>\n",
       "    </tr>\n",
       "    <tr>\n",
       "      <th>hasDiabComp</th>\n",
       "      <td>37.0</td>\n",
       "      <td>26.0</td>\n",
       "      <td>0.412698</td>\n",
       "    </tr>\n",
       "    <tr>\n",
       "      <th>hasBlindness</th>\n",
       "      <td>16.0</td>\n",
       "      <td>9.0</td>\n",
       "      <td>0.360000</td>\n",
       "    </tr>\n",
       "    <tr>\n",
       "      <th>hasSDysf</th>\n",
       "      <td>54.0</td>\n",
       "      <td>29.0</td>\n",
       "      <td>0.349398</td>\n",
       "    </tr>\n",
       "    <tr>\n",
       "      <th>hasStroke</th>\n",
       "      <td>117.0</td>\n",
       "      <td>61.0</td>\n",
       "      <td>0.342697</td>\n",
       "    </tr>\n",
       "    <tr>\n",
       "      <th>hasSleepA</th>\n",
       "      <td>43.0</td>\n",
       "      <td>22.0</td>\n",
       "      <td>0.338462</td>\n",
       "    </tr>\n",
       "    <tr>\n",
       "      <th>hasPreDiab</th>\n",
       "      <td>155.0</td>\n",
       "      <td>76.0</td>\n",
       "      <td>0.329004</td>\n",
       "    </tr>\n",
       "    <tr>\n",
       "      <th>hasHeartDisease</th>\n",
       "      <td>792.0</td>\n",
       "      <td>374.0</td>\n",
       "      <td>0.320755</td>\n",
       "    </tr>\n",
       "    <tr>\n",
       "      <th>hasHepatitis</th>\n",
       "      <td>13.0</td>\n",
       "      <td>6.0</td>\n",
       "      <td>0.315789</td>\n",
       "    </tr>\n",
       "    <tr>\n",
       "      <th>blood</th>\n",
       "      <td>598.0</td>\n",
       "      <td>271.0</td>\n",
       "      <td>0.311853</td>\n",
       "    </tr>\n",
       "    <tr>\n",
       "      <th>circulatory</th>\n",
       "      <td>3323.0</td>\n",
       "      <td>1471.0</td>\n",
       "      <td>0.306842</td>\n",
       "    </tr>\n",
       "    <tr>\n",
       "      <th>hasDementia</th>\n",
       "      <td>134.0</td>\n",
       "      <td>57.0</td>\n",
       "      <td>0.298429</td>\n",
       "    </tr>\n",
       "    <tr>\n",
       "      <th>hasFrozenShoulder</th>\n",
       "      <td>14.0</td>\n",
       "      <td>5.0</td>\n",
       "      <td>0.263158</td>\n",
       "    </tr>\n",
       "    <tr>\n",
       "      <th>hasAcanthosis</th>\n",
       "      <td>3.0</td>\n",
       "      <td>1.0</td>\n",
       "      <td>0.250000</td>\n",
       "    </tr>\n",
       "    <tr>\n",
       "      <th>digestive</th>\n",
       "      <td>2461.0</td>\n",
       "      <td>688.0</td>\n",
       "      <td>0.218482</td>\n",
       "    </tr>\n",
       "    <tr>\n",
       "      <th>congenital</th>\n",
       "      <td>84.0</td>\n",
       "      <td>23.0</td>\n",
       "      <td>0.214953</td>\n",
       "    </tr>\n",
       "    <tr>\n",
       "      <th>hasCHF</th>\n",
       "      <td>46.0</td>\n",
       "      <td>12.0</td>\n",
       "      <td>0.206897</td>\n",
       "    </tr>\n",
       "    <tr>\n",
       "      <th>NoRiskFactor</th>\n",
       "      <td>6615.0</td>\n",
       "      <td>1237.0</td>\n",
       "      <td>0.157539</td>\n",
       "    </tr>\n",
       "    <tr>\n",
       "      <th>hasPolyO</th>\n",
       "      <td>44.0</td>\n",
       "      <td>5.0</td>\n",
       "      <td>0.102041</td>\n",
       "    </tr>\n",
       "    <tr>\n",
       "      <th>hasHemoChr</th>\n",
       "      <td>1.0</td>\n",
       "      <td>0.0</td>\n",
       "      <td>0.000000</td>\n",
       "    </tr>\n",
       "    <tr>\n",
       "      <th>hasGestDiab</th>\n",
       "      <td>7.0</td>\n",
       "      <td>0.0</td>\n",
       "      <td>0.000000</td>\n",
       "    </tr>\n",
       "  </tbody>\n",
       "</table>\n",
       "</div>"
      ],
      "text/plain": [
       "                       No     Yes  Percentage\n",
       "hasKidneyF          160.0   195.0    0.549296\n",
       "hasDiabComp          37.0    26.0    0.412698\n",
       "hasBlindness         16.0     9.0    0.360000\n",
       "hasSDysf             54.0    29.0    0.349398\n",
       "hasStroke           117.0    61.0    0.342697\n",
       "hasSleepA            43.0    22.0    0.338462\n",
       "hasPreDiab          155.0    76.0    0.329004\n",
       "hasHeartDisease     792.0   374.0    0.320755\n",
       "hasHepatitis         13.0     6.0    0.315789\n",
       "blood               598.0   271.0    0.311853\n",
       "circulatory        3323.0  1471.0    0.306842\n",
       "hasDementia         134.0    57.0    0.298429\n",
       "hasFrozenShoulder    14.0     5.0    0.263158\n",
       "hasAcanthosis         3.0     1.0    0.250000\n",
       "digestive          2461.0   688.0    0.218482\n",
       "congenital           84.0    23.0    0.214953\n",
       "hasCHF               46.0    12.0    0.206897\n",
       "NoRiskFactor       6615.0  1237.0    0.157539\n",
       "hasPolyO             44.0     5.0    0.102041\n",
       "hasHemoChr            1.0     0.0    0.000000\n",
       "hasGestDiab           7.0     0.0    0.000000"
      ]
     },
     "execution_count": 18,
     "metadata": {},
     "output_type": "execute_result"
    }
   ],
   "source": [
    "diagsummary = patientdata.groupby(['DMIndicator'])[complfactors].sum().T\n",
    "diagsummary.columns =[\"No\", 'Yes']\n",
    "diagsummary['Percentage'] = diagsummary['Yes']/(diagsummary[\"No\"] + diagsummary[\"Yes\"])\n",
    "diagsummary.sort('Percentage', ascending=False)"
   ]
  },
  {
   "cell_type": "markdown",
   "metadata": {},
   "source": [
    "###Part II: Creating Features based on Transcripts\n",
    "Weight/BMI, Blood Pressure\n",
    "1. BMI Source: http://www.who.int/mediacentre/factsheets/fs311/en/\n",
    "2. Blood Pressure Source: http://www.nhlbi.nih.gov/health/health-topics/topics/hbp"
   ]
  },
  {
   "cell_type": "code",
   "execution_count": 19,
   "metadata": {
    "collapsed": false
   },
   "outputs": [],
   "source": [
    "trnscrpT.head(5)\n",
    "trnscrpT['BMI'] = trnscrpT['BMI'].replace(0.000, np.nan)"
   ]
  },
  {
   "cell_type": "code",
   "execution_count": 20,
   "metadata": {
    "collapsed": false
   },
   "outputs": [],
   "source": [
    "bmi1 = trnscrpT.groupby(['PatientGuid'])['BMI'].mean()\n",
    "bmi2 = trnscrpT.groupby(['PatientGuid'])['BMI'].max()\n",
    "bmi3 = trnscrpT.groupby(['PatientGuid'])['BMI'].min()\n",
    "bmi = pd.concat([bmi1, bmi2, bmi3], axis = 1)\n",
    "bmi.columns = ['MeanBMI', 'MaxBMI', 'MinBMI']\n",
    "bmi['isOverweight'] = 0\n",
    "bmi['isObese'] = 0\n",
    "bmi.loc[(bmi['MeanBMI'] >= 25) & (bmi['MeanBMI'] < 30), 'isOverweight'] = 1\n",
    "bmi.loc[bmi['MeanBMI'] >= 30, 'isObese'] = 1\n",
    "bmi['BMIDiff'] = np.abs(bmi['MaxBMI'] - bmi['MinBMI'])\n",
    "bmi['NotOverweight'] = 1\n",
    "bmi.loc[(bmi['isOverweight'] == 1) | (bmi['isObese'] == 1), 'NotOverweight'] = 0 \n",
    "bmi = bmi.reset_index()"
   ]
  },
  {
   "cell_type": "code",
   "execution_count": 21,
   "metadata": {
    "collapsed": false
   },
   "outputs": [
    {
     "data": {
      "text/plain": [
       "(9915, 49)"
      ]
     },
     "execution_count": 21,
     "metadata": {},
     "output_type": "execute_result"
    }
   ],
   "source": [
    "patientdata = pd.merge(patientdata, bmi, how='inner', on =['PatientGuid'])\n",
    "patientdata.shape"
   ]
  },
  {
   "cell_type": "code",
   "execution_count": 22,
   "metadata": {
    "collapsed": false
   },
   "outputs": [],
   "source": [
    "bloodpressure1 = trnscrpT.groupby(['PatientGuid'])[['SystolicBP', 'DiastolicBP']].mean()\n",
    "bloodpressure2 = trnscrpT.groupby(['PatientGuid'])[['SystolicBP', 'DiastolicBP']].max()\n",
    "bloodpressure3 = trnscrpT.groupby(['PatientGuid'])[['SystolicBP', 'DiastolicBP']].min()\n",
    "bloodpressure = pd.concat([bloodpressure1, bloodpressure2, bloodpressure3], axis = 1)\n",
    "bloodpressure.columns = ['meanSystolicBP', 'meanDiastolicBP', 'maxSystolicBP', 'maxDiastolicBP', 'minSystolicBP', 'minDiastolicBP']\n",
    "bloodpressure['SystDiff'] = np.abs(bloodpressure['maxSystolicBP'] - bloodpressure['minSystolicBP'])\n",
    "bloodpressure['DiastDiff'] = np.abs(bloodpressure['maxDiastolicBP'] - bloodpressure['minDiastolicBP'])\n",
    "bloodpressure['isPreHyp'] = 0\n",
    "bloodpressure['isStage1HBP'] = 0\n",
    "bloodpressure['isStage2HBP'] = 0\n",
    "bloodpressure.loc[((bloodpressure['meanSystolicBP'] >= 120) & (bloodpressure['meanSystolicBP'] < 140)) | ((bloodpressure['meanDiastolicBP'] >= 80) & (bloodpressure['meanDiastolicBP'] < 90)), 'isPreHyp'] = 1\n",
    "bloodpressure.loc[((bloodpressure['meanSystolicBP'] >= 140) & (bloodpressure['meanSystolicBP'] < 160)) | ((bloodpressure['meanDiastolicBP'] >= 90) & (bloodpressure['meanDiastolicBP'] < 100)), 'isStage1HBP'] = 1\n",
    "bloodpressure.loc[(bloodpressure['meanSystolicBP'] >= 160) | (bloodpressure['meanDiastolicBP'] >= 100), 'isStage2HBP'] = 1\n",
    "bloodpressure.loc[bloodpressure['isStage2HBP'] == 1, 'isStage1HBP'] = 0\n",
    "bloodpressure.loc[bloodpressure['isStage1HBP'] == 1, 'isPreHyp'] = 0\n",
    "bloodpressure = bloodpressure.reset_index()"
   ]
  },
  {
   "cell_type": "code",
   "execution_count": 23,
   "metadata": {
    "collapsed": false
   },
   "outputs": [
    {
     "data": {
      "text/plain": [
       "(9915, 60)"
      ]
     },
     "execution_count": 23,
     "metadata": {},
     "output_type": "execute_result"
    }
   ],
   "source": [
    "patientdata = pd.merge(patientdata, bloodpressure, how='inner', on =['PatientGuid'])\n",
    "patientdata.shape"
   ]
  },
  {
   "cell_type": "code",
   "execution_count": 24,
   "metadata": {
    "collapsed": true
   },
   "outputs": [],
   "source": [
    "patientdata['Age'] = 2015 - patientdata['YearOfBirth']"
   ]
  },
  {
   "cell_type": "code",
   "execution_count": 25,
   "metadata": {
    "collapsed": false
   },
   "outputs": [
    {
     "data": {
      "text/html": [
       "<div>\n",
       "<table border=\"1\" class=\"dataframe\">\n",
       "  <thead>\n",
       "    <tr style=\"text-align: right;\">\n",
       "      <th>DMIndicator</th>\n",
       "      <th>0</th>\n",
       "      <th>1</th>\n",
       "    </tr>\n",
       "  </thead>\n",
       "  <tbody>\n",
       "    <tr>\n",
       "      <th>BMIDiff</th>\n",
       "      <td>117.663003</td>\n",
       "      <td>43.137776</td>\n",
       "    </tr>\n",
       "    <tr>\n",
       "      <th>SystDiff</th>\n",
       "      <td>27.054550</td>\n",
       "      <td>36.220179</td>\n",
       "    </tr>\n",
       "    <tr>\n",
       "      <th>DiastDiff</th>\n",
       "      <td>18.722756</td>\n",
       "      <td>22.703100</td>\n",
       "    </tr>\n",
       "  </tbody>\n",
       "</table>\n",
       "</div>"
      ],
      "text/plain": [
       "DMIndicator           0          1\n",
       "BMIDiff      117.663003  43.137776\n",
       "SystDiff      27.054550  36.220179\n",
       "DiastDiff     18.722756  22.703100"
      ]
     },
     "execution_count": 25,
     "metadata": {},
     "output_type": "execute_result"
    }
   ],
   "source": [
    "patientdata.groupby(['DMIndicator'])['BMIDiff', 'SystDiff', 'DiastDiff'].mean().T"
   ]
  },
  {
   "cell_type": "code",
   "execution_count": 26,
   "metadata": {
    "collapsed": false
   },
   "outputs": [
    {
     "name": "stderr",
     "output_type": "stream",
     "text": [
      "/Users/janzaloudek/anaconda/lib/python3.6/site-packages/ipykernel/__main__.py:4: FutureWarning: sort(columns=....) is deprecated, use sort_values(by=.....)\n"
     ]
    },
    {
     "data": {
      "text/html": [
       "<div>\n",
       "<table border=\"1\" class=\"dataframe\">\n",
       "  <thead>\n",
       "    <tr style=\"text-align: right;\">\n",
       "      <th></th>\n",
       "      <th>No</th>\n",
       "      <th>Yes</th>\n",
       "      <th>Percentage</th>\n",
       "    </tr>\n",
       "  </thead>\n",
       "  <tbody>\n",
       "    <tr>\n",
       "      <th>isObese</th>\n",
       "      <td>2841</td>\n",
       "      <td>1054</td>\n",
       "      <td>0.270603</td>\n",
       "    </tr>\n",
       "    <tr>\n",
       "      <th>isOverweight</th>\n",
       "      <td>2686</td>\n",
       "      <td>586</td>\n",
       "      <td>0.179095</td>\n",
       "    </tr>\n",
       "    <tr>\n",
       "      <th>NotOverweight</th>\n",
       "      <td>2485</td>\n",
       "      <td>263</td>\n",
       "      <td>0.095706</td>\n",
       "    </tr>\n",
       "  </tbody>\n",
       "</table>\n",
       "</div>"
      ],
      "text/plain": [
       "                 No   Yes  Percentage\n",
       "isObese        2841  1054    0.270603\n",
       "isOverweight   2686   586    0.179095\n",
       "NotOverweight  2485   263    0.095706"
      ]
     },
     "execution_count": 26,
     "metadata": {},
     "output_type": "execute_result"
    }
   ],
   "source": [
    "bodyweight = patientdata.groupby(['DMIndicator'])['isOverweight','isObese', 'NotOverweight'].sum().T\n",
    "bodyweight.columns =[\"No\", 'Yes']\n",
    "bodyweight['Percentage'] = bodyweight['Yes']/(bodyweight[\"No\"] + bodyweight[\"Yes\"])\n",
    "bodyweight.sort('Percentage', ascending=False)"
   ]
  },
  {
   "cell_type": "code",
   "execution_count": 27,
   "metadata": {
    "collapsed": false
   },
   "outputs": [
    {
     "name": "stderr",
     "output_type": "stream",
     "text": [
      "/Users/janzaloudek/anaconda/lib/python3.6/site-packages/ipykernel/__main__.py:4: FutureWarning: sort(columns=....) is deprecated, use sort_values(by=.....)\n"
     ]
    },
    {
     "data": {
      "text/html": [
       "<div>\n",
       "<table border=\"1\" class=\"dataframe\">\n",
       "  <thead>\n",
       "    <tr style=\"text-align: right;\">\n",
       "      <th></th>\n",
       "      <th>No</th>\n",
       "      <th>Yes</th>\n",
       "      <th>Percentage</th>\n",
       "    </tr>\n",
       "  </thead>\n",
       "  <tbody>\n",
       "    <tr>\n",
       "      <th>isStage2HBP</th>\n",
       "      <td>128</td>\n",
       "      <td>67</td>\n",
       "      <td>0.343590</td>\n",
       "    </tr>\n",
       "    <tr>\n",
       "      <th>isStage1HBP</th>\n",
       "      <td>1008</td>\n",
       "      <td>397</td>\n",
       "      <td>0.282562</td>\n",
       "    </tr>\n",
       "    <tr>\n",
       "      <th>isPreHyp</th>\n",
       "      <td>4277</td>\n",
       "      <td>1128</td>\n",
       "      <td>0.208696</td>\n",
       "    </tr>\n",
       "  </tbody>\n",
       "</table>\n",
       "</div>"
      ],
      "text/plain": [
       "               No   Yes  Percentage\n",
       "isStage2HBP   128    67    0.343590\n",
       "isStage1HBP  1008   397    0.282562\n",
       "isPreHyp     4277  1128    0.208696"
      ]
     },
     "execution_count": 27,
     "metadata": {},
     "output_type": "execute_result"
    }
   ],
   "source": [
    "bloodprs = patientdata.groupby(['DMIndicator'])['isPreHyp','isStage1HBP', 'isStage2HBP'].sum().T\n",
    "bloodprs.columns =[\"No\", 'Yes']\n",
    "bloodprs['Percentage'] = bloodprs['Yes']/(bloodprs[\"No\"] + bloodprs[\"Yes\"])\n",
    "bloodprs.sort('Percentage', ascending=False)"
   ]
  },
  {
   "cell_type": "code",
   "execution_count": 28,
   "metadata": {
    "collapsed": false
   },
   "outputs": [
    {
     "data": {
      "text/plain": [
       "0    8012\n",
       "1    1903\n",
       "Name: DMIndicator, dtype: int64"
      ]
     },
     "execution_count": 28,
     "metadata": {},
     "output_type": "execute_result"
    }
   ],
   "source": [
    "patientdata.DMIndicator.value_counts()"
   ]
  },
  {
   "cell_type": "code",
   "execution_count": 29,
   "metadata": {
    "collapsed": false
   },
   "outputs": [
    {
     "data": {
      "text/plain": [
       "<matplotlib.axes._subplots.AxesSubplot at 0x125b0a518>"
      ]
     },
     "execution_count": 29,
     "metadata": {},
     "output_type": "execute_result"
    },
    {
     "data": {
      "image/png": "[encoded data removed]",
      "text/plain": [
       "<matplotlib.figure.Figure at 0x11f6938d0>"
      ]
     },
     "metadata": {},
     "output_type": "display_data"
    }
   ],
   "source": [
    "%matplotlib inline\n",
    "matplotlib.style.use('ggplot')\n",
    "import seaborn as sns\n",
    "ax = sns.countplot(y=\"DMIndicator\", data=patientdata)\n",
    "ax"
   ]
  },
  {
   "cell_type": "markdown",
   "metadata": {},
   "source": [
    "#Approach 2\n",
    "\n",
    "Output file for modeling is patientdata2"
   ]
  },
  {
   "cell_type": "code",
   "execution_count": 30,
   "metadata": {
    "collapsed": false
   },
   "outputs": [],
   "source": [
    "os.chdir('/Users/janzaloudek/Development/Skola/umass/diabetes/jupyter/trainingSet')\n",
    "diagnosisT = pd.read_csv('training_SyncDiagnosis.csv')\n",
    "allergyT = pd.read_csv('training_SyncAllergy.csv')\n",
    "immunT = pd.read_csv('training_SyncImmunization.csv')\n",
    "labObsT = pd.read_csv('training_SyncLabObservation.csv')\n",
    "labPanT = pd.read_csv('training_SyncLabPanel.csv')\n",
    "labResT = pd.read_csv('training_SyncLabResult.csv')\n",
    "medicationT = pd.read_csv('training_SyncMedication.csv')\n",
    "patientT = pd.read_csv('training_SyncPatient.csv')\n",
    "patientCondT = pd.read_csv('training_SyncPatientCondition.csv')\n",
    "smokingT = pd.read_csv('training_SyncPatientSmokingStatus.csv')\n",
    "prescripT = pd.read_csv('training_SyncPrescription.csv')\n",
    "trnscrpT = pd.read_csv('training_SyncTranscript.csv')\n",
    "trnscrpAT = pd.read_csv('training_SyncTranscriptAllergy.csv')\n",
    "trnscrpDT = pd.read_csv('training_SyncTranscriptDiagnosis.csv')\n",
    "trnscrptMT = pd.read_csv('training_SyncTranscriptMedication.csv')\n",
    "myfileT = pd.read_csv('myfile.csv')\n",
    "conditionT = pd.read_csv('SyncCondition.csv')\n",
    "smokingT = pd.read_csv('SyncSmokingStatus.csv')"
   ]
  },
  {
   "cell_type": "markdown",
   "metadata": {},
   "source": [
    "#####Detailed Analysis of Conditions had by Diabetic Patients"
   ]
  },
  {
   "cell_type": "code",
   "execution_count": 31,
   "metadata": {
    "collapsed": true
   },
   "outputs": [],
   "source": [
    "import numpy as np\n",
    "import pandas as pd\n",
    "from random import sample\n",
    "import sys"
   ]
  },
  {
   "cell_type": "code",
   "execution_count": 34,
   "metadata": {
    "collapsed": false
   },
   "outputs": [],
   "source": [
    "def getDiabeticCodes(dinput):\n",
    "    diaganalysis=dinput\n",
    "    try:\n",
    "        diaganalysis = diaganalysis.groupby(['DMIndicator', 'ICD9Code'])\n",
    "    except ValueError:\n",
    "        print(dinput)\n",
    "        sys.exit();\n",
    "    diaganalysis = diaganalysis['PatientGuid'].value_counts()\n",
    "    \n",
    "    try:\n",
    "        diaganalysis = diaganalysis.reset_index()\n",
    "    except ValueError:\n",
    "        print(diaganalysis)\n",
    "        sys.exit()\n",
    "        \n",
    "    print(diaganalysis);    \n",
    "            \n",
    "    diaganalysis.columns = ['DMIndicator','ICD9Code','level_2', 'Counts']\n",
    "    diaganalysis.loc[diaganalysis['Counts'] > 1, 'Counts'] = 1\n",
    "    diaganalysis = diaganalysis.groupby(['ICD9Code','DMIndicator', ])['Counts'].sum().reset_index()\n",
    "    diaganalysis = diaganalysis.pivot('ICD9Code', 'DMIndicator', 'Counts')\n",
    "    diaganalysis = diaganalysis.fillna(0)\n",
    "    diaganalysis.columns = ['No', 'Yes']\n",
    "    diaganalysis = diaganalysis.reset_index()\n",
    "    diaganalysis['Percentage'] = diaganalysis['Yes']/(diaganalysis['No'] + diaganalysis['Yes'])\n",
    "    diaganalysis['total'] = diaganalysis['No'] + diaganalysis['Yes']\n",
    "    summarydata = diaganalysis[(diaganalysis['total'] >= 5) & (diaganalysis['Percentage'] >= 0.20)][['ICD9Code', 'No', 'Yes', 'Percentage', 'total']]\n",
    "    ICD9list = summarydata['ICD9Code'].unique()\n",
    "    return ICD9list"
   ]
  },
  {
   "cell_type": "code",
   "execution_count": 35,
   "metadata": {
    "collapsed": true
   },
   "outputs": [],
   "source": [
    "diaganalysis = pd.merge(patientT, diagnosisT, on=['PatientGuid'])"
   ]
  },
  {
   "cell_type": "code",
   "execution_count": 36,
   "metadata": {
    "collapsed": false
   },
   "outputs": [],
   "source": [
    "diagnosisT['ICD9Label'] = diagnosisT['ICD9Code'].apply(ICD9Label)\n",
    "diagnosisT['Counts'] = 1\n",
    "ICD9Labeldata = diagnosisT.groupby(['PatientGuid', 'ICD9Label'])['Counts'].sum().reset_index().pivot('PatientGuid', 'ICD9Label', 'Counts').reset_index()\n",
    "ICD9Labeldata = ICD9Labeldata.fillna(0)"
   ]
  },
  {
   "cell_type": "code",
   "execution_count": 38,
   "metadata": {
    "collapsed": false
   },
   "outputs": [
    {
     "name": "stdout",
     "output_type": "stream",
     "text": [
      "Index(['PatientGuid', 'blood', 'circulatory', 'congenital', 'digestive',\n",
      "       'endoctrine', 'genitourinary', 'infectious', 'injuries', 'mental',\n",
      "       'musculoskeletal', 'neoplasms', 'nervous', 'perinatal', 'pregnancy',\n",
      "       'respiratory', 'sense', 'skin', 'suppl', 'symptoms or ill-defined'],\n",
      "      dtype='object', name='ICD9Label')\n"
     ]
    }
   ],
   "source": [
    "print(ICD9Labeldata.columns)"
   ]
  },
  {
   "cell_type": "code",
   "execution_count": 39,
   "metadata": {
    "collapsed": false
   },
   "outputs": [
    {
     "ename": "NameError",
     "evalue": "name 'xrange' is not defined",
     "output_type": "error",
     "traceback": [
      "\u001b[0;31m------------------------------------------\u001b[0m",
      "\u001b[0;31mNameError\u001b[0mTraceback (most recent call last)",
      "\u001b[0;32m<ipython-input-39-e83fa484cf12>\u001b[0m in \u001b[0;36m<module>\u001b[0;34m()\u001b[0m\n\u001b[1;32m      2\u001b[0m \u001b[0mi\u001b[0m \u001b[0;34m=\u001b[0m \u001b[0;36m0\u001b[0m\u001b[0;34m\u001b[0m\u001b[0m\n\u001b[1;32m      3\u001b[0m \u001b[0;32mwhile\u001b[0m \u001b[0mi\u001b[0m \u001b[0;34m<\u001b[0m \u001b[0;36m25\u001b[0m\u001b[0;34m:\u001b[0m\u001b[0;34m\u001b[0m\u001b[0m\n\u001b[0;32m----> 4\u001b[0;31m     \u001b[0mrindex\u001b[0m \u001b[0;34m=\u001b[0m \u001b[0mnp\u001b[0m\u001b[0;34m.\u001b[0m\u001b[0marray\u001b[0m\u001b[0;34m(\u001b[0m\u001b[0msample\u001b[0m\u001b[0;34m(\u001b[0m\u001b[0mxrange\u001b[0m\u001b[0;34m(\u001b[0m\u001b[0mlen\u001b[0m\u001b[0;34m(\u001b[0m\u001b[0mdiaganalysis\u001b[0m\u001b[0;34m)\u001b[0m\u001b[0;34m)\u001b[0m\u001b[0;34m,\u001b[0m \u001b[0;36m63000\u001b[0m\u001b[0;34m)\u001b[0m\u001b[0;34m)\u001b[0m\u001b[0;34m\u001b[0m\u001b[0m\n\u001b[0m\u001b[1;32m      5\u001b[0m     \u001b[0mrindexlist\u001b[0m\u001b[0;34m.\u001b[0m\u001b[0mappend\u001b[0m\u001b[0;34m(\u001b[0m\u001b[0mrindex\u001b[0m\u001b[0;34m)\u001b[0m\u001b[0;34m\u001b[0m\u001b[0m\n\u001b[1;32m      6\u001b[0m     \u001b[0mi\u001b[0m \u001b[0;34m+=\u001b[0m \u001b[0;36m1\u001b[0m\u001b[0;34m\u001b[0m\u001b[0m\n",
      "\u001b[0;31mNameError\u001b[0m: name 'xrange' is not defined"
     ]
    }
   ],
   "source": [
    "rindexlist = []\n",
    "i = 0\n",
    "while i < 25:\n",
    "    rindex = np.array(sample(xrange(len(diaganalysis)), 63000))\n",
    "    rindexlist.append(rindex)\n",
    "    i += 1\n",
    "datasets = []\n",
    "for item in rindexlist:\n",
    "    dataset = diaganalysis.ix[item]\n",
    "    datasets.append(dataset)\n",
    "ICD9list = []\n",
    "for item in datasets:\n",
    "    diab_codes = getDiabeticCodes(item)\n",
    "    ICD9 = set(diab_codes)\n",
    "    ICD9list.append(ICD9)\n",
    "commonICD9 = ICD9list[0]\n",
    "for i in range(1, len(ICD9list)):\n",
    "    commonICD9 = commonICD9.intersection(ICD9list[i])\n",
    "diaganalysis['RiskFactors'] = diaganalysis[diaganalysis['ICD9Code'].isin(commonICD9)]['ICD9Code']\n",
    "riskfactors = pd.get_dummies(diaganalysis['RiskFactors'])\n",
    "riskfactors = riskfactors.fillna(0)\n",
    "diaganalysis = diaganalysis['PatientGuid']\n",
    "diaganalysis = pd.concat([diaganalysis, riskfactors, ], axis=1)"
   ]
  },
  {
   "cell_type": "code",
   "execution_count": null,
   "metadata": {
    "collapsed": false
   },
   "outputs": [],
   "source": [
    "print len(commonICD9), diaganalysis.shape[1]"
   ]
  },
  {
   "cell_type": "code",
   "execution_count": null,
   "metadata": {
    "collapsed": false
   },
   "outputs": [],
   "source": [
    "print diaganalysis.columns"
   ]
  },
  {
   "cell_type": "code",
   "execution_count": null,
   "metadata": {
    "collapsed": false
   },
   "outputs": [],
   "source": [
    "diagsummary = diaganalysis.groupby(['PatientGuid']).sum().reset_index()"
   ]
  },
  {
   "cell_type": "code",
   "execution_count": null,
   "metadata": {
    "collapsed": false
   },
   "outputs": [],
   "source": [
    "patientdata2 = pd.merge(patientT, ICD9Labeldata, how='inner', on =['PatientGuid'])\n",
    "patientdata2 = pd.merge(patientdata2, diagnosisSummary, how='inner', on =['PatientGuid'])\n",
    "patientdata2 = pd.merge(patientdata2, diagsummary, how='inner', on =['PatientGuid'])\n",
    "patientdata2 = pd.merge(patientdata2, bloodpressure, how='inner', on =['PatientGuid'])\n",
    "patientdata2 = pd.merge(patientdata2, bmi, how='inner', on =['PatientGuid'])\n",
    "patientdata2['Age'] = 2015 - patientdata2['YearOfBirth']"
   ]
  },
  {
   "cell_type": "markdown",
   "metadata": {},
   "source": [
    "##Approach 3: Use Cosine Similarity to automatically detect top diseases\n",
    "\n",
    "output is patientdata3"
   ]
  },
  {
   "cell_type": "code",
   "execution_count": null,
   "metadata": {
    "collapsed": true
   },
   "outputs": [],
   "source": [
    "os.chdir('/Users/janzaloudek/Development/Skola/umass/diabetes/jupyter/trainingSet')\n",
    "diagnosisT = pd.read_csv('training_SyncDiagnosis.csv')\n",
    "allergyT = pd.read_csv('training_SyncAllergy.csv')\n",
    "immunT = pd.read_csv('training_SyncImmunization.csv')\n",
    "labObsT = pd.read_csv('training_SyncLabObservation.csv')\n",
    "labPanT = pd.read_csv('training_SyncLabPanel.csv')\n",
    "labResT = pd.read_csv('training_SyncLabResult.csv')\n",
    "medicationT = pd.read_csv('training_SyncMedication.csv')\n",
    "patientT = pd.read_csv('training_SyncPatient.csv')\n",
    "patientCondT = pd.read_csv('training_SyncPatientCondition.csv')\n",
    "smokingT = pd.read_csv('training_SyncPatientSmokingStatus.csv')\n",
    "prescripT = pd.read_csv('training_SyncPrescription.csv')\n",
    "trnscrpT = pd.read_csv('training_SyncTranscript.csv')\n",
    "trnscrpAT = pd.read_csv('training_SyncTranscriptAllergy.csv')\n",
    "trnscrpDT = pd.read_csv('training_SyncTranscriptDiagnosis.csv')\n",
    "trnscrptMT = pd.read_csv('training_SyncTranscriptMedication.csv')\n",
    "myfileT = pd.read_csv('myfile.csv')\n",
    "conditionT = pd.read_csv('SyncCondition.csv')\n",
    "smokingT = pd.read_csv('SyncSmokingStatus.csv')"
   ]
  },
  {
   "cell_type": "code",
   "execution_count": null,
   "metadata": {
    "collapsed": true
   },
   "outputs": [],
   "source": [
    "diaganalysis = pd.merge(patientT, diagnosisT, on=['PatientGuid'])"
   ]
  },
  {
   "cell_type": "code",
   "execution_count": null,
   "metadata": {
    "collapsed": false
   },
   "outputs": [],
   "source": [
    "chidata = diaganalysis[['PatientGuid', 'DMIndicator', 'ICD9Code']].drop_duplicates()\n",
    "chidata.index = chidata['PatientGuid']\n",
    "dummies = pd.get_dummies(chidata['ICD9Code']).reset_index()\n",
    "dummies = dummies.groupby(['PatientGuid'])[dummies.columns[1:]].sum()\n",
    "dummies = dummies.replace(2, 1)\n",
    "chidata = chidata[['PatientGuid', 'DMIndicator']]\n",
    "chidata = chidata.drop_duplicates()"
   ]
  },
  {
   "cell_type": "code",
   "execution_count": null,
   "metadata": {
    "collapsed": false
   },
   "outputs": [],
   "source": [
    "print chidata.shape, dummies.shape"
   ]
  },
  {
   "cell_type": "code",
   "execution_count": null,
   "metadata": {
    "collapsed": false
   },
   "outputs": [],
   "source": [
    "chidata = pd.concat([chidata, dummies], axis=1)\n",
    "chidata['DMIndicator'] = chidata['DMIndicator'].astype(float)"
   ]
  },
  {
   "cell_type": "code",
   "execution_count": null,
   "metadata": {
    "collapsed": false
   },
   "outputs": [],
   "source": [
    "import numpy\n",
    "import scipy.stats as scs\n",
    "from collections import defaultdict\n",
    "from scipy import spatial\n",
    "from sklearn.metrics import *\n",
    "columns = chidata.columns[2:]\n",
    "chitest = {}\n",
    "cmatrix = {}\n",
    "cos = {}\n",
    "percent = {}\n",
    "for column in columns:\n",
    "    cm = confusion_matrix(np.array(chidata['DMIndicator']), np.array(chidata[column]))\n",
    "    cmatrix[column] = cm\n",
    "    chitest[column]= scs.chi2_contingency(cm)[1]\n",
    "    cos[column] = 1 - spatial.distance.cosine(chidata['DMIndicator'], chidata[column])\n",
    "    percent[column] = float(cm[1][1])/(float(cm[0][1]) + float(cm[1][1]))"
   ]
  },
  {
   "cell_type": "code",
   "execution_count": null,
   "metadata": {
    "collapsed": false
   },
   "outputs": [],
   "source": [
    "print cmatrix['250.61'], percent['250.61'], cos['250.61']"
   ]
  },
  {
   "cell_type": "code",
   "execution_count": null,
   "metadata": {
    "collapsed": false
   },
   "outputs": [],
   "source": [
    "df1 = pd.DataFrame(chitest.items(), columns = ['ICD9', 'PvalueChi'])\n",
    "df1.index=df1['ICD9']\n",
    "df2 = pd.DataFrame(cos.items(), columns = ['ICD9', 'CosSimilarity'])\n",
    "df2.index=df2['ICD9']\n",
    "df3 = pd.DataFrame(percent.items(), columns = ['ICD9', 'PercentDiabetics'])\n",
    "df3.index=df3['ICD9']\n",
    "df = pd.merge(df1, df2, on='ICD9')\n",
    "df = pd.merge(df, df3, on='ICD9')\n",
    "df = df.sort('CosSimilarity', ascending=False)"
   ]
  },
  {
   "cell_type": "code",
   "execution_count": null,
   "metadata": {
    "collapsed": false
   },
   "outputs": [],
   "source": [
    "%matplotlib inline\n",
    "matplotlib.style.use('ggplot')\n",
    "df['CosSimilarity'].plot(kind='hist', bins=150)"
   ]
  },
  {
   "cell_type": "code",
   "execution_count": null,
   "metadata": {
    "collapsed": false
   },
   "outputs": [],
   "source": [
    "diaganalysis = pd.merge(patientT, diagnosisT, on=['PatientGuid'])\n",
    "similarICD9 = df[df['CosSimilarity'] > 0.05]['ICD9']\n",
    "diaganalysis['RiskFactors'] = diaganalysis[diaganalysis['ICD9Code'].isin(similarICD9)]['ICD9Code']\n",
    "riskfactors = pd.get_dummies(diaganalysis['RiskFactors'])\n",
    "riskfactors = riskfactors.fillna(0)\n",
    "diaganalysis = diaganalysis['PatientGuid']\n",
    "diaganalysis = pd.concat([diaganalysis, riskfactors], axis=1)\n",
    "diagsummary = diaganalysis.groupby(['PatientGuid']).sum().reset_index()\n",
    "patientdata3 = pd.merge(patientT, ICD9Labeldata, how='inner', on =['PatientGuid'])\n",
    "patientdata3 = pd.merge(patientdata3, diagnosisSummary, how='inner', on =['PatientGuid'])\n",
    "patientdata3 = pd.merge(patientdata3, diagsummary, how='inner', on =['PatientGuid'])\n",
    "patientdata3 = pd.merge(patientdata3, bloodpressure, how='inner', on =['PatientGuid'])\n",
    "patientdata3 = pd.merge(patientdata3, bmi, how='inner', on =['PatientGuid'])\n",
    "patientdata3['Age'] = 2015 - patientdata3['YearOfBirth']"
   ]
  },
  {
   "cell_type": "code",
   "execution_count": null,
   "metadata": {
    "collapsed": false
   },
   "outputs": [],
   "source": [
    "len(similarICD9)"
   ]
  },
  {
   "cell_type": "markdown",
   "metadata": {},
   "source": [
    "###Modeling"
   ]
  },
  {
   "cell_type": "code",
   "execution_count": null,
   "metadata": {
    "collapsed": false
   },
   "outputs": [],
   "source": [
    "from sklearn.linear_model import LogisticRegression\n",
    "from sklearn.neighbors import KNeighborsClassifier\n",
    "from sklearn.naive_bayes import GaussianNB\n",
    "from sklearn.svm import SVC\n",
    "from sklearn.tree import DecisionTreeClassifier\n",
    "from sklearn.ensemble import RandomForestClassifier\n",
    "from sklearn.metrics import accuracy_score\n",
    "from sklearn.cross_validation import cross_val_score\n",
    "from sklearn.cross_validation import train_test_split\n",
    "from patsy import dmatrices"
   ]
  },
  {
   "cell_type": "markdown",
   "metadata": {},
   "source": [
    "####Model set 1"
   ]
  },
  {
   "cell_type": "code",
   "execution_count": null,
   "metadata": {
    "collapsed": false
   },
   "outputs": [],
   "source": [
    "patientdata.columns"
   ]
  },
  {
   "cell_type": "code",
   "execution_count": null,
   "metadata": {
    "collapsed": false
   },
   "outputs": [],
   "source": [
    "modelelements = patientdata.columns[6:64]\n",
    "modelelements = '\") + Q(\"'.join(modelelements)\n",
    "formula = 'DMIndicator ~ Q(\"Gender\") + Q(\"Age\") + Q(' + modelelements + '\")'\n",
    "formula"
   ]
  },
  {
   "cell_type": "code",
   "execution_count": null,
   "metadata": {
    "collapsed": false
   },
   "outputs": [],
   "source": [
    "#y, X = dmatrices('DMIndicator ~ Q(\"Gender\") + Q(\"Age\") + Q(\"hasHeartDisease\") + Q(\"hasCAD\") + Q(\"hasCardiomyo\") + Q(\"hasArrhy\") + Q(\"hasHeartDefects\") + Q(\"hasStroke\") + Q(\"hasSleepA\") + Q(\"hasGestDiab\") + Q(\"hasPolyO\") + Q(\"hasFrozenShoulder\") + Q(\"hasHemoChr\") + Q(\"hasHepatitis\") + Q(\"hasDiabComp\") + Q(\"hasKidneyF\") + Q(\"hasDementia\") + Q(\"hasAcanthosis\") + Q(\"hasBlindness\") + Q(\"hasSDysf\") + Q(\"hasPreDiab\") + Q(\"blood\") + Q(\"circulatory\") + Q(\"congenital\") + Q(\"digestive\") + Q(\"endoctrine\") + Q(\"genitourinary\") + Q(\"infectious\") + Q(\"injuries\") + Q(\"mental\") + Q(\"musculoskeletal\") + Q(\"neoplasms\") + Q(\"nervous\") + Q(\"perinatal\") + Q(\"pregnancy\") + Q(\"respiratory\") + Q(\"sense\") + Q(\"skin\") + Q(\"suppl\") + Q(\"symptoms or ill-defined\") + Q(\"MeanBMI\") + Q(\"MaxBMI\") + Q(\"MinBMI\") + Q(\"isOverweight\") + Q(\"isObese\") + Q(\"BMIDiff\") + Q(\"meanSystolicBP\") + Q(\"meanDiastolicBP\") + Q(\"maxSystolicBP\") + Q(\"maxDiastolicBP\") + Q(\"minSystolicBP\") + Q(\"minDiastolicBP\") + Q(\"SystDiff\") + Q(\"DiastDiff\") + Q(\"isPreHyp\") + Q(\"isStage1HBP\") + Q(\"isStage2HBP\")', data=patientdata, return_type='dataframe')"
   ]
  },
  {
   "cell_type": "code",
   "execution_count": null,
   "metadata": {
    "collapsed": true
   },
   "outputs": [],
   "source": [
    "#y, X = dmatrices('DMIndicator ~ Q(\"Gender\") + Q(\"Age\") + Q(\"hasHeartDisease\") +  Q(\"hasCHF\") + Q(\"hasStroke\") + Q(\"hasSleepA\") + Q(\"hasGestDiab\") + Q(\"hasPolyO\") + Q(\"hasFrozenShoulder\") + Q(\"hasHemoChr\") + Q(\"hasHepatitis\") + Q(\"hasDiabComp\") + Q(\"hasKidneyF\") + Q(\"hasDementia\") + Q(\"hasAcanthosis\") + Q(\"hasBlindness\") + Q(\"hasSDysf\") + Q(\"hasPreDiab\") + Q(\"MeanBMI\") + Q(\"isOverweight\") + Q(\"isObese\") + Q(\"meanSystolicBP\") + Q(\"meanDiastolicBP\") + Q(\"isPreHyp\") + Q(\"isStage1HBP\") + Q(\"isStage2HBP\")', data=patientdata, return_type='dataframe')"
   ]
  },
  {
   "cell_type": "code",
   "execution_count": null,
   "metadata": {
    "collapsed": true
   },
   "outputs": [],
   "source": [
    "#y, X = dmatrices(formula, data=patientdata, return_type='dataframe')"
   ]
  },
  {
   "cell_type": "markdown",
   "metadata": {},
   "source": [
    "####Model Set 2"
   ]
  },
  {
   "cell_type": "code",
   "execution_count": null,
   "metadata": {
    "collapsed": false
   },
   "outputs": [],
   "source": [
    "patientdata2.columns[42:(42+len(commonICD9))]"
   ]
  },
  {
   "cell_type": "code",
   "execution_count": null,
   "metadata": {
    "collapsed": false
   },
   "outputs": [],
   "source": [
    "patientdata.columns"
   ]
  },
  {
   "cell_type": "code",
   "execution_count": null,
   "metadata": {
    "collapsed": false
   },
   "outputs": [],
   "source": [
    "modelelements1 = patientdata2.columns[6:25]\n",
    "modelelements2 = patientdata2.columns[25:41]\n",
    "modelelements3 = patientdata2.columns[42:(42+len(commonICD9))]\n",
    "modelelements4 = patientdata2.columns[(42+len(commonICD9)):(42+len(commonICD9)+2)].append(patientdata2.columns[(42+len(commonICD9)+8):(42+len(commonICD9)+12)].append(patientdata2.columns[(42+len(commonICD9))+14:(42+len(commonICD9))+16]))\n",
    "modelelements = modelelements1.append(modelelements3.append(modelelements4))\n",
    "modelelements = '\") + Q(\"'.join(modelelements)\n",
    "modelelements = 'Q(\"' + modelelements + '\")'\n",
    "formula = 'DMIndicator ~ Q(\"Gender\") + Q(\"Age\") + ' + modelelements\n",
    "print formula"
   ]
  },
  {
   "cell_type": "code",
   "execution_count": null,
   "metadata": {
    "collapsed": false
   },
   "outputs": [],
   "source": [
    "y, X = dmatrices(formula, data=patientdata2, return_type='dataframe')"
   ]
  },
  {
   "cell_type": "markdown",
   "metadata": {},
   "source": [
    "####Model Set 3"
   ]
  },
  {
   "cell_type": "code",
   "execution_count": null,
   "metadata": {
    "collapsed": false
   },
   "outputs": [],
   "source": [
    "model3data = patientdata3.copy()\n",
    "model3data.drop(['YearOfBirth', 'State', 'PracticeGuid', 'NotOverweight', 'NoRiskFactor'], axis=1, inplace=True)"
   ]
  },
  {
   "cell_type": "code",
   "execution_count": null,
   "metadata": {
    "collapsed": false
   },
   "outputs": [],
   "source": [
    "modelelements = '\") + Q(\"'.join(model3data.columns[3:285])\n",
    "modelelements = 'Q(\"' + modelelements + '\")'\n",
    "formula = 'DMIndicator ~ Q(\"Gender\") + Q(\"Age\") + ' + modelelements\n",
    "print model3data.columns"
   ]
  },
  {
   "cell_type": "code",
   "execution_count": null,
   "metadata": {
    "collapsed": false
   },
   "outputs": [],
   "source": [
    "y, X = dmatrices(formula, data=patientdata3, return_type='dataframe')"
   ]
  },
  {
   "cell_type": "code",
   "execution_count": null,
   "metadata": {
    "collapsed": false
   },
   "outputs": [],
   "source": [
    "X = X.drop('Intercept', 1)\n",
    "features = X.columns"
   ]
  },
  {
   "cell_type": "code",
   "execution_count": null,
   "metadata": {
    "collapsed": false
   },
   "outputs": [],
   "source": []
  },
  {
   "cell_type": "code",
   "execution_count": null,
   "metadata": {
    "collapsed": false
   },
   "outputs": [],
   "source": [
    "X_train, X_test, y_train, y_test = train_test_split(X, y, test_size=0.2, random_state=46)"
   ]
  },
  {
   "cell_type": "code",
   "execution_count": null,
   "metadata": {
    "collapsed": false
   },
   "outputs": [],
   "source": [
    "X_train = np.array(X_train)\n",
    "X_test = np.array(X_test)\n",
    "y_train = np.array(y_train)\n",
    "y_test = np.array(y_test)"
   ]
  },
  {
   "cell_type": "code",
   "execution_count": null,
   "metadata": {
    "collapsed": false
   },
   "outputs": [],
   "source": [
    "print X_train.shape, X_test.shape, y_train.shape, y_test.shape"
   ]
  },
  {
   "cell_type": "markdown",
   "metadata": {},
   "source": [
    "#####Quick and Dirty Check: Logistic Regression\n",
    "\n",
    "Accuracy Score, Confusion Matrix, Classification Report, ROC, Log Loss, RFECV results"
   ]
  },
  {
   "cell_type": "code",
   "execution_count": null,
   "metadata": {
    "collapsed": true
   },
   "outputs": [],
   "source": [
    "from sklearn.cross_validation import cross_val_score\n",
    "from sklearn import cross_validation\n",
    "from sklearn.metrics import *\n",
    "import seaborn as sns"
   ]
  },
  {
   "cell_type": "code",
   "execution_count": null,
   "metadata": {
    "collapsed": true
   },
   "outputs": [],
   "source": [
    "import sklearn"
   ]
  },
  {
   "cell_type": "markdown",
   "metadata": {},
   "source": [
    "Accuracy Score: Training (Cross Validation)"
   ]
  },
  {
   "cell_type": "code",
   "execution_count": null,
   "metadata": {
    "collapsed": false
   },
   "outputs": [],
   "source": [
    "n_samples = X_train.shape[0]\n",
    "model1 = LogisticRegression()\n",
    "cv = cross_validation.ShuffleSplit(n_samples, n_iter=10, test_size=0.3, random_state=1)\n",
    "scores = cross_validation.cross_val_score(model1, X_train, y_train.ravel(), cv=cv)\n",
    "print scores.mean()"
   ]
  },
  {
   "cell_type": "markdown",
   "metadata": {},
   "source": [
    "Accuracy Score: Testing"
   ]
  },
  {
   "cell_type": "code",
   "execution_count": null,
   "metadata": {
    "collapsed": false
   },
   "outputs": [],
   "source": [
    "model1.fit(X_train, y_train.ravel())\n",
    "model1.score(X_test, y_test.ravel())"
   ]
  },
  {
   "cell_type": "markdown",
   "metadata": {},
   "source": [
    "Confusion Matrix"
   ]
  },
  {
   "cell_type": "code",
   "execution_count": null,
   "metadata": {
    "collapsed": false,
    "scrolled": true
   },
   "outputs": [],
   "source": [
    "model1.fit(X_train, y_train.ravel())\n",
    "y_pred = model1.predict(X_test)\n",
    "cm = confusion_matrix(y_test, y_pred)\n",
    "labelname = model1.classes_\n",
    "sns.heatmap(cm, annot=True,  fmt='', xticklabels=labelname, yticklabels=labelname)"
   ]
  },
  {
   "cell_type": "markdown",
   "metadata": {},
   "source": [
    "Classification Report"
   ]
  },
  {
   "cell_type": "code",
   "execution_count": null,
   "metadata": {
    "collapsed": false
   },
   "outputs": [],
   "source": [
    "report = classification_report(y_test.ravel(), y_pred)\n",
    "print report"
   ]
  },
  {
   "cell_type": "markdown",
   "metadata": {},
   "source": [
    "ROC"
   ]
  },
  {
   "cell_type": "code",
   "execution_count": null,
   "metadata": {
    "collapsed": false
   },
   "outputs": [],
   "source": [
    "y_pred_proba = model1.predict_proba(X_test)\n",
    "fpr, tpr, _ = sklearn.metrics.roc_curve(y_test, y_pred_proba[:,1])\n",
    "roc_rates = [fpr, tpr]\n",
    "auc = sklearn.metrics.auc(fpr, tpr)\n",
    "plt.title(\"Logistic Regression\", fontsize = 20)\n",
    "plt.xlabel(\"False positive rate\")\n",
    "plt.ylabel(\"True positive rate\")\n",
    "labelname = \"Logistic Regression\" + \", (area = %0.3f)\" % auc\n",
    "plt.plot(roc_rates[0], roc_rates[1], linewidth = 2, label = labelname)\n",
    "plt.legend(loc = 4)"
   ]
  },
  {
   "cell_type": "markdown",
   "metadata": {},
   "source": [
    "Log Loss: Training (Cross Validation)"
   ]
  },
  {
   "cell_type": "code",
   "execution_count": null,
   "metadata": {
    "collapsed": false
   },
   "outputs": [],
   "source": [
    "n_samples = X_train.shape[0]\n",
    "cv = cross_validation.ShuffleSplit(n_samples, n_iter=20, test_size=0.2, random_state=1)\n",
    "logloss = cross_validation.cross_val_score(model1, X_train, y_train.ravel(), cv=cv, scoring='log_loss')\n",
    "print -logloss.mean()"
   ]
  },
  {
   "cell_type": "markdown",
   "metadata": {},
   "source": [
    "Log Loss: Testing"
   ]
  },
  {
   "cell_type": "code",
   "execution_count": null,
   "metadata": {
    "collapsed": false
   },
   "outputs": [],
   "source": [
    "sklearn.metrics.log_loss(y_test.ravel(), y_pred_proba[:,1])"
   ]
  },
  {
   "cell_type": "markdown",
   "metadata": {},
   "source": [
    "#####Quick and Dirty Check: Logistic Regression with RFECV"
   ]
  },
  {
   "cell_type": "markdown",
   "metadata": {},
   "source": [
    "Accuracy Score: Testing"
   ]
  },
  {
   "cell_type": "code",
   "execution_count": null,
   "metadata": {
    "collapsed": false
   },
   "outputs": [],
   "source": [
    "rfecv = sklearn.feature_selection.RFECV(estimator=model1, step=1, cv=cv, scoring='recall') \n",
    "rfecv.fit(X_train, y_train.ravel())\n",
    "rfecv.score(X_test, y_test.ravel())"
   ]
  },
  {
   "cell_type": "markdown",
   "metadata": {},
   "source": [
    "Confusion Matrix"
   ]
  },
  {
   "cell_type": "code",
   "execution_count": null,
   "metadata": {
    "collapsed": false
   },
   "outputs": [],
   "source": [
    "y_pred = rfecv.predict(X_test)\n",
    "cm = confusion_matrix(y_test, y_pred)\n",
    "labelname = model1.classes_\n",
    "sns.heatmap(cm, annot=True,  fmt='', xticklabels=labelname, yticklabels=labelname)"
   ]
  },
  {
   "cell_type": "markdown",
   "metadata": {},
   "source": [
    "Classification Report"
   ]
  },
  {
   "cell_type": "code",
   "execution_count": null,
   "metadata": {
    "collapsed": false
   },
   "outputs": [],
   "source": [
    "report = classification_report(y_test.ravel(), y_pred)\n",
    "print report"
   ]
  },
  {
   "cell_type": "markdown",
   "metadata": {},
   "source": [
    "ROC"
   ]
  },
  {
   "cell_type": "code",
   "execution_count": null,
   "metadata": {
    "collapsed": false
   },
   "outputs": [],
   "source": [
    "y_pred_proba = rfecv.predict_proba(X_test)\n",
    "fpr, tpr, _ = sklearn.metrics.roc_curve(y_test, y_pred_proba[:,1])\n",
    "roc_rates = [fpr, tpr]\n",
    "auc = sklearn.metrics.auc(fpr, tpr)\n",
    "plt.title(\"Logistic Regression\", fontsize = 20)\n",
    "plt.xlabel(\"False positive rate\")\n",
    "plt.ylabel(\"True positive rate\")\n",
    "labelname = \"Logistic Regression\" + \", (area = %0.3f)\" % auc\n",
    "plt.plot(roc_rates[0], roc_rates[1], linewidth = 2, label = labelname)\n",
    "plt.legend(loc = 4)"
   ]
  },
  {
   "cell_type": "markdown",
   "metadata": {},
   "source": [
    "Log Loss: Training(Cross Validation)"
   ]
  },
  {
   "cell_type": "code",
   "execution_count": null,
   "metadata": {
    "collapsed": false
   },
   "outputs": [],
   "source": [
    "n_samples = X_train[:, rfecv.support_].shape[0]\n",
    "cv = cross_validation.ShuffleSplit(n_samples, n_iter=20, test_size=0.2, random_state=1)\n",
    "model = LogisticRegression()\n",
    "logloss = cross_validation.cross_val_score(model, X_train[:, rfecv.support_], y_train.ravel(), cv=cv, scoring='log_loss')\n",
    "print -logloss.mean()"
   ]
  },
  {
   "cell_type": "markdown",
   "metadata": {},
   "source": [
    "Log Loss: Testing"
   ]
  },
  {
   "cell_type": "code",
   "execution_count": null,
   "metadata": {
    "collapsed": false
   },
   "outputs": [],
   "source": [
    "sklearn.metrics.log_loss(y_test.ravel(), y_pred_proba[:,1])"
   ]
  },
  {
   "cell_type": "markdown",
   "metadata": {},
   "source": [
    "####Other Models"
   ]
  },
  {
   "cell_type": "markdown",
   "metadata": {},
   "source": [
    "GaussianNB"
   ]
  },
  {
   "cell_type": "code",
   "execution_count": null,
   "metadata": {
    "collapsed": false
   },
   "outputs": [],
   "source": [
    "n_samples = X_train.shape[0]\n",
    "model2 = GaussianNB()\n",
    "cv = cross_validation.ShuffleSplit(n_samples, n_iter=10, test_size=0.3, random_state=1)\n",
    "scores = cross_validation.cross_val_score(model2, X_train, y_train.ravel(), cv=cv)\n",
    "print scores.mean()"
   ]
  },
  {
   "cell_type": "code",
   "execution_count": null,
   "metadata": {
    "collapsed": true
   },
   "outputs": [],
   "source": [
    "model2.fit(X_train, y_train.ravel())\n",
    "y_pred = model2.predict(X_test)"
   ]
  },
  {
   "cell_type": "code",
   "execution_count": null,
   "metadata": {
    "collapsed": false,
    "scrolled": true
   },
   "outputs": [],
   "source": [
    "cm = confusion_matrix(y_test, y_pred)\n",
    "labelname = model2.classes_\n",
    "sns.heatmap(cm, annot=True,  fmt='', xticklabels=labelname, yticklabels=labelname)"
   ]
  },
  {
   "cell_type": "code",
   "execution_count": null,
   "metadata": {
    "collapsed": false
   },
   "outputs": [],
   "source": [
    "report = classification_report(y_test.ravel(), y_pred)\n",
    "print report"
   ]
  },
  {
   "cell_type": "markdown",
   "metadata": {},
   "source": [
    "SVC"
   ]
  },
  {
   "cell_type": "code",
   "execution_count": null,
   "metadata": {
    "collapsed": false,
    "scrolled": true
   },
   "outputs": [],
   "source": [
    "n_samples = X_train.shape[0]\n",
    "model3 = SVC()\n",
    "cv = cross_validation.ShuffleSplit(n_samples, n_iter=10, test_size=0.3, random_state=1)\n",
    "scores = cross_validation.cross_val_score(model3, X_train, y_train.ravel(), cv=cv)\n",
    "print scores.mean()"
   ]
  },
  {
   "cell_type": "code",
   "execution_count": null,
   "metadata": {
    "collapsed": true
   },
   "outputs": [],
   "source": [
    "model3.fit(X_train, y_train.ravel())\n",
    "y_pred = model3.predict(X_test)"
   ]
  },
  {
   "cell_type": "code",
   "execution_count": null,
   "metadata": {
    "collapsed": false
   },
   "outputs": [],
   "source": [
    "cm = confusion_matrix(y_test, y_pred)\n",
    "labelname = model3.classes_\n",
    "sns.heatmap(cm, annot=True,  fmt='', xticklabels=labelname, yticklabels=labelname)"
   ]
  },
  {
   "cell_type": "code",
   "execution_count": null,
   "metadata": {
    "collapsed": false
   },
   "outputs": [],
   "source": [
    "report = classification_report(y_test.ravel(), y_pred)\n",
    "print report"
   ]
  },
  {
   "cell_type": "markdown",
   "metadata": {},
   "source": [
    "Decision Tree"
   ]
  },
  {
   "cell_type": "code",
   "execution_count": null,
   "metadata": {
    "collapsed": false
   },
   "outputs": [],
   "source": [
    "scoresTrain = []\n",
    "scoresTest=[]\n",
    "for i in range(1, 21):\n",
    "    model = DecisionTreeClassifier(max_depth = i)\n",
    "    model.fit(X_train, y_train.ravel())\n",
    "    y_train_pred = model.predict(X_train)\n",
    "    scoresTrain.append(accuracy_score(y_train, y_train_pred))\n",
    "    y_test_pred = model.predict(X_test)\n",
    "    scoresTest.append(accuracy_score(y_test, y_test_pred))\n",
    "plotdata = pd.DataFrame(data={'Train': scoresTrain, 'Test': scoresTest})\n",
    "plotdata.index=range(1, 21)\n",
    "%matplotlib inline\n",
    "matplotlib.style.use('ggplot')\n",
    "plotdata.plot()"
   ]
  },
  {
   "cell_type": "code",
   "execution_count": null,
   "metadata": {
    "collapsed": false
   },
   "outputs": [],
   "source": [
    "plotdata"
   ]
  },
  {
   "cell_type": "code",
   "execution_count": null,
   "metadata": {
    "collapsed": false
   },
   "outputs": [],
   "source": [
    "n_samples = X_train.shape[0]\n",
    "model4 = DecisionTreeClassifier(max_depth = 6)\n",
    "cv = cross_validation.ShuffleSplit(n_samples, n_iter=10, test_size=0.3, random_state=1)\n",
    "scores = cross_validation.cross_val_score(model4, X_train, y_train.ravel(), cv=cv)\n",
    "print scores.mean()"
   ]
  },
  {
   "cell_type": "code",
   "execution_count": null,
   "metadata": {
    "collapsed": true
   },
   "outputs": [],
   "source": [
    "model4.fit(X_train, y_train.ravel())\n",
    "y_pred = model4.predict(X_test)"
   ]
  },
  {
   "cell_type": "code",
   "execution_count": null,
   "metadata": {
    "collapsed": false
   },
   "outputs": [],
   "source": [
    "cm = confusion_matrix(y_test, y_pred)\n",
    "labelname = model3.classes_\n",
    "sns.heatmap(cm, annot=True,  fmt='', xticklabels=labelname, yticklabels=labelname)"
   ]
  },
  {
   "cell_type": "code",
   "execution_count": null,
   "metadata": {
    "collapsed": false
   },
   "outputs": [],
   "source": [
    "report = classification_report(y_test.ravel(), y_pred)\n",
    "print report"
   ]
  },
  {
   "cell_type": "markdown",
   "metadata": {},
   "source": [
    "Random Forest"
   ]
  },
  {
   "cell_type": "code",
   "execution_count": null,
   "metadata": {
    "collapsed": false,
    "scrolled": true
   },
   "outputs": [],
   "source": [
    "n_samples = X_train.shape[0]\n",
    "model5 = RandomForestClassifier()\n",
    "cv = cross_validation.ShuffleSplit(n_samples, n_iter=10, test_size=0.3, random_state=1)\n",
    "scores = cross_validation.cross_val_score(model5, X_train, y_train.ravel(), cv=cv)\n",
    "print scores.mean()"
   ]
  },
  {
   "cell_type": "code",
   "execution_count": null,
   "metadata": {
    "collapsed": true
   },
   "outputs": [],
   "source": [
    "model5.fit(X_train, y_train.ravel())\n",
    "y_pred = model5.predict(X_test)"
   ]
  },
  {
   "cell_type": "code",
   "execution_count": null,
   "metadata": {
    "collapsed": false
   },
   "outputs": [],
   "source": [
    "cm = confusion_matrix(y_test, y_pred)\n",
    "labelname = model5.classes_\n",
    "sns.heatmap(cm, annot=True,  fmt='', xticklabels=labelname, yticklabels=labelname)"
   ]
  },
  {
   "cell_type": "code",
   "execution_count": null,
   "metadata": {
    "collapsed": false
   },
   "outputs": [],
   "source": [
    "report = classification_report(y_test.ravel(), y_pred)\n",
    "print report"
   ]
  },
  {
   "cell_type": "markdown",
   "metadata": {},
   "source": [
    "K-Nearest Neighbors"
   ]
  },
  {
   "cell_type": "code",
   "execution_count": null,
   "metadata": {
    "collapsed": false
   },
   "outputs": [],
   "source": [
    "scoresTrain = []\n",
    "scoresTest=[]\n",
    "for i in range(1, 21):\n",
    "    model = KNeighborsClassifier(n_neighbors=i)\n",
    "    model.fit(X_train, y_train.ravel())\n",
    "    y_train_pred = model.predict(X_train)\n",
    "    scoresTrain.append(accuracy_score(y_train, y_train_pred))\n",
    "    y_test_pred = model.predict(X_test)\n",
    "    scoresTest.append(accuracy_score(y_test, y_test_pred))"
   ]
  },
  {
   "cell_type": "code",
   "execution_count": null,
   "metadata": {
    "collapsed": false
   },
   "outputs": [],
   "source": [
    "plotdata = pd.DataFrame(data={'Train': scoresTrain, 'Test': scoresTest})\n",
    "plotdata.index=range(1, plotdata.shape[0] + 1)\n",
    "plotdata"
   ]
  },
  {
   "cell_type": "code",
   "execution_count": null,
   "metadata": {
    "collapsed": false
   },
   "outputs": [],
   "source": [
    "%matplotlib inline\n",
    "matplotlib.style.use('ggplot')\n",
    "plotdata.plot()"
   ]
  },
  {
   "cell_type": "code",
   "execution_count": null,
   "metadata": {
    "collapsed": false
   },
   "outputs": [],
   "source": [
    "n_samples = X_train.shape[0]\n",
    "model6 = KNeighborsClassifier(n_neighbors=18)\n",
    "cv = cross_validation.ShuffleSplit(n_samples, n_iter=10, test_size=0.3, random_state=1)\n",
    "scores = cross_validation.cross_val_score(model5, X_train, y_train.ravel(), cv=cv)\n",
    "print scores.mean()"
   ]
  },
  {
   "cell_type": "code",
   "execution_count": null,
   "metadata": {
    "collapsed": true
   },
   "outputs": [],
   "source": [
    "model6.fit(X_train, y_train.ravel())\n",
    "y_pred = model6.predict(X_test)"
   ]
  },
  {
   "cell_type": "code",
   "execution_count": null,
   "metadata": {
    "collapsed": false
   },
   "outputs": [],
   "source": [
    "cm = confusion_matrix(y_test, y_pred)\n",
    "labelname = model6.classes_\n",
    "sns.heatmap(cm, annot=True,  fmt='', xticklabels=labelname, yticklabels=labelname)"
   ]
  },
  {
   "cell_type": "code",
   "execution_count": null,
   "metadata": {
    "collapsed": false
   },
   "outputs": [],
   "source": [
    "report = classification_report(y_test.ravel(), y_pred)\n",
    "print report"
   ]
  },
  {
   "cell_type": "markdown",
   "metadata": {},
   "source": [
    "#####Plotting ROC Curves"
   ]
  },
  {
   "cell_type": "code",
   "execution_count": null,
   "metadata": {
    "collapsed": true
   },
   "outputs": [],
   "source": [
    "from sklearn import metrics\n",
    "from sklearn.feature_selection import RFECV"
   ]
  },
  {
   "cell_type": "code",
   "execution_count": null,
   "metadata": {
    "collapsed": false
   },
   "outputs": [],
   "source": [
    "estimators = [\n",
    "    LogisticRegression(), \n",
    "    SVC(probability=True), \n",
    "    GaussianNB(), \n",
    "    DecisionTreeClassifier(max_depth = 5), \n",
    "    RandomForestClassifier(), \n",
    "    KNeighborsClassifier(n_neighbors = 10)\n",
    "    ]\n",
    "\n",
    "names = [\"Logistic Regression\", \"Support Vector Machine\", \"Gaussian Naive Bayes\", \"Decision Tree Classifier\",\n",
    "        \"Random Forest Classifier\", \"K Neighbors - 10\"]\n",
    "\n",
    "colors = [\"b\", \"g\", \"r\", \"k\", \"c\", \"y\"]"
   ]
  },
  {
   "cell_type": "code",
   "execution_count": null,
   "metadata": {
    "collapsed": true
   },
   "outputs": [],
   "source": [
    "def roc_rates(estimator, X_train = X_train, y_train = y_train.ravel(), X_test = X_test, y_test = y_test.ravel()):\n",
    "    \n",
    "    #Recursive Features Selection\n",
    "    model = estimator\n",
    "    model.fit(X_train, y_train)\n",
    "    test_pred = model.predict_proba(X_test)\n",
    "    \n",
    "    # return the roc parameters\n",
    "    fpr, tpr, _ = metrics.roc_curve(y_test, test_pred[:,1])\n",
    "    roc_rates = [fpr, tpr]\n",
    "    auc = metrics.auc(fpr, tpr)\n",
    "    return roc_rates, auc"
   ]
  },
  {
   "cell_type": "code",
   "execution_count": null,
   "metadata": {
    "collapsed": false
   },
   "outputs": [],
   "source": [
    "#plt.figure(figsize = (15,12))\n",
    "\n",
    "for i, model in enumerate(estimators):\n",
    "    #plt.subplot(2,3, i)\n",
    "    #plt.title(names[i], fontsize = 20)\n",
    "    plt.xlabel(\"False positive rate\")\n",
    "    plt.ylabel(\"True positive rate\")\n",
    "    \n",
    "    # plot parameters using unscaled predictors\n",
    "    params = roc_rates(estimators[i], X_train, y_train.ravel(), X_test, y_test.ravel())[0]\n",
    "    area = roc_rates(estimators[i], X_train, y_train.ravel(), X_test, y_test.ravel())[1]\n",
    "    labelname = names[i] + \", (area = %0.2f)\" % area\n",
    "    plt.plot(params[0], params[1], colors[i] + \"--\", linewidth = 2, label = labelname)\n",
    "    plt.legend(loc = 4)\n",
    "\n",
    "plt.tight_layout()\n",
    "plt.show()"
   ]
  },
  {
   "cell_type": "markdown",
   "metadata": {},
   "source": [
    "####Calculating Log Loss"
   ]
  },
  {
   "cell_type": "code",
   "execution_count": null,
   "metadata": {
    "collapsed": false
   },
   "outputs": [],
   "source": [
    "for i, estimator in enumerate(estimators):\n",
    "    model = estimator\n",
    "    model.fit(X_train, y_train.ravel())\n",
    "    y_pred = model.predict_proba(X_test)\n",
    "    ll = metrics.log_loss(y_test.ravel(), y_pred[:,1])\n",
    "    print names[i] + ', LogLoss: %0.2f'% ll"
   ]
  },
  {
   "cell_type": "code",
   "execution_count": null,
   "metadata": {
    "collapsed": false,
    "scrolled": false
   },
   "outputs": [],
   "source": [
    "n_samples = X_train.shape[0]\n",
    "model = estimators[0]\n",
    "cv = cross_validation.ShuffleSplit(n_samples, n_iter=20, test_size=0.2, random_state=1)\n",
    "logloss = cross_validation.cross_val_score(model, np.array(X), np.array(y).ravel(), cv=cv, scoring='log_loss')\n",
    "print -logloss.mean()"
   ]
  },
  {
   "cell_type": "markdown",
   "metadata": {},
   "source": [
    "#####Incorporating Feature Selection"
   ]
  },
  {
   "cell_type": "code",
   "execution_count": null,
   "metadata": {
    "collapsed": false
   },
   "outputs": [],
   "source": [
    "import matplotlib.pyplot as plt\n",
    "from sklearn.svm import SVC\n",
    "from sklearn.cross_validation import StratifiedKFold\n",
    "from sklearn.feature_selection import RFECV\n",
    "from sklearn.datasets import make_classification"
   ]
  },
  {
   "cell_type": "code",
   "execution_count": null,
   "metadata": {
    "collapsed": true
   },
   "outputs": [],
   "source": [
    "n_samples = X_train.shape[0]\n",
    "cv = cross_validation.ShuffleSplit(n_samples, n_iter=10, test_size=0.3, random_state=1)"
   ]
  },
  {
   "cell_type": "markdown",
   "metadata": {},
   "source": [
    "Logistic Regression"
   ]
  },
  {
   "cell_type": "code",
   "execution_count": null,
   "metadata": {
    "collapsed": false
   },
   "outputs": [],
   "source": [
    "model = LogisticRegression()\n",
    "rfecv = RFECV(estimator=model, step=1, cv=cv, scoring='recall') \n",
    "rfecv.fit(X_train, y_train.ravel())\n",
    "test_pred = rfecv.predict_proba(X_test)\n",
    "fpr, tpr, _ = metrics.roc_curve(y_test, test_pred[:,1])\n",
    "roc_rates = [fpr, tpr]\n",
    "auc = metrics.auc(fpr, tpr)\n",
    "plt.title(\"Logistic Regression\", fontsize = 20)\n",
    "plt.xlabel(\"False positive rate\")\n",
    "plt.ylabel(\"True positive rate\")\n",
    "labelname = \"Logistic Regression\" + \", (area = %0.2f)\" % auc\n",
    "plt.plot(roc_rates[0], roc_rates[1], colors[i] + \"--\", linewidth = 2, label = labelname)\n",
    "plt.legend(loc = 4)"
   ]
  },
  {
   "cell_type": "markdown",
   "metadata": {},
   "source": [
    "Comparing model with reduced features against original model"
   ]
  },
  {
   "cell_type": "code",
   "execution_count": null,
   "metadata": {
    "collapsed": false
   },
   "outputs": [],
   "source": [
    "rfecv.score(X_test, y_test.ravel())"
   ]
  },
  {
   "cell_type": "code",
   "execution_count": null,
   "metadata": {
    "collapsed": false
   },
   "outputs": [],
   "source": [
    "y_pred = rfecv.predict_proba(X_test)\n",
    "ll = metrics.log_loss(y_test.ravel(), y_pred[:,1])\n",
    "print names[0] + ', LogLoss: %0.2f'% ll"
   ]
  },
  {
   "cell_type": "code",
   "execution_count": null,
   "metadata": {
    "collapsed": false
   },
   "outputs": [],
   "source": [
    "y_pred = rfecv.predict(X_test)\n",
    "cm = confusion_matrix(y_test, y_pred)\n",
    "labelname = model1.classes_\n",
    "sns.heatmap(cm, annot=True,  fmt='', xticklabels=labelname, yticklabels=labelname)"
   ]
  },
  {
   "cell_type": "code",
   "execution_count": null,
   "metadata": {
    "collapsed": false
   },
   "outputs": [],
   "source": [
    "report = classification_report(y_test.ravel(), y_pred)\n",
    "print report"
   ]
  },
  {
   "cell_type": "code",
   "execution_count": null,
   "metadata": {
    "collapsed": false
   },
   "outputs": [],
   "source": [
    "model1 = LogisticRegression()\n",
    "model1.fit(X_train, y_train.ravel())\n",
    "model1.score(X_test, y_test.ravel())"
   ]
  },
  {
   "cell_type": "markdown",
   "metadata": {},
   "source": [
    "Random Forest Classifier"
   ]
  },
  {
   "cell_type": "code",
   "execution_count": null,
   "metadata": {
    "collapsed": false
   },
   "outputs": [],
   "source": [
    "from sklearn.ensemble import ExtraTreesClassifier\n",
    "from sklearn.pipeline import Pipeline\n",
    "from sklearn.svm import LinearSVC"
   ]
  },
  {
   "cell_type": "code",
   "execution_count": null,
   "metadata": {
    "collapsed": false
   },
   "outputs": [],
   "source": [
    "# Build a forest and compute the feature importances\n",
    "forest = ExtraTreesClassifier(n_estimators=250,\n",
    "                              random_state=0)\n",
    "\n",
    "forest.fit(X_train, y_train.ravel())\n",
    "importances = forest.feature_importances_\n",
    "std = np.std([tree.feature_importances_ for tree in forest.estimators_], axis=0)\n",
    "indices = np.argsort(importances)[::-1]\n",
    "\n",
    "#Print the feature ranking\n",
    "print(\"Feature ranking:\")\n",
    "\n",
    "for f in range(len(features)):\n",
    "    print(\"%d. feature %d (%f)\" % (f + 1, indices[f], importances[indices[f]])), features[float(indices[f])]"
   ]
  }
 ],
 "metadata": {
  "kernelspec": {
   "display_name": "Python 3",
   "language": "python",
   "name": "python3"
  },
  "language_info": {
   "codemirror_mode": {
    "name": "ipython",
    "version": 3
   },
   "file_extension": ".py",
   "mimetype": "text/x-python",
   "name": "python",
   "nbconvert_exporter": "python",
   "pygments_lexer": "ipython3",
   "version": "3.6.0"
  }
 },
 "nbformat": 4,
 "nbformat_minor": 0
}
