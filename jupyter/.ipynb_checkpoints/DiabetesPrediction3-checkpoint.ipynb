{
 "cells": [
  {
   "cell_type": "markdown",
   "metadata": {},
   "source": [
    "##Approach 3\n",
    "\n",
    "Using % Diabetic to Select Features"
   ]
  },
  {
   "cell_type": "code",
   "execution_count": 30,
   "metadata": {
    "collapsed": false
   },
   "outputs": [],
   "source": [
    "import pandas as pd\n",
    "import numpy as np\n",
    "from collections import defaultdict\n",
    "import matplotlib\n",
    "import matplotlib.pyplot as plt\n",
    "import os\n",
    "import re\n",
    "import scipy.stats as scs\n",
    "from scipy import spatial\n",
    "import sklearn\n",
    "from sklearn.metrics import *\n",
    "from sklearn.linear_model import LogisticRegression\n",
    "from sklearn.neighbors import KNeighborsClassifier\n",
    "from sklearn.naive_bayes import GaussianNB\n",
    "from sklearn.svm import SVC\n",
    "from sklearn.tree import DecisionTreeClassifier\n",
    "from sklearn.ensemble import RandomForestClassifier\n",
    "from sklearn.metrics import accuracy_score\n",
    "from sklearn.cross_validation import cross_val_score\n",
    "from sklearn.cross_validation import train_test_split\n",
    "from patsy import dmatrices\n",
    "import seaborn as sns"
   ]
  },
  {
   "cell_type": "code",
   "execution_count": 31,
   "metadata": {
    "collapsed": true
   },
   "outputs": [],
   "source": [
    "os.chdir('/Users/ItelinaMa/Documents/Metis/McNulty/trainingSet')\n",
    "diagnosisT = pd.read_csv('training_SyncDiagnosis.csv')\n",
    "allergyT = pd.read_csv('training_SyncAllergy.csv')\n",
    "immunT = pd.read_csv('training_SyncImmunization.csv')\n",
    "labObsT = pd.read_csv('training_SyncLabObservation.csv')\n",
    "labPanT = pd.read_csv('training_SyncLabPanel.csv')\n",
    "labResT = pd.read_csv('training_SyncLabResult.csv')\n",
    "medicationT = pd.read_csv('training_SyncMedication.csv')\n",
    "patientT = pd.read_csv('training_SyncPatient.csv')\n",
    "patientCondT = pd.read_csv('training_SyncPatientCondition.csv')\n",
    "smokingT = pd.read_csv('training_SyncPatientSmokingStatus.csv')\n",
    "prescripT = pd.read_csv('training_SyncPrescription.csv')\n",
    "trnscrpT = pd.read_csv('training_SyncTranscript.csv')\n",
    "trnscrpAT = pd.read_csv('training_SyncTranscriptAllergy.csv')\n",
    "trnscrpDT = pd.read_csv('training_SyncTranscriptDiagnosis.csv')\n",
    "trnscrptMT = pd.read_csv('training_SyncTranscriptMedication.csv')\n",
    "myfileT = pd.read_csv('myfile.csv', header=None)\n",
    "conditionT = pd.read_csv('SyncCondition.csv')\n",
    "smokingT = pd.read_csv('SyncSmokingStatus.csv')"
   ]
  },
  {
   "cell_type": "markdown",
   "metadata": {},
   "source": [
    "#Section 1. Data Procession\n",
    "\n",
    "BMI, Blood Pressure, Diseases"
   ]
  },
  {
   "cell_type": "code",
   "execution_count": 32,
   "metadata": {
    "collapsed": true
   },
   "outputs": [],
   "source": [
    "def makeBMI():\n",
    "    trnscrpT['BMI'] = trnscrpT['BMI'].replace(0.000, np.nan)\n",
    "    bmi1 = trnscrpT.groupby(['PatientGuid'])['BMI'].mean()\n",
    "    bmi2 = trnscrpT.groupby(['PatientGuid'])['BMI'].max()\n",
    "    bmi3 = trnscrpT.groupby(['PatientGuid'])['BMI'].min()\n",
    "    bmi = pd.concat([bmi1, bmi2, bmi3], axis = 1)\n",
    "    bmi.columns = ['MeanBMI', 'MaxBMI', 'MinBMI']\n",
    "    bmi['isOverweight'] = 0\n",
    "    bmi['isObese'] = 0\n",
    "    bmi.loc[(bmi['MeanBMI'] >= 25) & (bmi['MeanBMI'] < 30), 'isOverweight'] = 1\n",
    "    bmi.loc[bmi['MeanBMI'] >= 30, 'isObese'] = 1\n",
    "    bmi['BMIDiff'] = np.abs(bmi['MaxBMI'] - bmi['MinBMI'])\n",
    "    bmi = bmi.reset_index()\n",
    "    return bmi"
   ]
  },
  {
   "cell_type": "code",
   "execution_count": 33,
   "metadata": {
    "collapsed": true
   },
   "outputs": [],
   "source": [
    "def makeBP():\n",
    "    bloodpressure1 = trnscrpT.groupby(['PatientGuid'])[['SystolicBP', 'DiastolicBP']].mean()\n",
    "    bloodpressure2 = trnscrpT.groupby(['PatientGuid'])[['SystolicBP', 'DiastolicBP']].max()\n",
    "    bloodpressure3 = trnscrpT.groupby(['PatientGuid'])[['SystolicBP', 'DiastolicBP']].min()\n",
    "    bloodpressure = pd.concat([bloodpressure1, bloodpressure2, bloodpressure3], axis = 1)\n",
    "    bloodpressure.columns = ['meanSystolicBP', 'meanDiastolicBP', 'maxSystolicBP', 'maxDiastolicBP', 'minSystolicBP', 'minDiastolicBP']\n",
    "    bloodpressure['SystDiff'] = np.abs(bloodpressure['maxSystolicBP'] - bloodpressure['minSystolicBP'])\n",
    "    bloodpressure['DiastDiff'] = np.abs(bloodpressure['maxDiastolicBP'] - bloodpressure['minDiastolicBP'])\n",
    "    bloodpressure['isPreHyp'] = 0\n",
    "    bloodpressure['isStage1HBP'] = 0\n",
    "    bloodpressure['isStage2HBP'] = 0\n",
    "    bloodpressure.loc[((bloodpressure['meanSystolicBP'] >= 120) & (bloodpressure['meanSystolicBP'] < 140)) | ((bloodpressure['meanDiastolicBP'] >= 80) & (bloodpressure['meanDiastolicBP'] < 90)), 'isPreHyp'] = 1\n",
    "    bloodpressure.loc[((bloodpressure['meanSystolicBP'] >= 140) & (bloodpressure['meanSystolicBP'] < 160)) | ((bloodpressure['meanDiastolicBP'] >= 90) & (bloodpressure['meanDiastolicBP'] < 100)), 'isStage1HBP'] = 1\n",
    "    bloodpressure.loc[(bloodpressure['meanSystolicBP'] >= 160) | (bloodpressure['meanDiastolicBP'] >= 100), 'isStage2HBP'] = 1\n",
    "    bloodpressure.loc[bloodpressure['isStage2HBP'] == 1, 'isStage1HBP'] = 0\n",
    "    bloodpressure.loc[bloodpressure['isStage1HBP'] == 1, 'isPreHyp'] = 0\n",
    "    bloodpressure = bloodpressure.reset_index()\n",
    "    return bloodpressure"
   ]
  },
  {
   "cell_type": "code",
   "execution_count": 34,
   "metadata": {
    "collapsed": true
   },
   "outputs": [],
   "source": [
    "def makeConditions():\n",
    "    diaganalysis = pd.merge(patientT, diagnosisT, on=['PatientGuid'])\n",
    "    chidata = diaganalysis[['PatientGuid', 'DMIndicator', 'ICD9Code']].drop_duplicates()\n",
    "    chidata.index = chidata['PatientGuid']\n",
    "    dummies = pd.get_dummies(chidata['ICD9Code']).reset_index()\n",
    "    dummies = dummies.groupby(['PatientGuid'])[dummies.columns[1:]].sum()\n",
    "    dummies = dummies.replace(2, 1)\n",
    "    chidata = chidata[['PatientGuid', 'DMIndicator']]\n",
    "    chidata = chidata.drop_duplicates()\n",
    "    chidata = pd.concat([chidata, dummies], axis=1)\n",
    "    chidata['DMIndicator'] = chidata['DMIndicator'].astype(float)\n",
    "    return chidata"
   ]
  },
  {
   "cell_type": "code",
   "execution_count": 35,
   "metadata": {
    "collapsed": true
   },
   "outputs": [],
   "source": [
    "def heartDisease(text):\n",
    "    if bool(re.match('41[0-4]|42[0-5]|427|429|74[5-6]', text)) == True:\n",
    "        return 1\n",
    "    return 0\n",
    "def CAD(text):\n",
    "    if bool(re.match('41[0-4]|429', text)) == True:\n",
    "        return 1\n",
    "    return 0\n",
    "def cardiomyopathy(text):\n",
    "    if bool(re.match('42[0-5]', text)) == True:\n",
    "        return 1\n",
    "    return 0\n",
    "def CHF(text):\n",
    "    if bool(re.match('426', text)) == True:\n",
    "        return 1\n",
    "    return 0\n",
    "def arrhythmias(text):\n",
    "    if bool(re.match('427', text)) == True:\n",
    "        return 1\n",
    "    return 0\n",
    "def heartdefects(text):\n",
    "    if bool(re.match('74[5-6]', text)) == True:\n",
    "        return 1\n",
    "    return 0\n",
    "def stroke(text):\n",
    "    if bool(re.match('43[0-1]|43[3-6]|997.02', text)) == True:\n",
    "        return 1\n",
    "    return 0\n",
    "def sleepApnea(text):\n",
    "    if bool(re.match('727.23|780.57', text)) == True:\n",
    "        return 1\n",
    "    return 0\n",
    "def gestDiab(text):\n",
    "    if bool(re.match('648.8', text)) == True:\n",
    "        return 1\n",
    "    return 0\n",
    "def polyOvary(text):\n",
    "    if bool(re.match('256.4', text)) == True:\n",
    "        return 1\n",
    "    return 0\n",
    "def frozenShoulder(text):\n",
    "    if bool(re.match('726.0', text)) == True:\n",
    "        return 1\n",
    "    return 0\n",
    "def hemochr(text):\n",
    "    if bool(re.match('275.03', text)) == True:\n",
    "        return 1\n",
    "    return 0\n",
    "def hepatitis(text):\n",
    "    if bool(re.match('070.2|070.3', text)) == True:\n",
    "        return 1\n",
    "    return 0\n",
    "def diabCompl(text):\n",
    "    if bool(re.match('250.[1-3]|250.5|250.8|251.[0-2]|270.3|775.6|962.3', text)) == True:\n",
    "        return 1\n",
    "    return 0\n",
    "def kidneyFailure(text):\n",
    "    if bool(re.match('58[4-5]', text)) == True:\n",
    "        return 1\n",
    "    return 0\n",
    "def dementia(text):\n",
    "    if bool(re.match('331|290|294|797', text)) == True:\n",
    "        return 1\n",
    "    return 0\n",
    "def acanthosis(text):\n",
    "    if bool(re.match('701.2', text)) == True:\n",
    "        return 1\n",
    "    return 0\n",
    "def blindness(text):\n",
    "    if bool(re.match('369', text)) == True:\n",
    "        return 1\n",
    "    return 0\n",
    "def sDysfunction(text):\n",
    "    if bool(re.match('302.7', text)) == True:\n",
    "        return 1\n",
    "    return 0\n",
    "def preDiabetes(text):\n",
    "    if bool(re.match('790.29', text)) == True:\n",
    "        return 1\n",
    "    return 0"
   ]
  },
  {
   "cell_type": "code",
   "execution_count": 36,
   "metadata": {
    "collapsed": true
   },
   "outputs": [],
   "source": [
    "def ICD9Label(text):\n",
    "    if bool(re.match('14[0-9]|2[0-3][0-9]', text)) == True:\n",
    "        return 'neoplasms'\n",
    "    elif bool(re.match('2[4-7][0-9]', text)) == True:\n",
    "        return 'endoctrine'\n",
    "    elif bool(re.match('28[0-9]', text)) == True:\n",
    "        return 'blood'\n",
    "    elif bool(re.match('29[0-9]|3[0-1][0-9]', text)) == True:\n",
    "        return 'mental'\n",
    "    elif bool(re.match('3[2-5][0-9]', text)) == True:\n",
    "        return 'nervous'\n",
    "    elif bool(re.match('3[6-8][0-9]', text)) == True:\n",
    "        return 'sense'\n",
    "    elif bool(re.match('39[0-9]|4[0-5][0-9]', text)) == True:\n",
    "        return 'circulatory'\n",
    "    elif bool(re.match('4[6-9][0-9]|5[0-1][0-9]', text)) == True:\n",
    "        return 'respiratory'\n",
    "    elif bool(re.match('5[2-7][0-9]', text)) == True:\n",
    "        return 'digestive'\n",
    "    elif bool(re.match('5[8-9][0-9]|6[0-2][0-9]', text)) == True:\n",
    "        return 'genitourinary'\n",
    "    elif bool(re.match('6[3-7][0-9]', text)) == True:\n",
    "        return 'pregnancy'    \n",
    "    elif bool(re.match('6[8-9][0-9]|70[0-9]', text)) == True:\n",
    "        return 'skin'   \n",
    "    elif bool(re.match('7[1-3][0-9]', text)) == True:\n",
    "        return 'musculoskeletal'       \n",
    "    elif bool(re.match('7[4-5][0-9]', text)) == True:\n",
    "        return 'congenital' \n",
    "    elif bool(re.match('7[6-7][0-9]', text)) == True:\n",
    "        return 'perinatal' \n",
    "    elif bool(re.match('7[8-9][0-9]', text)) == True:\n",
    "        return 'symptoms or ill-defined' \n",
    "    elif bool(re.match('8[0-9][0-9]|9[0-9][0-9]', text)) == True:\n",
    "        return 'injuries' \n",
    "    elif bool(re.match('E|V', text)) == True:\n",
    "        return 'suppl' \n",
    "    else:\n",
    "        return 'infectious'"
   ]
  },
  {
   "cell_type": "code",
   "execution_count": 37,
   "metadata": {
    "collapsed": true
   },
   "outputs": [],
   "source": [
    "def stripPeriods(text):\n",
    "    result = re.sub('\\.', \"\", text)\n",
    "    return result"
   ]
  },
  {
   "cell_type": "code",
   "execution_count": 38,
   "metadata": {
    "collapsed": true
   },
   "outputs": [],
   "source": [
    "def makeSpecials():\n",
    "    data = diagnosisT.copy()\n",
    "    data['ICD9'] = data['ICD9Code'].apply(stripPeriods)\n",
    "    data['hasHeartDisease'] = data['ICD9Code'].apply(heartDisease)\n",
    "    data['hasCAD'] = data['ICD9Code'].apply(CAD)\n",
    "    data['hasCardiomyo'] = data['ICD9Code'].apply(cardiomyopathy)\n",
    "    data['hasArrhy'] = data['ICD9Code'].apply(arrhythmias)\n",
    "    data['hasHeartDefects'] = data['ICD9Code'].apply(heartdefects)\n",
    "    data['hasCHF'] = data['ICD9Code'].apply(CHF)\n",
    "    data['hasStroke'] = data['ICD9Code'].apply(stroke)\n",
    "    data['hasSleepA'] = data['ICD9Code'].apply(sleepApnea)\n",
    "    data['hasGestDiab'] = data['ICD9Code'].apply(gestDiab)\n",
    "    data['hasPolyO'] = data['ICD9Code'].apply(polyOvary)\n",
    "    data['hasFrozenShoulder'] = data['ICD9Code'].apply(frozenShoulder)\n",
    "    data['hasHemoChr'] = data['ICD9Code'].apply(hemochr)\n",
    "    data['hasHepatitis'] = data['ICD9Code'].apply(hepatitis)\n",
    "    data['hasDiabComp'] = data['ICD9Code'].apply(diabCompl)\n",
    "    data['hasKidneyF'] = data['ICD9Code'].apply(kidneyFailure)\n",
    "    data['hasDementia'] = data['ICD9Code'].apply(dementia)\n",
    "    data['hasAcanthosis'] = data['ICD9Code'].apply(acanthosis)\n",
    "    data['hasBlindness'] = data['ICD9Code'].apply(blindness)\n",
    "    data['hasSDysf'] = data['ICD9Code'].apply(sDysfunction)\n",
    "    data['hasPreDiab'] = data['ICD9Code'].apply(preDiabetes)\n",
    "    diagnosisSummary = data.groupby(['PatientGuid'])[['hasHeartDisease', 'hasCHF', 'hasStroke', 'hasSleepA', 'hasGestDiab','hasPolyO', 'hasFrozenShoulder', 'hasHemoChr','hasHepatitis', 'hasDiabComp', 'hasKidneyF', 'hasDementia','hasAcanthosis', 'hasBlindness' ,'hasSDysf', 'hasPreDiab']].max()\n",
    "    diagnosisSummary = diagnosisSummary.reset_index()\n",
    "    return diagnosisSummary"
   ]
  },
  {
   "cell_type": "code",
   "execution_count": 39,
   "metadata": {
    "collapsed": true
   },
   "outputs": [],
   "source": [
    "def getPatientAge():\n",
    "    data=patientT.copy()\n",
    "    data.drop('PracticeGuid', axis=1, inplace=True)\n",
    "    data.drop('State', axis=1, inplace=True)\n",
    "    data['Age'] = 2015 - data['YearOfBirth']\n",
    "    data.drop('YearOfBirth', axis=1, inplace=True)\n",
    "    return data"
   ]
  },
  {
   "cell_type": "code",
   "execution_count": 40,
   "metadata": {
    "collapsed": true
   },
   "outputs": [],
   "source": [
    "def makeICD9Labels():\n",
    "    data = diagnosisT.copy()\n",
    "    data['ICD9Label'] = data['ICD9Code'].apply(ICD9Label)\n",
    "    data['Counts'] = 1\n",
    "    ICD9Labeldata = data.groupby(['PatientGuid', 'ICD9Label'])['Counts'].max().reset_index().pivot('PatientGuid', 'ICD9Label', 'Counts').reset_index()\n",
    "    ICD9Labeldata = ICD9Labeldata.fillna(0)\n",
    "    return ICD9Labeldata"
   ]
  },
  {
   "cell_type": "code",
   "execution_count": 41,
   "metadata": {
    "collapsed": false
   },
   "outputs": [],
   "source": [
    "bloodpressure = makeBP()\n",
    "bmi = makeBMI()\n",
    "conditions = makeConditions()\n",
    "specials = makeSpecials()\n",
    "patients = getPatientAge()\n",
    "icd9lab = makeICD9Labels()"
   ]
  },
  {
   "cell_type": "code",
   "execution_count": 42,
   "metadata": {
    "collapsed": false
   },
   "outputs": [],
   "source": [
    "def makeSimilarity():\n",
    "    columns = conditions.columns[2:]\n",
    "    chitest = {}\n",
    "    cmatrix = {}\n",
    "    cos = {}\n",
    "    percent = {}\n",
    "    for column in columns:\n",
    "        cm = confusion_matrix(np.array(conditions['DMIndicator']), np.array(conditions[column]))\n",
    "        cmatrix[column] = cm\n",
    "        chitest[column]= scs.chi2_contingency(cm)[1]\n",
    "        cos[column] = 1 - spatial.distance.cosine(conditions['DMIndicator'], conditions[column])\n",
    "        percent[column] = [float(cm[1][1])/(float(cm[0][1]) + float(cm[1][1])), (float(cm[0][1]) + float(cm[1][1]))]\n",
    "    return cos, chitest, cmatrix, percent"
   ]
  },
  {
   "cell_type": "code",
   "execution_count": 43,
   "metadata": {
    "collapsed": false
   },
   "outputs": [],
   "source": [
    "perc = makeSimilarity()[3]"
   ]
  },
  {
   "cell_type": "code",
   "execution_count": 44,
   "metadata": {
    "collapsed": true
   },
   "outputs": [],
   "source": [
    "cos = makeSimilarity()[0]"
   ]
  },
  {
   "cell_type": "code",
   "execution_count": 24,
   "metadata": {
    "collapsed": false
   },
   "outputs": [
    {
     "data": {
      "text/plain": [
       "9948"
      ]
     },
     "execution_count": 24,
     "metadata": {},
     "output_type": "execute_result"
    }
   ],
   "source": [
    "len(conditions.PatientGuid.unique())"
   ]
  },
  {
   "cell_type": "code",
   "execution_count": 61,
   "metadata": {
    "collapsed": false
   },
   "outputs": [],
   "source": [
    "diagnames = diagnosisT[['ICD9Code', 'DiagnosisDescription']].drop_duplicates()\n",
    "diagnames.index = diagnames['ICD9Code']\n",
    "diagnames = diagnames['DiagnosisDescription']"
   ]
  },
  {
   "cell_type": "code",
   "execution_count": 62,
   "metadata": {
    "collapsed": false
   },
   "outputs": [
    {
     "data": {
      "text/plain": [
       "ICD9Code\n",
       "825.0                         Fracture of calcaneus, closed\n",
       "784.0                                              Headache\n",
       "461.9                          Acute sinusitis, unspecified\n",
       "V72.31                    Routine gynecological examination\n",
       "345.90    Epilepsy, unspecified, without mention of intr...\n",
       "Name: DiagnosisDescription, dtype: object"
      ]
     },
     "execution_count": 62,
     "metadata": {},
     "output_type": "execute_result"
    }
   ],
   "source": [
    "diagnames.head(5)"
   ]
  },
  {
   "cell_type": "code",
   "execution_count": 64,
   "metadata": {
    "collapsed": false
   },
   "outputs": [
    {
     "data": {
      "text/html": [
       "<div>\n",
       "<table border=\"1\" class=\"dataframe\">\n",
       "  <thead>\n",
       "    <tr style=\"text-align: right;\">\n",
       "      <th></th>\n",
       "      <th>index</th>\n",
       "      <th>DiagnosisDescription</th>\n",
       "      <th>PercentageDiab</th>\n",
       "      <th>PatientsWithCondition</th>\n",
       "      <th>PercentageOfTotalPop</th>\n",
       "    </tr>\n",
       "  </thead>\n",
       "  <tbody>\n",
       "    <tr>\n",
       "      <th>0</th>\n",
       "      <td>002.0</td>\n",
       "      <td>Typhoid fever</td>\n",
       "      <td>1.0</td>\n",
       "      <td>1</td>\n",
       "      <td>0.000101</td>\n",
       "    </tr>\n",
       "    <tr>\n",
       "      <th>1</th>\n",
       "      <td>003.0</td>\n",
       "      <td>Salmonella gastroenteritis</td>\n",
       "      <td>0.5</td>\n",
       "      <td>2</td>\n",
       "      <td>0.000201</td>\n",
       "    </tr>\n",
       "    <tr>\n",
       "      <th>2</th>\n",
       "      <td>003.23</td>\n",
       "      <td>Salmonella arthritis</td>\n",
       "      <td>0.0</td>\n",
       "      <td>1</td>\n",
       "      <td>0.000101</td>\n",
       "    </tr>\n",
       "    <tr>\n",
       "      <th>3</th>\n",
       "      <td>005.9</td>\n",
       "      <td>Food poisoning, unspecified</td>\n",
       "      <td>0.0</td>\n",
       "      <td>4</td>\n",
       "      <td>0.000402</td>\n",
       "    </tr>\n",
       "    <tr>\n",
       "      <th>4</th>\n",
       "      <td>007.1</td>\n",
       "      <td>Giardiasis</td>\n",
       "      <td>0.0</td>\n",
       "      <td>4</td>\n",
       "      <td>0.000402</td>\n",
       "    </tr>\n",
       "  </tbody>\n",
       "</table>\n",
       "</div>"
      ],
      "text/plain": [
       "    index         DiagnosisDescription  PercentageDiab  PatientsWithCondition  \\\n",
       "0   002.0                Typhoid fever             1.0                      1   \n",
       "1   003.0   Salmonella gastroenteritis             0.5                      2   \n",
       "2  003.23         Salmonella arthritis             0.0                      1   \n",
       "3   005.9  Food poisoning, unspecified             0.0                      4   \n",
       "4   007.1                   Giardiasis             0.0                      4   \n",
       "\n",
       "   PercentageOfTotalPop  \n",
       "0              0.000101  \n",
       "1              0.000201  \n",
       "2              0.000101  \n",
       "3              0.000402  \n",
       "4              0.000402  "
      ]
     },
     "execution_count": 64,
     "metadata": {},
     "output_type": "execute_result"
    }
   ],
   "source": [
    "output1 = pd.DataFrame(data=perc).T\n",
    "output1.columns = ['PercentageDiab', 'PatientsWithCondition']\n",
    "output1['PercentageOfTotalPop'] = output1['PatientsWithCondition']/9948\n",
    "output1 = output1.sort('PatientsWithCondition', ascending=False)\n",
    "output2 = pd.concat([diagnames, output1], axis=1).reset_index()\n",
    "output2.head(5)"
   ]
  },
  {
   "cell_type": "code",
   "execution_count": 65,
   "metadata": {
    "collapsed": true
   },
   "outputs": [],
   "source": [
    "output2.to_csv('visualization.csv')"
   ]
  },
  {
   "cell_type": "code",
   "execution_count": 15,
   "metadata": {
    "collapsed": false
   },
   "outputs": [],
   "source": [
    "def getICD9(threshold=0.2):\n",
    "    ICD9 = []\n",
    "    for key in perc.keys():\n",
    "        if perc[key][0] > threshold:\n",
    "            ICD9.append(key)\n",
    "    return ICD9"
   ]
  },
  {
   "cell_type": "code",
   "execution_count": 16,
   "metadata": {
    "collapsed": false
   },
   "outputs": [
    {
     "name": "stdout",
     "output_type": "stream",
     "text": [
      "(9948, 12) (9948, 7) (9948, 17) (9948, 4) (9948, 3945) (9948, 20)\n"
     ]
    }
   ],
   "source": [
    "print bloodpressure.shape, bmi.shape, specials.shape, patients.shape, conditions.shape, icd9lab.shape"
   ]
  },
  {
   "cell_type": "code",
   "execution_count": 18,
   "metadata": {
    "collapsed": true
   },
   "outputs": [],
   "source": [
    "import sys\n",
    "sys.setrecursionlimit(10000)"
   ]
  },
  {
   "cell_type": "code",
   "execution_count": 28,
   "metadata": {
    "collapsed": false
   },
   "outputs": [],
   "source": [
    "def optimizer():\n",
    "    Metric = []\n",
    "    threshold = []\n",
    "\n",
    "    patientdata = pd.merge(patients, specials, how='inner', on =['PatientGuid'])\n",
    "    patientdata = pd.merge(patientdata, icd9lab, how='inner', on =['PatientGuid'])\n",
    "    patientdata = pd.merge(patientdata, bloodpressure, how='inner', on =['PatientGuid'])\n",
    "    patientdata = pd.merge(patientdata, bmi, how='inner', on =['PatientGuid'])\n",
    "\n",
    "    for i in list(np.arange(0.1, max(perc.values()), 0.05)):\n",
    "        #piece together the datasets\n",
    "        ICD9 = getICD9(i)\n",
    "        newconditions = pd.concat([conditions['PatientGuid'], conditions[ICD9]], axis=1)\n",
    "        patientdata = pd.merge(patientdata, newconditions, how='inner', on =['PatientGuid'])\n",
    "        \n",
    "        #create model variables\n",
    "        modelelements = '\") + Q(\"'.join(patientdata.columns[2:])\n",
    "        modelelements = 'Q(\"' + modelelements + '\")'\n",
    "        formula = 'DMIndicator ~ ' + modelelements\n",
    "        y, X = dmatrices(formula, data=patientdata, return_type='dataframe')\n",
    "        X = X.drop('Intercept', 1)\n",
    "\n",
    "        #setting up test train split\n",
    "        X_train, X_test, y_train, y_test = train_test_split(X, y, test_size=0.2, random_state=46)\n",
    "        X_train = np.array(X_train)\n",
    "        X_test = np.array(X_test)\n",
    "        y_train = np.array(y_train).ravel()\n",
    "        y_test = np.array(y_test).ravel()\n",
    "    \n",
    "        #run logistic regression\n",
    "        n_samples = X_train.shape[0]\n",
    "        model1 = LogisticRegression()\n",
    "        #model1.fit(X_train, y_train)\n",
    "        #y_pred_proba = model1.predict_proba(X_test)\n",
    "        cv = sklearn.cross_validation.ShuffleSplit(n_samples, n_iter=10, test_size=0.2, random_state=1)\n",
    "        metric = sklearn.cross_validation.cross_val_score(model1, X_train, y_train, cv=cv, scoring='recall')\n",
    "        mmetric = metric.mean()\n",
    "        #fpr, tpr, _ = sklearn.metrics.roc_curve(y_test, y_pred_proba[:,1])\n",
    "        #auc = sklearn.metrics.auc(fpr, tpr\n",
    "        #logloss = sklearn.metrics.log_loss(y_test, y_pred_proba[:,1])\n",
    "        \n",
    "        threshold.append(i)\n",
    "        Metric.append(mmetric)\n",
    "        \n",
    "    return threshold, Metric"
   ]
  },
  {
   "cell_type": "code",
   "execution_count": null,
   "metadata": {
    "collapsed": false
   },
   "outputs": [],
   "source": [
    "threshold, recall = optimizer()"
   ]
  },
  {
   "cell_type": "code",
   "execution_count": null,
   "metadata": {
    "collapsed": false
   },
   "outputs": [],
   "source": [
    "bestthreshold = threshold[AUC.index(max(recall))]\n",
    "bestthreshold"
   ]
  },
  {
   "cell_type": "code",
   "execution_count": null,
   "metadata": {
    "collapsed": false
   },
   "outputs": [],
   "source": [
    "%matplotlib inline\n",
    "matplotlib.style.use('ggplot')\n",
    "plt.plot(threshold, AUC)\n",
    "plt.show()"
   ]
  },
  {
   "cell_type": "code",
   "execution_count": 19,
   "metadata": {
    "collapsed": true
   },
   "outputs": [],
   "source": [
    "def makeData(threshold = 0.2):\n",
    "    ICD9 = getICD9(threshold)\n",
    "    newconditions = pd.concat([conditions['PatientGuid'], conditions[ICD9]], axis=1)\n",
    "    patientdata = pd.merge(patients, newconditions, how='inner', on =['PatientGuid'])\n",
    "    patientdata = pd.merge(patientdata, specials, how='inner', on =['PatientGuid'])\n",
    "    patientdata = pd.merge(patientdata, icd9lab, how='inner', on =['PatientGuid'])\n",
    "    patientdata = pd.merge(patientdata, bloodpressure, how='inner', on =['PatientGuid'])\n",
    "    patientdata = pd.merge(patientdata, bmi, how='inner', on =['PatientGuid'])\n",
    "\n",
    "    #create model variables\n",
    "    modelelements = '\") + Q(\"'.join(patientdata.columns[2:])\n",
    "    modelelements = 'Q(\"' + modelelements + '\")'\n",
    "    formula = 'DMIndicator ~ ' + modelelements\n",
    "    y, X = dmatrices(formula, data=patientdata, return_type='dataframe')\n",
    "    X = X.drop('Intercept', 1)\n",
    "\n",
    "    #setting up test train split\n",
    "    X_train, X_test, y_train, y_test = train_test_split(X, y, test_size=0.2, random_state=46)\n",
    "    X_train = np.array(X_train)\n",
    "    X_test = np.array(X_test)\n",
    "    y_train = np.array(y_train).ravel()\n",
    "    y_test = np.array(y_test).ravel()\n",
    "    \n",
    "    columns = X.columns\n",
    "    \n",
    "    return X_train, y_train, X_test, y_test, columns"
   ]
  },
  {
   "cell_type": "code",
   "execution_count": 20,
   "metadata": {
    "collapsed": false
   },
   "outputs": [],
   "source": [
    "X_train, y_train, X_test, y_test, features = makeData()"
   ]
  },
  {
   "cell_type": "code",
   "execution_count": 21,
   "metadata": {
    "collapsed": false
   },
   "outputs": [
    {
     "data": {
      "text/plain": [
       "1689"
      ]
     },
     "execution_count": 21,
     "metadata": {},
     "output_type": "execute_result"
    }
   ],
   "source": [
    "len(features)"
   ]
  },
  {
   "cell_type": "markdown",
   "metadata": {},
   "source": [
    "Accuracy: Training (CV)"
   ]
  },
  {
   "cell_type": "code",
   "execution_count": 22,
   "metadata": {
    "collapsed": false
   },
   "outputs": [
    {
     "name": "stdout",
     "output_type": "stream",
     "text": [
      "0.817420435511\n"
     ]
    }
   ],
   "source": [
    "n_samples = X_train.shape[0]\n",
    "model1 = LogisticRegression()\n",
    "cv = sklearn.cross_validation.ShuffleSplit(n_samples, n_iter=10, test_size=0.3, random_state=1)\n",
    "scores = sklearn.cross_validation.cross_val_score(model1, X_train, y_train, cv=cv)\n",
    "print scores.mean()"
   ]
  },
  {
   "cell_type": "markdown",
   "metadata": {},
   "source": [
    "Accuracy: Test"
   ]
  },
  {
   "cell_type": "code",
   "execution_count": 23,
   "metadata": {
    "collapsed": false
   },
   "outputs": [
    {
     "data": {
      "text/plain": [
       "0.82010050251256283"
      ]
     },
     "execution_count": 23,
     "metadata": {},
     "output_type": "execute_result"
    }
   ],
   "source": [
    "model1.fit(X_train, y_train)\n",
    "model1.score(X_test, y_test)"
   ]
  },
  {
   "cell_type": "code",
   "execution_count": 24,
   "metadata": {
    "collapsed": false
   },
   "outputs": [
    {
     "data": {
      "text/plain": [
       "<matplotlib.axes._subplots.AxesSubplot at 0x112559590>"
      ]
     },
     "execution_count": 24,
     "metadata": {},
     "output_type": "execute_result"
    },
    {
     "data": {
      "image/png": "[encoded data removed]",
      "text/plain": [
       "<matplotlib.figure.Figure at 0x112559a10>"
      ]
     },
     "metadata": {},
     "output_type": "display_data"
    }
   ],
   "source": [
    "%matplotlib inline\n",
    "matplotlib.style.use('ggplot')\n",
    "y_pred = model1.predict(X_test)\n",
    "cm = confusion_matrix(y_test, y_pred)\n",
    "labelname = model1.classes_\n",
    "sns.heatmap(cm, annot=True,  fmt='', xticklabels=labelname, yticklabels=labelname)"
   ]
  },
  {
   "cell_type": "markdown",
   "metadata": {},
   "source": [
    "Classification Report"
   ]
  },
  {
   "cell_type": "code",
   "execution_count": 25,
   "metadata": {
    "collapsed": false
   },
   "outputs": [
    {
     "name": "stdout",
     "output_type": "stream",
     "text": [
      "             precision    recall  f1-score   support\n",
      "\n",
      "        0.0       0.85      0.94      0.89      1603\n",
      "        1.0       0.57      0.32      0.41       387\n",
      "\n",
      "avg / total       0.80      0.82      0.80      1990\n",
      "\n"
     ]
    }
   ],
   "source": [
    "report = classification_report(y_test.ravel(), y_pred)\n",
    "print report"
   ]
  },
  {
   "cell_type": "markdown",
   "metadata": {},
   "source": [
    "ROC"
   ]
  },
  {
   "cell_type": "code",
   "execution_count": 26,
   "metadata": {
    "collapsed": false
   },
   "outputs": [
    {
     "data": {
      "text/plain": [
       "<matplotlib.legend.Legend at 0x111af1610>"
      ]
     },
     "execution_count": 26,
     "metadata": {},
     "output_type": "execute_result"
    },
    {
     "data": {
      "image/png": "[encoded data removed]",
      "text/plain": [
       "<matplotlib.figure.Figure at 0x11327ef90>"
      ]
     },
     "metadata": {},
     "output_type": "display_data"
    }
   ],
   "source": [
    "y_pred_proba = model1.predict_proba(X_test)\n",
    "fpr, tpr, _ = sklearn.metrics.roc_curve(y_test, y_pred_proba[:,1])\n",
    "roc_rates = [fpr, tpr]\n",
    "auc = sklearn.metrics.auc(fpr, tpr)\n",
    "plt.title(\"Logistic Regression\", fontsize = 20)\n",
    "plt.xlabel(\"False positive rate\")\n",
    "plt.ylabel(\"True positive rate\")\n",
    "labelname = \"Logistic Regression\" + \", (area = %0.4f)\" % auc\n",
    "plt.plot(roc_rates[0], roc_rates[1], linewidth = 2, label = labelname)\n",
    "plt.legend(loc = 4)"
   ]
  },
  {
   "cell_type": "markdown",
   "metadata": {},
   "source": [
    "Log Loss: Testing"
   ]
  },
  {
   "cell_type": "code",
   "execution_count": 27,
   "metadata": {
    "collapsed": false
   },
   "outputs": [
    {
     "data": {
      "text/plain": [
       "0.39609237306299866"
      ]
     },
     "execution_count": 27,
     "metadata": {},
     "output_type": "execute_result"
    }
   ],
   "source": [
    "sklearn.metrics.log_loss(y_test, y_pred_proba[:,1])"
   ]
  },
  {
   "cell_type": "code",
   "execution_count": null,
   "metadata": {
    "collapsed": true
   },
   "outputs": [],
   "source": []
  }
 ],
 "metadata": {
  "kernelspec": {
   "display_name": "Python 2",
   "language": "python",
   "name": "python2"
  },
  "language_info": {
   "codemirror_mode": {
    "name": "ipython",
    "version": 2
   },
   "file_extension": ".py",
   "mimetype": "text/x-python",
   "name": "python",
   "nbconvert_exporter": "python",
   "pygments_lexer": "ipython2",
   "version": "2.7.13"
  }
 },
 "nbformat": 4,
 "nbformat_minor": 0
}
