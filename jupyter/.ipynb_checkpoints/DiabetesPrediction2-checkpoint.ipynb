{
 "cells": [
  {
   "cell_type": "code",
   "execution_count": 1,
   "metadata": {
    "collapsed": false
   },
   "outputs": [
    {
     "name": "stderr",
     "output_type": "stream",
     "text": [
      "/Users/janzaloudek/anaconda/lib/python3.6/site-packages/sklearn/cross_validation.py:44: DeprecationWarning: This module was deprecated in version 0.18 in favor of the model_selection module into which all the refactored classes and functions are moved. Also note that the interface of the new CV iterators are different from that of this module. This module will be removed in 0.20.\n",
      "  \"This module will be removed in 0.20.\", DeprecationWarning)\n"
     ]
    }
   ],
   "source": [
    "import pandas as pd\n",
    "import numpy as np\n",
    "from collections import defaultdict\n",
    "import matplotlib\n",
    "import matplotlib.pyplot as plt\n",
    "import os\n",
    "import re\n",
    "import scipy.stats as scs\n",
    "from scipy import spatial\n",
    "import sklearn\n",
    "from sklearn.metrics import *\n",
    "from sklearn.linear_model import LogisticRegression\n",
    "from sklearn.neighbors import KNeighborsClassifier\n",
    "from sklearn.naive_bayes import GaussianNB\n",
    "from sklearn.svm import SVC\n",
    "from sklearn.tree import DecisionTreeClassifier\n",
    "from sklearn.ensemble import RandomForestClassifier\n",
    "from sklearn.metrics import accuracy_score\n",
    "from sklearn.cross_validation import cross_val_score\n",
    "from sklearn.cross_validation import train_test_split\n",
    "from patsy import dmatrices\n",
    "import seaborn as sns"
   ]
  },
  {
   "cell_type": "code",
   "execution_count": 2,
   "metadata": {
    "collapsed": true
   },
   "outputs": [],
   "source": [
    "os.chdir('/Users/janzaloudek/Development/Skola/umass/diabetes/jupyter/trainingSet')\n",
    "diagnosisT = pd.read_csv('training_SyncDiagnosis.csv')\n",
    "allergyT = pd.read_csv('training_SyncAllergy.csv')\n",
    "immunT = pd.read_csv('training_SyncImmunization.csv')\n",
    "labObsT = pd.read_csv('training_SyncLabObservation.csv')\n",
    "labPanT = pd.read_csv('training_SyncLabPanel.csv')\n",
    "labResT = pd.read_csv('training_SyncLabResult.csv')\n",
    "medicationT = pd.read_csv('training_SyncMedication.csv')\n",
    "patientT = pd.read_csv('training_SyncPatient.csv')\n",
    "patientCondT = pd.read_csv('training_SyncPatientCondition.csv')\n",
    "smokingT = pd.read_csv('training_SyncPatientSmokingStatus.csv')\n",
    "prescripT = pd.read_csv('training_SyncPrescription.csv')\n",
    "trnscrpT = pd.read_csv('training_SyncTranscript.csv')\n",
    "trnscrpAT = pd.read_csv('training_SyncTranscriptAllergy.csv')\n",
    "trnscrpDT = pd.read_csv('training_SyncTranscriptDiagnosis.csv')\n",
    "trnscrptMT = pd.read_csv('training_SyncTranscriptMedication.csv')\n",
    "myfileT = pd.read_csv('myfile.csv', header=None)\n",
    "conditionT = pd.read_csv('SyncCondition.csv')\n",
    "smokingT = pd.read_csv('SyncSmokingStatus.csv')"
   ]
  },
  {
   "cell_type": "markdown",
   "metadata": {},
   "source": [
    "#Section 1. Data Procession\n",
    "\n",
    "BMI, Blood Pressure, Diseases"
   ]
  },
  {
   "cell_type": "code",
   "execution_count": 3,
   "metadata": {
    "collapsed": true
   },
   "outputs": [],
   "source": [
    "def makeBMI():\n",
    "    trnscrpT['BMI'] = trnscrpT['BMI'].replace(0.000, np.nan)\n",
    "    bmi1 = trnscrpT.groupby(['PatientGuid'])['BMI'].mean()\n",
    "    bmi2 = trnscrpT.groupby(['PatientGuid'])['BMI'].max()\n",
    "    bmi3 = trnscrpT.groupby(['PatientGuid'])['BMI'].min()\n",
    "    bmi = pd.concat([bmi1, bmi2, bmi3], axis = 1)\n",
    "    bmi.columns = ['MeanBMI', 'MaxBMI', 'MinBMI']\n",
    "    bmi['isOverweight'] = 0\n",
    "    bmi['isObese'] = 0\n",
    "    bmi.loc[(bmi['MeanBMI'] >= 25) & (bmi['MeanBMI'] < 30), 'isOverweight'] = 1\n",
    "    bmi.loc[bmi['MeanBMI'] >= 30, 'isObese'] = 1\n",
    "    bmi['BMIDiff'] = np.abs(bmi['MaxBMI'] - bmi['MinBMI'])\n",
    "    bmi = bmi.reset_index()\n",
    "    return bmi"
   ]
  },
  {
   "cell_type": "code",
   "execution_count": 4,
   "metadata": {
    "collapsed": true
   },
   "outputs": [],
   "source": [
    "def makeBP():\n",
    "    bloodpressure1 = trnscrpT.groupby(['PatientGuid'])[['SystolicBP', 'DiastolicBP']].mean()\n",
    "    bloodpressure2 = trnscrpT.groupby(['PatientGuid'])[['SystolicBP', 'DiastolicBP']].max()\n",
    "    bloodpressure3 = trnscrpT.groupby(['PatientGuid'])[['SystolicBP', 'DiastolicBP']].min()\n",
    "    bloodpressure = pd.concat([bloodpressure1, bloodpressure2, bloodpressure3], axis = 1)\n",
    "    bloodpressure.columns = ['meanSystolicBP', 'meanDiastolicBP', 'maxSystolicBP', 'maxDiastolicBP', 'minSystolicBP', 'minDiastolicBP']\n",
    "    bloodpressure['SystDiff'] = np.abs(bloodpressure['maxSystolicBP'] - bloodpressure['minSystolicBP'])\n",
    "    bloodpressure['DiastDiff'] = np.abs(bloodpressure['maxDiastolicBP'] - bloodpressure['minDiastolicBP'])\n",
    "    bloodpressure['isPreHyp'] = 0\n",
    "    bloodpressure['isStage1HBP'] = 0\n",
    "    bloodpressure['isStage2HBP'] = 0\n",
    "    bloodpressure.loc[((bloodpressure['meanSystolicBP'] >= 120) & (bloodpressure['meanSystolicBP'] < 140)) | ((bloodpressure['meanDiastolicBP'] >= 80) & (bloodpressure['meanDiastolicBP'] < 90)), 'isPreHyp'] = 1\n",
    "    bloodpressure.loc[((bloodpressure['meanSystolicBP'] >= 140) & (bloodpressure['meanSystolicBP'] < 160)) | ((bloodpressure['meanDiastolicBP'] >= 90) & (bloodpressure['meanDiastolicBP'] < 100)), 'isStage1HBP'] = 1\n",
    "    bloodpressure.loc[(bloodpressure['meanSystolicBP'] >= 160) | (bloodpressure['meanDiastolicBP'] >= 100), 'isStage2HBP'] = 1\n",
    "    bloodpressure.loc[bloodpressure['isStage2HBP'] == 1, 'isStage1HBP'] = 0\n",
    "    bloodpressure.loc[bloodpressure['isStage1HBP'] == 1, 'isPreHyp'] = 0\n",
    "    bloodpressure = bloodpressure.reset_index()\n",
    "    return bloodpressure"
   ]
  },
  {
   "cell_type": "code",
   "execution_count": 5,
   "metadata": {
    "collapsed": true
   },
   "outputs": [],
   "source": [
    "def makeConditions():\n",
    "    diaganalysis = pd.merge(patientT, diagnosisT, on=['PatientGuid'])\n",
    "    chidata = diaganalysis[['PatientGuid', 'DMIndicator', 'ICD9Code']].drop_duplicates()\n",
    "    chidata.index = chidata['PatientGuid']\n",
    "    dummies = pd.get_dummies(chidata['ICD9Code']).reset_index()\n",
    "    dummies = dummies.groupby(['PatientGuid'])[dummies.columns[1:]].sum()\n",
    "    dummies = dummies.replace(2, 1)\n",
    "    chidata = chidata[['PatientGuid', 'DMIndicator']]\n",
    "    chidata = chidata.drop_duplicates()\n",
    "    chidata = pd.concat([chidata, dummies], axis=1)\n",
    "    chidata['DMIndicator'] = chidata['DMIndicator'].astype(float)\n",
    "    return chidata"
   ]
  },
  {
   "cell_type": "code",
   "execution_count": 6,
   "metadata": {
    "collapsed": true
   },
   "outputs": [],
   "source": [
    "def heartDisease(text):\n",
    "    if bool(re.match('41[0-4]|42[0-5]|427|429|74[5-6]', text)) == True:\n",
    "        return 1\n",
    "    return 0\n",
    "def CAD(text):\n",
    "    if bool(re.match('41[0-4]|429', text)) == True:\n",
    "        return 1\n",
    "    return 0\n",
    "def cardiomyopathy(text):\n",
    "    if bool(re.match('42[0-5]', text)) == True:\n",
    "        return 1\n",
    "    return 0\n",
    "def CHF(text):\n",
    "    if bool(re.match('426', text)) == True:\n",
    "        return 1\n",
    "    return 0\n",
    "def arrhythmias(text):\n",
    "    if bool(re.match('427', text)) == True:\n",
    "        return 1\n",
    "    return 0\n",
    "def heartdefects(text):\n",
    "    if bool(re.match('74[5-6]', text)) == True:\n",
    "        return 1\n",
    "    return 0\n",
    "def stroke(text):\n",
    "    if bool(re.match('43[0-1]|43[3-6]|997.02', text)) == True:\n",
    "        return 1\n",
    "    return 0\n",
    "def sleepApnea(text):\n",
    "    if bool(re.match('727.23|780.57', text)) == True:\n",
    "        return 1\n",
    "    return 0\n",
    "def gestDiab(text):\n",
    "    if bool(re.match('648.8', text)) == True:\n",
    "        return 1\n",
    "    return 0\n",
    "def polyOvary(text):\n",
    "    if bool(re.match('256.4', text)) == True:\n",
    "        return 1\n",
    "    return 0\n",
    "def frozenShoulder(text):\n",
    "    if bool(re.match('726.0', text)) == True:\n",
    "        return 1\n",
    "    return 0\n",
    "def hemochr(text):\n",
    "    if bool(re.match('275.03', text)) == True:\n",
    "        return 1\n",
    "    return 0\n",
    "def hepatitis(text):\n",
    "    if bool(re.match('070.2|070.3', text)) == True:\n",
    "        return 1\n",
    "    return 0\n",
    "def diabCompl(text):\n",
    "    if bool(re.match('250.[1-3]|250.5|250.8|251.[0-2]|270.3|775.6|962.3', text)) == True:\n",
    "        return 1\n",
    "    return 0\n",
    "def kidneyFailure(text):\n",
    "    if bool(re.match('58[4-5]', text)) == True:\n",
    "        return 1\n",
    "    return 0\n",
    "def dementia(text):\n",
    "    if bool(re.match('331|290|294|797', text)) == True:\n",
    "        return 1\n",
    "    return 0\n",
    "def acanthosis(text):\n",
    "    if bool(re.match('701.2', text)) == True:\n",
    "        return 1\n",
    "    return 0\n",
    "def blindness(text):\n",
    "    if bool(re.match('369', text)) == True:\n",
    "        return 1\n",
    "    return 0\n",
    "def sDysfunction(text):\n",
    "    if bool(re.match('302.7', text)) == True:\n",
    "        return 1\n",
    "    return 0\n",
    "def preDiabetes(text):\n",
    "    if bool(re.match('790.29', text)) == True:\n",
    "        return 1\n",
    "    return 0"
   ]
  },
  {
   "cell_type": "code",
   "execution_count": 7,
   "metadata": {
    "collapsed": true
   },
   "outputs": [],
   "source": [
    "def ICD9Label(text):\n",
    "    if bool(re.match('14[0-9]|2[0-3][0-9]', text)) == True:\n",
    "        return 'neoplasms'\n",
    "    elif bool(re.match('2[4-7][0-9]', text)) == True:\n",
    "        return 'endoctrine'\n",
    "    elif bool(re.match('28[0-9]', text)) == True:\n",
    "        return 'blood'\n",
    "    elif bool(re.match('29[0-9]|3[0-1][0-9]', text)) == True:\n",
    "        return 'mental'\n",
    "    elif bool(re.match('3[2-5][0-9]', text)) == True:\n",
    "        return 'nervous'\n",
    "    elif bool(re.match('3[6-8][0-9]', text)) == True:\n",
    "        return 'sense'\n",
    "    elif bool(re.match('39[0-9]|4[0-5][0-9]', text)) == True:\n",
    "        return 'circulatory'\n",
    "    elif bool(re.match('4[6-9][0-9]|5[0-1][0-9]', text)) == True:\n",
    "        return 'respiratory'\n",
    "    elif bool(re.match('5[2-7][0-9]', text)) == True:\n",
    "        return 'digestive'\n",
    "    elif bool(re.match('5[8-9][0-9]|6[0-2][0-9]', text)) == True:\n",
    "        return 'genitourinary'\n",
    "    elif bool(re.match('6[3-7][0-9]', text)) == True:\n",
    "        return 'pregnancy'    \n",
    "    elif bool(re.match('6[8-9][0-9]|70[0-9]', text)) == True:\n",
    "        return 'skin'   \n",
    "    elif bool(re.match('7[1-3][0-9]', text)) == True:\n",
    "        return 'musculoskeletal'       \n",
    "    elif bool(re.match('7[4-5][0-9]', text)) == True:\n",
    "        return 'congenital' \n",
    "    elif bool(re.match('7[6-7][0-9]', text)) == True:\n",
    "        return 'perinatal' \n",
    "    elif bool(re.match('7[8-9][0-9]', text)) == True:\n",
    "        return 'symptoms or ill-defined' \n",
    "    elif bool(re.match('8[0-9][0-9]|9[0-9][0-9]', text)) == True:\n",
    "        return 'injuries' \n",
    "    elif bool(re.match('E|V', text)) == True:\n",
    "        return 'suppl' \n",
    "    else:\n",
    "        return 'infectious'"
   ]
  },
  {
   "cell_type": "code",
   "execution_count": 8,
   "metadata": {
    "collapsed": true
   },
   "outputs": [],
   "source": [
    "def stripPeriods(text):\n",
    "    result = re.sub('\\.', \"\", text)\n",
    "    return result"
   ]
  },
  {
   "cell_type": "code",
   "execution_count": 9,
   "metadata": {
    "collapsed": true
   },
   "outputs": [],
   "source": [
    "def makeSpecials():\n",
    "    data = diagnosisT.copy()\n",
    "    data['ICD9'] = data['ICD9Code'].apply(stripPeriods)\n",
    "    data['hasHeartDisease'] = data['ICD9Code'].apply(heartDisease)\n",
    "    data['hasCAD'] = data['ICD9Code'].apply(CAD)\n",
    "    data['hasCardiomyo'] = data['ICD9Code'].apply(cardiomyopathy)\n",
    "    data['hasArrhy'] = data['ICD9Code'].apply(arrhythmias)\n",
    "    data['hasHeartDefects'] = data['ICD9Code'].apply(heartdefects)\n",
    "    data['hasCHF'] = data['ICD9Code'].apply(CHF)\n",
    "    data['hasStroke'] = data['ICD9Code'].apply(stroke)\n",
    "    data['hasSleepA'] = data['ICD9Code'].apply(sleepApnea)\n",
    "    data['hasGestDiab'] = data['ICD9Code'].apply(gestDiab)\n",
    "    data['hasPolyO'] = data['ICD9Code'].apply(polyOvary)\n",
    "    data['hasFrozenShoulder'] = data['ICD9Code'].apply(frozenShoulder)\n",
    "    data['hasHemoChr'] = data['ICD9Code'].apply(hemochr)\n",
    "    data['hasHepatitis'] = data['ICD9Code'].apply(hepatitis)\n",
    "    data['hasDiabComp'] = data['ICD9Code'].apply(diabCompl)\n",
    "    data['hasKidneyF'] = data['ICD9Code'].apply(kidneyFailure)\n",
    "    data['hasDementia'] = data['ICD9Code'].apply(dementia)\n",
    "    data['hasAcanthosis'] = data['ICD9Code'].apply(acanthosis)\n",
    "    data['hasBlindness'] = data['ICD9Code'].apply(blindness)\n",
    "    data['hasSDysf'] = data['ICD9Code'].apply(sDysfunction)\n",
    "    data['hasPreDiab'] = data['ICD9Code'].apply(preDiabetes)\n",
    "    diagnosisSummary = data.groupby(['PatientGuid'])[['hasHeartDisease', 'hasCHF', 'hasStroke', 'hasSleepA', 'hasGestDiab','hasPolyO', 'hasFrozenShoulder', 'hasHemoChr','hasHepatitis', 'hasDiabComp', 'hasKidneyF', 'hasDementia','hasAcanthosis', 'hasBlindness' ,'hasSDysf', 'hasPreDiab']].max()\n",
    "    diagnosisSummary = diagnosisSummary.reset_index()\n",
    "    return diagnosisSummary"
   ]
  },
  {
   "cell_type": "code",
   "execution_count": 10,
   "metadata": {
    "collapsed": true
   },
   "outputs": [],
   "source": [
    "def getPatientAge():\n",
    "    data=patientT.copy()\n",
    "    data.drop('PracticeGuid', axis=1, inplace=True)\n",
    "    data.drop('State', axis=1, inplace=True)\n",
    "    data['Age'] = 2015 - data['YearOfBirth']\n",
    "    data.drop('YearOfBirth', axis=1, inplace=True)\n",
    "    return data"
   ]
  },
  {
   "cell_type": "code",
   "execution_count": 11,
   "metadata": {
    "collapsed": true
   },
   "outputs": [],
   "source": [
    "def makeICD9Labels():\n",
    "    data = diagnosisT.copy()\n",
    "    data['ICD9Label'] = data['ICD9Code'].apply(ICD9Label)\n",
    "    data['Counts'] = 1\n",
    "    ICD9Labeldata = data.groupby(['PatientGuid', 'ICD9Label'])['Counts'].max().reset_index().pivot('PatientGuid', 'ICD9Label', 'Counts').reset_index()\n",
    "    ICD9Labeldata = ICD9Labeldata.fillna(0)\n",
    "    return ICD9Labeldata"
   ]
  },
  {
   "cell_type": "code",
   "execution_count": 12,
   "metadata": {
    "collapsed": false
   },
   "outputs": [],
   "source": [
    "bloodpressure = makeBP()\n",
    "bmi = makeBMI()\n",
    "conditions = makeConditions()\n",
    "specials = makeSpecials()\n",
    "patients = getPatientAge()\n",
    "icd9lab = makeICD9Labels()"
   ]
  },
  {
   "cell_type": "code",
   "execution_count": 13,
   "metadata": {
    "collapsed": false
   },
   "outputs": [],
   "source": [
    "def makeSimilarity():\n",
    "    columns = conditions.columns[2:]\n",
    "    chitest = {}\n",
    "    cmatrix = {}\n",
    "    cos = {}\n",
    "    percent = {}\n",
    "    for column in columns:\n",
    "        cm = confusion_matrix(np.array(conditions['DMIndicator']), np.array(conditions[column]))\n",
    "        cmatrix[column] = cm\n",
    "        chitest[column]= scs.chi2_contingency(cm)[1]\n",
    "        cos[column] = 1 - spatial.distance.cosine(conditions['DMIndicator'], conditions[column])\n",
    "        percent[column] = float(cm[1][1])/(float(cm[0][1]) + float(cm[1][1]))\n",
    "    return cos, chitest, cmatrix, percent"
   ]
  },
  {
   "cell_type": "code",
   "execution_count": 14,
   "metadata": {
    "collapsed": false
   },
   "outputs": [],
   "source": [
    "cos = makeSimilarity()[0]"
   ]
  },
  {
   "cell_type": "code",
   "execution_count": 15,
   "metadata": {
    "collapsed": false
   },
   "outputs": [],
   "source": [
    "def getICD9(threshold=0.02):\n",
    "    ICD9 = []\n",
    "    for key in cos.keys():\n",
    "        if cos[key] > threshold:\n",
    "            ICD9.append(key)\n",
    "    return ICD9"
   ]
  },
  {
   "cell_type": "code",
   "execution_count": 16,
   "metadata": {
    "collapsed": false
   },
   "outputs": [
    {
     "name": "stdout",
     "output_type": "stream",
     "text": [
      "(9948, 12) (9948, 7) (9948, 17) (9948, 4) (9948, 3945) (9948, 20)\n"
     ]
    }
   ],
   "source": [
    "print(bloodpressure.shape, bmi.shape, specials.shape, patients.shape, conditions.shape, icd9lab.shape)"
   ]
  },
  {
   "cell_type": "code",
   "execution_count": 17,
   "metadata": {
    "collapsed": true
   },
   "outputs": [],
   "source": [
    "import sys\n",
    "sys.setrecursionlimit(10000)"
   ]
  },
  {
   "cell_type": "code",
   "execution_count": 18,
   "metadata": {
    "collapsed": false
   },
   "outputs": [],
   "source": [
    "def optimizer():\n",
    "    AUC = []\n",
    "    threshold = []\n",
    "        \n",
    "    for i in list(np.arange(0.01, max(cos.values()), 0.01)):\n",
    "        #piece together the datasets\n",
    "        ICD9 = getICD9(i)\n",
    "        newconditions = pd.concat([conditions['PatientGuid'], conditions[ICD9]], axis=1)\n",
    "        patientdata = pd.merge(patients, newconditions, how='inner', on =['PatientGuid'])\n",
    "        patientdata = pd.merge(patientdata, specials, how='inner', on =['PatientGuid'])\n",
    "        patientdata = pd.merge(patientdata, icd9lab, how='inner', on =['PatientGuid'])\n",
    "        patientdata = pd.merge(patientdata, bloodpressure, how='inner', on =['PatientGuid'])\n",
    "        patientdata = pd.merge(patientdata, bmi, how='inner', on =['PatientGuid'])\n",
    "\n",
    "        #create model variables\n",
    "        modelelements = '\") + Q(\"'.join(patientdata.columns[2:])\n",
    "        modelelements = 'Q(\"' + modelelements + '\")'\n",
    "        formula = 'DMIndicator ~ ' + modelelements\n",
    "        y, X = dmatrices(formula, data=patientdata, return_type='dataframe')\n",
    "        X = X.drop('Intercept', 1)\n",
    "\n",
    "        #setting up test train split\n",
    "        X_train, X_test, y_train, y_test = train_test_split(X, y, test_size=0.2, random_state=46)\n",
    "        X_train = np.array(X_train)\n",
    "        X_test = np.array(X_test)\n",
    "        y_train = np.array(y_train).ravel()\n",
    "        y_test = np.array(y_test).ravel()\n",
    "    \n",
    "        #run logistic regression\n",
    "        n_samples = X_train.shape[0]\n",
    "        model1 = LogisticRegression()\n",
    "        model1.fit(X_train, y_train)\n",
    "        y_pred_proba = model1.predict_proba(X_test)\n",
    "        #cv = sklearn.cross_validation.ShuffleSplit(n_samples, n_iter=20, test_size=0.2, random_state=1)\n",
    "        #logloss = sklearn.cross_validation.cross_val_score(model1, X_train, y_train, cv=cv, scoring='log_loss')\n",
    "        #mlogloss = -logloss.mean()\n",
    "        fpr, tpr, _ = sklearn.metrics.roc_curve(y_test, y_pred_proba[:,1])\n",
    "        auc = sklearn.metrics.auc(fpr, tpr)\n",
    "        #logloss = sklearn.metrics.log_loss(y_test, y_pred_proba[:,1])\n",
    "        \n",
    "        threshold.append(i)\n",
    "        AUC.append(auc)\n",
    "        \n",
    "    return threshold, AUC"
   ]
  },
  {
   "cell_type": "code",
   "execution_count": 19,
   "metadata": {
    "collapsed": false
   },
   "outputs": [],
   "source": [
    "threshold, AUC = optimizer()"
   ]
  },
  {
   "cell_type": "code",
   "execution_count": 20,
   "metadata": {
    "collapsed": false
   },
   "outputs": [
    {
     "data": {
      "text/plain": [
       "0.080000000000000002"
      ]
     },
     "execution_count": 20,
     "metadata": {},
     "output_type": "execute_result"
    }
   ],
   "source": [
    "bestthreshold = threshold[AUC.index(max(AUC))]\n",
    "bestthreshold"
   ]
  },
  {
   "cell_type": "code",
   "execution_count": 21,
   "metadata": {
    "collapsed": false
   },
   "outputs": [
    {
     "data": {
      "image/png": "[encoded data removed]",
      "text/plain": [
       "<matplotlib.figure.Figure at 0x11488a438>"
      ]
     },
     "metadata": {},
     "output_type": "display_data"
    }
   ],
   "source": [
    "%matplotlib inline\n",
    "matplotlib.style.use('ggplot')\n",
    "plt.plot(threshold, AUC)\n",
    "plt.show()"
   ]
  },
  {
   "cell_type": "code",
   "execution_count": 22,
   "metadata": {
    "collapsed": true
   },
   "outputs": [],
   "source": [
    "def makeData(threshold = 0.0001):\n",
    "    ICD9 = getICD9(threshold)\n",
    "    newconditions = pd.concat([conditions['PatientGuid'], conditions[ICD9]], axis=1)\n",
    "    patientdata = pd.merge(patients, newconditions, how='inner', on =['PatientGuid'])\n",
    "    patientdata = pd.merge(patientdata, specials, how='inner', on =['PatientGuid'])\n",
    "    patientdata = pd.merge(patientdata, icd9lab, how='inner', on =['PatientGuid'])\n",
    "    patientdata = pd.merge(patientdata, bloodpressure, how='inner', on =['PatientGuid'])\n",
    "    patientdata = pd.merge(patientdata, bmi, how='inner', on =['PatientGuid'])\n",
    "\n",
    "    #create model variables\n",
    "    modelelements = '\") + Q(\"'.join(patientdata.columns[2:])\n",
    "    modelelements = 'Q(\"' + modelelements + '\")'\n",
    "    formula = 'DMIndicator ~ ' + modelelements\n",
    "    y, X = dmatrices(formula, data=patientdata, return_type='dataframe')\n",
    "    X = X.drop('Intercept', 1)\n",
    "#     print(str(patientdata.columns))\n",
    "#     print(str(patientdata.columns[2:]))\n",
    "#     print(str(y))\n",
    "#     print(str(X))\n",
    "    print(X.shape)\n",
    "    print(y.shape)\n",
    "\n",
    "    #setting up test train split\n",
    "    X_train, X_test, y_train, y_test = train_test_split(X, y, test_size=0.2, random_state=46)\n",
    "    X_train = np.array(X_train)\n",
    "    X_test = np.array(X_test)\n",
    "    y_train = np.array(y_train).ravel()\n",
    "    y_test = np.array(y_test).ravel()\n",
    "    \n",
    "    return X_train, y_train, X_test, y_test"
   ]
  },
  {
   "cell_type": "code",
   "execution_count": 23,
   "metadata": {
    "collapsed": false
   },
   "outputs": [
    {
     "name": "stdout",
     "output_type": "stream",
     "text": [
      "(9947, 2324)\n",
      "(9947, 1)\n"
     ]
    }
   ],
   "source": [
    "X_train, y_train, X_test, y_test = makeData()"
   ]
  },
  {
   "cell_type": "markdown",
   "metadata": {},
   "source": [
    "Accuracy: Training (CV)"
   ]
  },
  {
   "cell_type": "code",
   "execution_count": 24,
   "metadata": {
    "collapsed": false
   },
   "outputs": [
    {
     "name": "stdout",
     "output_type": "stream",
     "text": [
      "0.816415410385\n"
     ]
    }
   ],
   "source": [
    "n_samples = X_train.shape[0]\n",
    "model1 = LogisticRegression()\n",
    "cv = sklearn.cross_validation.ShuffleSplit(n_samples, n_iter=10, test_size=0.3, random_state=1)\n",
    "scores = sklearn.cross_validation.cross_val_score(model1, X_train, y_train, cv=cv)\n",
    "print(scores.mean())"
   ]
  },
  {
   "cell_type": "markdown",
   "metadata": {},
   "source": [
    "Accuracy: Test"
   ]
  },
  {
   "cell_type": "code",
   "execution_count": 25,
   "metadata": {
    "collapsed": false
   },
   "outputs": [
    {
     "data": {
      "text/plain": [
       "0.82462311557788948"
      ]
     },
     "execution_count": 25,
     "metadata": {},
     "output_type": "execute_result"
    }
   ],
   "source": [
    "model1.fit(X_train, y_train)\n",
    "model1.score(X_test, y_test)"
   ]
  },
  {
   "cell_type": "code",
   "execution_count": 26,
   "metadata": {
    "collapsed": false
   },
   "outputs": [
    {
     "data": {
      "text/plain": [
       "<matplotlib.axes._subplots.AxesSubplot at 0x11828ff98>"
      ]
     },
     "execution_count": 26,
     "metadata": {},
     "output_type": "execute_result"
    },
    {
     "data": {
      "image/png": "[encoded data removed]",
      "text/plain": [
       "<matplotlib.figure.Figure at 0x11c7ffac8>"
      ]
     },
     "metadata": {},
     "output_type": "display_data"
    }
   ],
   "source": [
    "y_pred = model1.predict(X_test)\n",
    "cm = confusion_matrix(y_test, y_pred)\n",
    "labelname = model1.classes_\n",
    "sns.heatmap(cm, annot=True,  fmt='', xticklabels=labelname, yticklabels=labelname)"
   ]
  },
  {
   "cell_type": "markdown",
   "metadata": {},
   "source": [
    "Classification Report"
   ]
  },
  {
   "cell_type": "code",
   "execution_count": 27,
   "metadata": {
    "collapsed": false
   },
   "outputs": [
    {
     "name": "stdout",
     "output_type": "stream",
     "text": [
      "             precision    recall  f1-score   support\n",
      "\n",
      "        0.0       0.85      0.95      0.90      1603\n",
      "        1.0       0.60      0.30      0.40       387\n",
      "\n",
      "avg / total       0.80      0.82      0.80      1990\n",
      "\n"
     ]
    }
   ],
   "source": [
    "report = classification_report(y_test.ravel(), y_pred)\n",
    "print(report)"
   ]
  },
  {
   "cell_type": "markdown",
   "metadata": {},
   "source": [
    "ROC"
   ]
  },
  {
   "cell_type": "code",
   "execution_count": 28,
   "metadata": {
    "collapsed": false
   },
   "outputs": [
    {
     "data": {
      "text/plain": [
       "<matplotlib.legend.Legend at 0x11c7ff358>"
      ]
     },
     "execution_count": 28,
     "metadata": {},
     "output_type": "execute_result"
    },
    {
     "data": {
      "image/png": "[encoded data removed]",
      "text/plain": [
       "<matplotlib.figure.Figure at 0x11c7ff2e8>"
      ]
     },
     "metadata": {},
     "output_type": "display_data"
    }
   ],
   "source": [
    "y_pred_proba = model1.predict_proba(X_test)\n",
    "fpr, tpr, _ = sklearn.metrics.roc_curve(y_test, y_pred_proba[:,1])\n",
    "roc_rates = [fpr, tpr]\n",
    "auc = sklearn.metrics.auc(fpr, tpr)\n",
    "plt.title(\"Logistic Regression\", fontsize = 20)\n",
    "plt.xlabel(\"False positive rate\")\n",
    "plt.ylabel(\"True positive rate\")\n",
    "labelname = \"Logistic Regression\" + \", (area = %0.4f)\" % auc\n",
    "plt.plot(roc_rates[0], roc_rates[1], linewidth = 2, label = labelname)\n",
    "plt.legend(loc = 4)"
   ]
  },
  {
   "cell_type": "markdown",
   "metadata": {},
   "source": [
    "Log Loss: Testing"
   ]
  },
  {
   "cell_type": "code",
   "execution_count": 29,
   "metadata": {
    "collapsed": false
   },
   "outputs": [
    {
     "data": {
      "text/plain": [
       "0.37902851212998018"
      ]
     },
     "execution_count": 29,
     "metadata": {},
     "output_type": "execute_result"
    }
   ],
   "source": [
    "sklearn.metrics.log_loss(y_test, y_pred_proba[:,1])"
   ]
  },
  {
   "cell_type": "code",
   "execution_count": 46,
   "metadata": {
    "collapsed": false
   },
   "outputs": [],
   "source": [
    "from sklearn.preprocessing import normalize\n",
    "from keras.utils import to_categorical\n",
    "X_train.shape\n",
    "X_train_norm = normalize(X_train)\n",
    "y_train_norm = to_categorical(y_train, num_classes=2)"
   ]
  },
  {
   "cell_type": "code",
   "execution_count": 47,
   "metadata": {
    "collapsed": false
   },
   "outputs": [
    {
     "ename": "ValueError",
     "evalue": "Error when checking model target: expected activation_40 to have shape (None, 1) but got array with shape (7957, 2)",
     "output_type": "error",
     "traceback": [
      "\u001b[0;31m---------------------------------------------------------------------------\u001b[0m",
      "\u001b[0;31mValueError\u001b[0m                                Traceback (most recent call last)",
      "\u001b[0;32m<ipython-input-47-1ae2c7d95a61>\u001b[0m in \u001b[0;36m<module>\u001b[0;34m()\u001b[0m\n\u001b[1;32m     17\u001b[0m               metrics=['accuracy', 'binary_accuracy'])\n\u001b[1;32m     18\u001b[0m \u001b[0;34m\u001b[0m\u001b[0m\n\u001b[0;32m---> 19\u001b[0;31m \u001b[0mnn_history\u001b[0m \u001b[0;34m=\u001b[0m \u001b[0mmodel\u001b[0m\u001b[0;34m.\u001b[0m\u001b[0mfit\u001b[0m\u001b[0;34m(\u001b[0m\u001b[0mX_train_norm\u001b[0m\u001b[0;34m,\u001b[0m \u001b[0my_train_norm\u001b[0m\u001b[0;34m,\u001b[0m \u001b[0mepochs\u001b[0m\u001b[0;34m=\u001b[0m\u001b[0;36m60\u001b[0m\u001b[0;34m,\u001b[0m \u001b[0mbatch_size\u001b[0m\u001b[0;34m=\u001b[0m\u001b[0;36m32\u001b[0m\u001b[0;34m,\u001b[0m \u001b[0mverbose\u001b[0m\u001b[0;34m=\u001b[0m\u001b[0;36m2\u001b[0m\u001b[0;34m)\u001b[0m\u001b[0;34m\u001b[0m\u001b[0m\n\u001b[0m",
      "\u001b[0;32m/Users/janzaloudek/anaconda/lib/python3.6/site-packages/keras/models.py\u001b[0m in \u001b[0;36mfit\u001b[0;34m(self, x, y, batch_size, epochs, verbose, callbacks, validation_split, validation_data, shuffle, class_weight, sample_weight, initial_epoch, **kwargs)\u001b[0m\n\u001b[1;32m    843\u001b[0m                               \u001b[0mclass_weight\u001b[0m\u001b[0;34m=\u001b[0m\u001b[0mclass_weight\u001b[0m\u001b[0;34m,\u001b[0m\u001b[0;34m\u001b[0m\u001b[0m\n\u001b[1;32m    844\u001b[0m                               \u001b[0msample_weight\u001b[0m\u001b[0;34m=\u001b[0m\u001b[0msample_weight\u001b[0m\u001b[0;34m,\u001b[0m\u001b[0;34m\u001b[0m\u001b[0m\n\u001b[0;32m--> 845\u001b[0;31m                               initial_epoch=initial_epoch)\n\u001b[0m\u001b[1;32m    846\u001b[0m \u001b[0;34m\u001b[0m\u001b[0m\n\u001b[1;32m    847\u001b[0m     def evaluate(self, x, y, batch_size=32, verbose=1,\n",
      "\u001b[0;32m/Users/janzaloudek/anaconda/lib/python3.6/site-packages/keras/engine/training.py\u001b[0m in \u001b[0;36mfit\u001b[0;34m(self, x, y, batch_size, epochs, verbose, callbacks, validation_split, validation_data, shuffle, class_weight, sample_weight, initial_epoch, **kwargs)\u001b[0m\n\u001b[1;32m   1403\u001b[0m             \u001b[0mclass_weight\u001b[0m\u001b[0;34m=\u001b[0m\u001b[0mclass_weight\u001b[0m\u001b[0;34m,\u001b[0m\u001b[0;34m\u001b[0m\u001b[0m\n\u001b[1;32m   1404\u001b[0m             \u001b[0mcheck_batch_axis\u001b[0m\u001b[0;34m=\u001b[0m\u001b[0;32mFalse\u001b[0m\u001b[0;34m,\u001b[0m\u001b[0;34m\u001b[0m\u001b[0m\n\u001b[0;32m-> 1405\u001b[0;31m             batch_size=batch_size)\n\u001b[0m\u001b[1;32m   1406\u001b[0m         \u001b[0;31m# prepare validation data\u001b[0m\u001b[0;34m\u001b[0m\u001b[0;34m\u001b[0m\u001b[0m\n\u001b[1;32m   1407\u001b[0m         \u001b[0;32mif\u001b[0m \u001b[0mvalidation_data\u001b[0m\u001b[0;34m:\u001b[0m\u001b[0;34m\u001b[0m\u001b[0m\n",
      "\u001b[0;32m/Users/janzaloudek/anaconda/lib/python3.6/site-packages/keras/engine/training.py\u001b[0m in \u001b[0;36m_standardize_user_data\u001b[0;34m(self, x, y, sample_weight, class_weight, check_batch_axis, batch_size)\u001b[0m\n\u001b[1;32m   1297\u001b[0m                                     \u001b[0moutput_shapes\u001b[0m\u001b[0;34m,\u001b[0m\u001b[0;34m\u001b[0m\u001b[0m\n\u001b[1;32m   1298\u001b[0m                                     \u001b[0mcheck_batch_axis\u001b[0m\u001b[0;34m=\u001b[0m\u001b[0;32mFalse\u001b[0m\u001b[0;34m,\u001b[0m\u001b[0;34m\u001b[0m\u001b[0m\n\u001b[0;32m-> 1299\u001b[0;31m                                     exception_prefix='model target')\n\u001b[0m\u001b[1;32m   1300\u001b[0m         sample_weights = _standardize_sample_weights(sample_weight,\n\u001b[1;32m   1301\u001b[0m                                                      self._feed_output_names)\n",
      "\u001b[0;32m/Users/janzaloudek/anaconda/lib/python3.6/site-packages/keras/engine/training.py\u001b[0m in \u001b[0;36m_standardize_input_data\u001b[0;34m(data, names, shapes, check_batch_axis, exception_prefix)\u001b[0m\n\u001b[1;32m    131\u001b[0m                             \u001b[0;34m' to have shape '\u001b[0m \u001b[0;34m+\u001b[0m \u001b[0mstr\u001b[0m\u001b[0;34m(\u001b[0m\u001b[0mshapes\u001b[0m\u001b[0;34m[\u001b[0m\u001b[0mi\u001b[0m\u001b[0;34m]\u001b[0m\u001b[0;34m)\u001b[0m \u001b[0;34m+\u001b[0m\u001b[0;34m\u001b[0m\u001b[0m\n\u001b[1;32m    132\u001b[0m                             \u001b[0;34m' but got array with shape '\u001b[0m \u001b[0;34m+\u001b[0m\u001b[0;34m\u001b[0m\u001b[0m\n\u001b[0;32m--> 133\u001b[0;31m                             str(array.shape))\n\u001b[0m\u001b[1;32m    134\u001b[0m     \u001b[0;32mreturn\u001b[0m \u001b[0marrays\u001b[0m\u001b[0;34m\u001b[0m\u001b[0m\n\u001b[1;32m    135\u001b[0m \u001b[0;34m\u001b[0m\u001b[0m\n",
      "\u001b[0;31mValueError\u001b[0m: Error when checking model target: expected activation_40 to have shape (None, 1) but got array with shape (7957, 2)"
     ]
    }
   ],
   "source": [
    "from keras.models import Sequential\n",
    "from keras.layers import Dense, Activation\n",
    "\n",
    "model = Sequential([\n",
    "    Dense(32, input_dim=2324),\n",
    "    Activation('relu'),\n",
    "    Dense(16),\n",
    "    Activation('relu'),\n",
    "    Dense(3),\n",
    "    Activation('relu'),\n",
    "    Dense(2),\n",
    "    Activation('softmax')\n",
    "])\n",
    "\n",
    "model.compile(optimizer='rmsprop',\n",
    "              loss='binary_crossentropy',\n",
    "              metrics=['accuracy', 'binary_accuracy'])\n",
    "\n",
    "nn_history = model.fit(X_train_norm, y_train_norm, epochs=60, batch_size=32, verbose=2)"
   ]
  },
  {
   "cell_type": "markdown",
   "metadata": {},
   "source": [
    "##### Logistic Regression with RFECV"
   ]
  },
  {
   "cell_type": "code",
   "execution_count": 40,
   "metadata": {
    "collapsed": false
   },
   "outputs": [
    {
     "ename": "KeyboardInterrupt",
     "evalue": "",
     "output_type": "error",
     "traceback": [
      "\u001b[0;31m---------------------------------------------------------------------------\u001b[0m",
      "\u001b[0;31mKeyboardInterrupt\u001b[0m                         Traceback (most recent call last)",
      "\u001b[0;32m<ipython-input-40-a5f9cd8e107b>\u001b[0m in \u001b[0;36m<module>\u001b[0;34m()\u001b[0m\n\u001b[1;32m      1\u001b[0m \u001b[0mrfecv\u001b[0m \u001b[0;34m=\u001b[0m \u001b[0msklearn\u001b[0m\u001b[0;34m.\u001b[0m\u001b[0mfeature_selection\u001b[0m\u001b[0;34m.\u001b[0m\u001b[0mRFECV\u001b[0m\u001b[0;34m(\u001b[0m\u001b[0mestimator\u001b[0m\u001b[0;34m=\u001b[0m\u001b[0mmodel1\u001b[0m\u001b[0;34m,\u001b[0m \u001b[0mstep\u001b[0m\u001b[0;34m=\u001b[0m\u001b[0;36m1\u001b[0m\u001b[0;34m,\u001b[0m \u001b[0mcv\u001b[0m\u001b[0;34m=\u001b[0m\u001b[0mcv\u001b[0m\u001b[0;34m,\u001b[0m \u001b[0mscoring\u001b[0m\u001b[0;34m=\u001b[0m\u001b[0;34m'recall'\u001b[0m\u001b[0;34m)\u001b[0m\u001b[0;34m\u001b[0m\u001b[0m\n\u001b[0;32m----> 2\u001b[0;31m \u001b[0mrfecv\u001b[0m\u001b[0;34m.\u001b[0m\u001b[0mfit\u001b[0m\u001b[0;34m(\u001b[0m\u001b[0mX_train\u001b[0m\u001b[0;34m,\u001b[0m \u001b[0my_train\u001b[0m\u001b[0;34m.\u001b[0m\u001b[0mravel\u001b[0m\u001b[0;34m(\u001b[0m\u001b[0;34m)\u001b[0m\u001b[0;34m)\u001b[0m\u001b[0;34m\u001b[0m\u001b[0m\n\u001b[0m\u001b[1;32m      3\u001b[0m \u001b[0mrfecv\u001b[0m\u001b[0;34m.\u001b[0m\u001b[0mscore\u001b[0m\u001b[0;34m(\u001b[0m\u001b[0mX_test\u001b[0m\u001b[0;34m,\u001b[0m \u001b[0my_test\u001b[0m\u001b[0;34m.\u001b[0m\u001b[0mravel\u001b[0m\u001b[0;34m(\u001b[0m\u001b[0;34m)\u001b[0m\u001b[0;34m)\u001b[0m\u001b[0;34m\u001b[0m\u001b[0m\n",
      "\u001b[0;32m/Users/janzaloudek/anaconda/lib/python3.6/site-packages/sklearn/feature_selection/rfe.py\u001b[0m in \u001b[0;36mfit\u001b[0;34m(self, X, y)\u001b[0m\n\u001b[1;32m    428\u001b[0m         scores = parallel(\n\u001b[1;32m    429\u001b[0m             \u001b[0mfunc\u001b[0m\u001b[0;34m(\u001b[0m\u001b[0mrfe\u001b[0m\u001b[0;34m,\u001b[0m \u001b[0mself\u001b[0m\u001b[0;34m.\u001b[0m\u001b[0mestimator\u001b[0m\u001b[0;34m,\u001b[0m \u001b[0mX\u001b[0m\u001b[0;34m,\u001b[0m \u001b[0my\u001b[0m\u001b[0;34m,\u001b[0m \u001b[0mtrain\u001b[0m\u001b[0;34m,\u001b[0m \u001b[0mtest\u001b[0m\u001b[0;34m,\u001b[0m \u001b[0mscorer\u001b[0m\u001b[0;34m)\u001b[0m\u001b[0;34m\u001b[0m\u001b[0m\n\u001b[0;32m--> 430\u001b[0;31m             for train, test in cv.split(X, y))\n\u001b[0m\u001b[1;32m    431\u001b[0m \u001b[0;34m\u001b[0m\u001b[0m\n\u001b[1;32m    432\u001b[0m         \u001b[0mscores\u001b[0m \u001b[0;34m=\u001b[0m \u001b[0mnp\u001b[0m\u001b[0;34m.\u001b[0m\u001b[0msum\u001b[0m\u001b[0;34m(\u001b[0m\u001b[0mscores\u001b[0m\u001b[0;34m,\u001b[0m \u001b[0maxis\u001b[0m\u001b[0;34m=\u001b[0m\u001b[0;36m0\u001b[0m\u001b[0;34m)\u001b[0m\u001b[0;34m\u001b[0m\u001b[0m\n",
      "\u001b[0;32m/Users/janzaloudek/anaconda/lib/python3.6/site-packages/sklearn/feature_selection/rfe.py\u001b[0m in \u001b[0;36m<genexpr>\u001b[0;34m(.0)\u001b[0m\n\u001b[1;32m    428\u001b[0m         scores = parallel(\n\u001b[1;32m    429\u001b[0m             \u001b[0mfunc\u001b[0m\u001b[0;34m(\u001b[0m\u001b[0mrfe\u001b[0m\u001b[0;34m,\u001b[0m \u001b[0mself\u001b[0m\u001b[0;34m.\u001b[0m\u001b[0mestimator\u001b[0m\u001b[0;34m,\u001b[0m \u001b[0mX\u001b[0m\u001b[0;34m,\u001b[0m \u001b[0my\u001b[0m\u001b[0;34m,\u001b[0m \u001b[0mtrain\u001b[0m\u001b[0;34m,\u001b[0m \u001b[0mtest\u001b[0m\u001b[0;34m,\u001b[0m \u001b[0mscorer\u001b[0m\u001b[0;34m)\u001b[0m\u001b[0;34m\u001b[0m\u001b[0m\n\u001b[0;32m--> 430\u001b[0;31m             for train, test in cv.split(X, y))\n\u001b[0m\u001b[1;32m    431\u001b[0m \u001b[0;34m\u001b[0m\u001b[0m\n\u001b[1;32m    432\u001b[0m         \u001b[0mscores\u001b[0m \u001b[0;34m=\u001b[0m \u001b[0mnp\u001b[0m\u001b[0;34m.\u001b[0m\u001b[0msum\u001b[0m\u001b[0;34m(\u001b[0m\u001b[0mscores\u001b[0m\u001b[0;34m,\u001b[0m \u001b[0maxis\u001b[0m\u001b[0;34m=\u001b[0m\u001b[0;36m0\u001b[0m\u001b[0;34m)\u001b[0m\u001b[0;34m\u001b[0m\u001b[0m\n",
      "\u001b[0;32m/Users/janzaloudek/anaconda/lib/python3.6/site-packages/sklearn/feature_selection/rfe.py\u001b[0m in \u001b[0;36m_rfe_single_fit\u001b[0;34m(rfe, estimator, X, y, train, test, scorer)\u001b[0m\n\u001b[1;32m     28\u001b[0m     \u001b[0mX_test\u001b[0m\u001b[0;34m,\u001b[0m \u001b[0my_test\u001b[0m \u001b[0;34m=\u001b[0m \u001b[0m_safe_split\u001b[0m\u001b[0;34m(\u001b[0m\u001b[0mestimator\u001b[0m\u001b[0;34m,\u001b[0m \u001b[0mX\u001b[0m\u001b[0;34m,\u001b[0m \u001b[0my\u001b[0m\u001b[0;34m,\u001b[0m \u001b[0mtest\u001b[0m\u001b[0;34m,\u001b[0m \u001b[0mtrain\u001b[0m\u001b[0;34m)\u001b[0m\u001b[0;34m\u001b[0m\u001b[0m\n\u001b[1;32m     29\u001b[0m     return rfe._fit(\n\u001b[0;32m---> 30\u001b[0;31m         \u001b[0mX_train\u001b[0m\u001b[0;34m,\u001b[0m \u001b[0my_train\u001b[0m\u001b[0;34m,\u001b[0m \u001b[0;32mlambda\u001b[0m \u001b[0mestimator\u001b[0m\u001b[0;34m,\u001b[0m \u001b[0mfeatures\u001b[0m\u001b[0;34m:\u001b[0m\u001b[0;34m\u001b[0m\u001b[0m\n\u001b[0m\u001b[1;32m     31\u001b[0m         _score(estimator, X_test[:, features], y_test, scorer)).scores_\n\u001b[1;32m     32\u001b[0m \u001b[0;34m\u001b[0m\u001b[0m\n",
      "\u001b[0;32m/Users/janzaloudek/anaconda/lib/python3.6/site-packages/sklearn/feature_selection/rfe.py\u001b[0m in \u001b[0;36m_fit\u001b[0;34m(self, X, y, step_score)\u001b[0m\n\u001b[1;32m    167\u001b[0m                 \u001b[0mprint\u001b[0m\u001b[0;34m(\u001b[0m\u001b[0;34m\"Fitting estimator with %d features.\"\u001b[0m \u001b[0;34m%\u001b[0m \u001b[0mnp\u001b[0m\u001b[0;34m.\u001b[0m\u001b[0msum\u001b[0m\u001b[0;34m(\u001b[0m\u001b[0msupport_\u001b[0m\u001b[0;34m)\u001b[0m\u001b[0;34m)\u001b[0m\u001b[0;34m\u001b[0m\u001b[0m\n\u001b[1;32m    168\u001b[0m \u001b[0;34m\u001b[0m\u001b[0m\n\u001b[0;32m--> 169\u001b[0;31m             \u001b[0mestimator\u001b[0m\u001b[0;34m.\u001b[0m\u001b[0mfit\u001b[0m\u001b[0;34m(\u001b[0m\u001b[0mX\u001b[0m\u001b[0;34m[\u001b[0m\u001b[0;34m:\u001b[0m\u001b[0;34m,\u001b[0m \u001b[0mfeatures\u001b[0m\u001b[0;34m]\u001b[0m\u001b[0;34m,\u001b[0m \u001b[0my\u001b[0m\u001b[0;34m)\u001b[0m\u001b[0;34m\u001b[0m\u001b[0m\n\u001b[0m\u001b[1;32m    170\u001b[0m \u001b[0;34m\u001b[0m\u001b[0m\n\u001b[1;32m    171\u001b[0m             \u001b[0;31m# Get coefs\u001b[0m\u001b[0;34m\u001b[0m\u001b[0;34m\u001b[0m\u001b[0m\n",
      "\u001b[0;32m/Users/janzaloudek/anaconda/lib/python3.6/site-packages/sklearn/linear_model/logistic.py\u001b[0m in \u001b[0;36mfit\u001b[0;34m(self, X, y, sample_weight)\u001b[0m\n\u001b[1;32m   1184\u001b[0m                 \u001b[0mself\u001b[0m\u001b[0;34m.\u001b[0m\u001b[0mclass_weight\u001b[0m\u001b[0;34m,\u001b[0m \u001b[0mself\u001b[0m\u001b[0;34m.\u001b[0m\u001b[0mpenalty\u001b[0m\u001b[0;34m,\u001b[0m \u001b[0mself\u001b[0m\u001b[0;34m.\u001b[0m\u001b[0mdual\u001b[0m\u001b[0;34m,\u001b[0m \u001b[0mself\u001b[0m\u001b[0;34m.\u001b[0m\u001b[0mverbose\u001b[0m\u001b[0;34m,\u001b[0m\u001b[0;34m\u001b[0m\u001b[0m\n\u001b[1;32m   1185\u001b[0m                 \u001b[0mself\u001b[0m\u001b[0;34m.\u001b[0m\u001b[0mmax_iter\u001b[0m\u001b[0;34m,\u001b[0m \u001b[0mself\u001b[0m\u001b[0;34m.\u001b[0m\u001b[0mtol\u001b[0m\u001b[0;34m,\u001b[0m \u001b[0mself\u001b[0m\u001b[0;34m.\u001b[0m\u001b[0mrandom_state\u001b[0m\u001b[0;34m,\u001b[0m\u001b[0;34m\u001b[0m\u001b[0m\n\u001b[0;32m-> 1186\u001b[0;31m                 sample_weight=sample_weight)\n\u001b[0m\u001b[1;32m   1187\u001b[0m             \u001b[0mself\u001b[0m\u001b[0;34m.\u001b[0m\u001b[0mn_iter_\u001b[0m \u001b[0;34m=\u001b[0m \u001b[0mnp\u001b[0m\u001b[0;34m.\u001b[0m\u001b[0marray\u001b[0m\u001b[0;34m(\u001b[0m\u001b[0;34m[\u001b[0m\u001b[0mn_iter_\u001b[0m\u001b[0;34m]\u001b[0m\u001b[0;34m)\u001b[0m\u001b[0;34m\u001b[0m\u001b[0m\n\u001b[1;32m   1188\u001b[0m             \u001b[0;32mreturn\u001b[0m \u001b[0mself\u001b[0m\u001b[0;34m\u001b[0m\u001b[0m\n",
      "\u001b[0;32m/Users/janzaloudek/anaconda/lib/python3.6/site-packages/sklearn/svm/base.py\u001b[0m in \u001b[0;36m_fit_liblinear\u001b[0;34m(X, y, C, fit_intercept, intercept_scaling, class_weight, penalty, dual, verbose, max_iter, tol, random_state, multi_class, loss, epsilon, sample_weight)\u001b[0m\n\u001b[1;32m    910\u001b[0m         \u001b[0mX\u001b[0m\u001b[0;34m,\u001b[0m \u001b[0my_ind\u001b[0m\u001b[0;34m,\u001b[0m \u001b[0msp\u001b[0m\u001b[0;34m.\u001b[0m\u001b[0misspmatrix\u001b[0m\u001b[0;34m(\u001b[0m\u001b[0mX\u001b[0m\u001b[0;34m)\u001b[0m\u001b[0;34m,\u001b[0m \u001b[0msolver_type\u001b[0m\u001b[0;34m,\u001b[0m \u001b[0mtol\u001b[0m\u001b[0;34m,\u001b[0m \u001b[0mbias\u001b[0m\u001b[0;34m,\u001b[0m \u001b[0mC\u001b[0m\u001b[0;34m,\u001b[0m\u001b[0;34m\u001b[0m\u001b[0m\n\u001b[1;32m    911\u001b[0m         \u001b[0mclass_weight_\u001b[0m\u001b[0;34m,\u001b[0m \u001b[0mmax_iter\u001b[0m\u001b[0;34m,\u001b[0m \u001b[0mrnd\u001b[0m\u001b[0;34m.\u001b[0m\u001b[0mrandint\u001b[0m\u001b[0;34m(\u001b[0m\u001b[0mnp\u001b[0m\u001b[0;34m.\u001b[0m\u001b[0miinfo\u001b[0m\u001b[0;34m(\u001b[0m\u001b[0;34m'i'\u001b[0m\u001b[0;34m)\u001b[0m\u001b[0;34m.\u001b[0m\u001b[0mmax\u001b[0m\u001b[0;34m)\u001b[0m\u001b[0;34m,\u001b[0m\u001b[0;34m\u001b[0m\u001b[0m\n\u001b[0;32m--> 912\u001b[0;31m         epsilon, sample_weight)\n\u001b[0m\u001b[1;32m    913\u001b[0m     \u001b[0;31m# Regarding rnd.randint(..) in the above signature:\u001b[0m\u001b[0;34m\u001b[0m\u001b[0;34m\u001b[0m\u001b[0m\n\u001b[1;32m    914\u001b[0m     \u001b[0;31m# seed for srand in range [0..INT_MAX); due to limitations in Numpy\u001b[0m\u001b[0;34m\u001b[0m\u001b[0;34m\u001b[0m\u001b[0m\n",
      "\u001b[0;31mKeyboardInterrupt\u001b[0m: "
     ]
    }
   ],
   "source": [
    "rfecv = sklearn.feature_selection.RFECV(estimator=model1, step=1, cv=cv, scoring='recall') \n",
    "rfecv.fit(X_train, y_train.ravel())\n",
    "rfecv.score(X_test, y_test.ravel())"
   ]
  },
  {
   "cell_type": "code",
   "execution_count": null,
   "metadata": {
    "collapsed": true
   },
   "outputs": [],
   "source": [
    "y_pred = rfecv.predict(X_test)\n",
    "cm = confusion_matrix(y_test, y_pred)\n",
    "labelname = model1.classes_\n",
    "sns.heatmap(cm, annot=True,  fmt='', xticklabels=labelname, yticklabels=labelname)"
   ]
  },
  {
   "cell_type": "code",
   "execution_count": null,
   "metadata": {
    "collapsed": true
   },
   "outputs": [],
   "source": [
    "report = classification_report(y_test.ravel(), y_pred)\n",
    "print(report)"
   ]
  },
  {
   "cell_type": "code",
   "execution_count": null,
   "metadata": {
    "collapsed": true
   },
   "outputs": [],
   "source": [
    "y_pred_proba = rfecv.predict_proba(X_test)\n",
    "fpr, tpr, _ = sklearn.metrics.roc_curve(y_test, y_pred_proba[:,1])\n",
    "roc_rates = [fpr, tpr]\n",
    "auc = sklearn.metrics.auc(fpr, tpr)\n",
    "plt.title(\"Logistic Regression\", fontsize = 20)\n",
    "plt.xlabel(\"False positive rate\")\n",
    "plt.ylabel(\"True positive rate\")\n",
    "labelname = \"Logistic Regression\" + \", (area = %0.3f)\" % auc\n",
    "plt.plot(roc_rates[0], roc_rates[1], linewidth = 2, label = labelname)\n",
    "plt.legend(loc = 4)"
   ]
  },
  {
   "cell_type": "code",
   "execution_count": null,
   "metadata": {
    "collapsed": true
   },
   "outputs": [],
   "source": [
    "n_samples = X_train[:, rfecv.support_].shape[0]\n",
    "cv = cross_validation.ShuffleSplit(n_samples, n_iter=20, test_size=0.2, random_state=1)\n",
    "model = LogisticRegression()\n",
    "logloss = cross_validation.cross_val_score(model, X_train[:, rfecv.support_], y_train.ravel(), cv=cv, scoring='log_loss')\n",
    "print(-logloss.mean())"
   ]
  },
  {
   "cell_type": "code",
   "execution_count": null,
   "metadata": {
    "collapsed": true
   },
   "outputs": [],
   "source": [
    "sklearn.metrics.log_loss(y_test.ravel(), y_pred_proba[:,1])"
   ]
  },
  {
   "cell_type": "code",
   "execution_count": null,
   "metadata": {
    "collapsed": true
   },
   "outputs": [],
   "source": []
  }
 ],
 "metadata": {
  "kernelspec": {
   "display_name": "Python 3",
   "language": "python",
   "name": "python3"
  },
  "language_info": {
   "codemirror_mode": {
    "name": "ipython",
    "version": 3
   },
   "file_extension": ".py",
   "mimetype": "text/x-python",
   "name": "python",
   "nbconvert_exporter": "python",
   "pygments_lexer": "ipython3",
   "version": "3.6.0"
  }
 },
 "nbformat": 4,
 "nbformat_minor": 0
}
